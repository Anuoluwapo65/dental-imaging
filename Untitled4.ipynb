{
 "cells": [
  {
   "cell_type": "code",
   "execution_count": 1,
   "id": "d9ed18bd-cfda-4765-acdf-f673445241b1",
   "metadata": {},
   "outputs": [],
   "source": [
    "import pandas as pd"
   ]
  },
  {
   "cell_type": "code",
   "execution_count": 2,
   "id": "e5d47879-f706-452e-97a8-f4f6d63f5c56",
   "metadata": {},
   "outputs": [],
   "source": [
    "Name = [[34, \"Ronaldo\", 56], [33, \"lionel messi\", 44] , [ 28, \"Neymar\", 33]]\n",
    "\n",
    "clubs = [\"Al-alseers\", \"chicago\", \"Al-lilal\"]\n",
    "\n",
    "country = [\"portugal\", \"Argentina\", \"Brazil\"]\n",
    "\n",
    "df = pd.DataFrame(data = Name , index = clubs , columns = country)"
   ]
  },
  {
   "cell_type": "code",
   "execution_count": 3,
   "id": "a8b93926-98d5-435f-ab01-dd5dd36d23fb",
   "metadata": {},
   "outputs": [
    {
     "data": {
      "text/html": [
       "<div>\n",
       "<style scoped>\n",
       "    .dataframe tbody tr th:only-of-type {\n",
       "        vertical-align: middle;\n",
       "    }\n",
       "\n",
       "    .dataframe tbody tr th {\n",
       "        vertical-align: top;\n",
       "    }\n",
       "\n",
       "    .dataframe thead th {\n",
       "        text-align: right;\n",
       "    }\n",
       "</style>\n",
       "<table border=\"1\" class=\"dataframe\">\n",
       "  <thead>\n",
       "    <tr style=\"text-align: right;\">\n",
       "      <th></th>\n",
       "      <th>portugal</th>\n",
       "      <th>Argentina</th>\n",
       "      <th>Brazil</th>\n",
       "    </tr>\n",
       "  </thead>\n",
       "  <tbody>\n",
       "    <tr>\n",
       "      <th>Al-alseers</th>\n",
       "      <td>34</td>\n",
       "      <td>Ronaldo</td>\n",
       "      <td>56</td>\n",
       "    </tr>\n",
       "    <tr>\n",
       "      <th>chicago</th>\n",
       "      <td>33</td>\n",
       "      <td>lionel messi</td>\n",
       "      <td>44</td>\n",
       "    </tr>\n",
       "    <tr>\n",
       "      <th>Al-lilal</th>\n",
       "      <td>28</td>\n",
       "      <td>Neymar</td>\n",
       "      <td>33</td>\n",
       "    </tr>\n",
       "  </tbody>\n",
       "</table>\n",
       "</div>"
      ],
      "text/plain": [
       "            portugal     Argentina  Brazil\n",
       "Al-alseers        34       Ronaldo      56\n",
       "chicago           33  lionel messi      44\n",
       "Al-lilal          28        Neymar      33"
      ]
     },
     "execution_count": 3,
     "metadata": {},
     "output_type": "execute_result"
    }
   ],
   "source": [
    "df"
   ]
  },
  {
   "cell_type": "code",
   "execution_count": 4,
   "id": "79ff710b-84b4-4979-9161-a85fd7b84702",
   "metadata": {},
   "outputs": [
    {
     "data": {
      "text/html": [
       "<div>\n",
       "<style scoped>\n",
       "    .dataframe tbody tr th:only-of-type {\n",
       "        vertical-align: middle;\n",
       "    }\n",
       "\n",
       "    .dataframe tbody tr th {\n",
       "        vertical-align: top;\n",
       "    }\n",
       "\n",
       "    .dataframe thead th {\n",
       "        text-align: right;\n",
       "    }\n",
       "</style>\n",
       "<table border=\"1\" class=\"dataframe\">\n",
       "  <thead>\n",
       "    <tr style=\"text-align: right;\">\n",
       "      <th></th>\n",
       "      <th>portugal</th>\n",
       "      <th>Argentina</th>\n",
       "      <th>Brazil</th>\n",
       "    </tr>\n",
       "  </thead>\n",
       "  <tbody>\n",
       "    <tr>\n",
       "      <th>Al-alseers</th>\n",
       "      <td>34</td>\n",
       "      <td>Ronaldo</td>\n",
       "      <td>56</td>\n",
       "    </tr>\n",
       "    <tr>\n",
       "      <th>chicago</th>\n",
       "      <td>33</td>\n",
       "      <td>lionel messi</td>\n",
       "      <td>44</td>\n",
       "    </tr>\n",
       "    <tr>\n",
       "      <th>Al-lilal</th>\n",
       "      <td>28</td>\n",
       "      <td>Neymar</td>\n",
       "      <td>33</td>\n",
       "    </tr>\n",
       "  </tbody>\n",
       "</table>\n",
       "</div>"
      ],
      "text/plain": [
       "            portugal     Argentina  Brazil\n",
       "Al-alseers        34       Ronaldo      56\n",
       "chicago           33  lionel messi      44\n",
       "Al-lilal          28        Neymar      33"
      ]
     },
     "execution_count": 4,
     "metadata": {},
     "output_type": "execute_result"
    }
   ],
   "source": [
    "df.head()"
   ]
  },
  {
   "cell_type": "code",
   "execution_count": 5,
   "id": "6310115c-d824-41e4-a5bd-1b5a974d4bec",
   "metadata": {},
   "outputs": [
    {
     "data": {
      "text/html": [
       "<div>\n",
       "<style scoped>\n",
       "    .dataframe tbody tr th:only-of-type {\n",
       "        vertical-align: middle;\n",
       "    }\n",
       "\n",
       "    .dataframe tbody tr th {\n",
       "        vertical-align: top;\n",
       "    }\n",
       "\n",
       "    .dataframe thead th {\n",
       "        text-align: right;\n",
       "    }\n",
       "</style>\n",
       "<table border=\"1\" class=\"dataframe\">\n",
       "  <thead>\n",
       "    <tr style=\"text-align: right;\">\n",
       "      <th></th>\n",
       "      <th>portugal</th>\n",
       "      <th>Argentina</th>\n",
       "      <th>Brazil</th>\n",
       "    </tr>\n",
       "  </thead>\n",
       "  <tbody>\n",
       "    <tr>\n",
       "      <th>Al-alseers</th>\n",
       "      <td>34</td>\n",
       "      <td>Ronaldo</td>\n",
       "      <td>56</td>\n",
       "    </tr>\n",
       "    <tr>\n",
       "      <th>chicago</th>\n",
       "      <td>33</td>\n",
       "      <td>lionel messi</td>\n",
       "      <td>44</td>\n",
       "    </tr>\n",
       "    <tr>\n",
       "      <th>Al-lilal</th>\n",
       "      <td>28</td>\n",
       "      <td>Neymar</td>\n",
       "      <td>33</td>\n",
       "    </tr>\n",
       "  </tbody>\n",
       "</table>\n",
       "</div>"
      ],
      "text/plain": [
       "            portugal     Argentina  Brazil\n",
       "Al-alseers        34       Ronaldo      56\n",
       "chicago           33  lionel messi      44\n",
       "Al-lilal          28        Neymar      33"
      ]
     },
     "execution_count": 5,
     "metadata": {},
     "output_type": "execute_result"
    }
   ],
   "source": [
    "df.tail()"
   ]
  },
  {
   "cell_type": "code",
   "execution_count": 6,
   "id": "70fadfcf-7016-4001-8fa1-a9e40ae9fa21",
   "metadata": {},
   "outputs": [
    {
     "data": {
      "text/plain": [
       "<bound method NDFrame.describe of             portugal     Argentina  Brazil\n",
       "Al-alseers        34       Ronaldo      56\n",
       "chicago           33  lionel messi      44\n",
       "Al-lilal          28        Neymar      33>"
      ]
     },
     "execution_count": 6,
     "metadata": {},
     "output_type": "execute_result"
    }
   ],
   "source": [
    "df.describe"
   ]
  },
  {
   "cell_type": "code",
   "execution_count": 7,
   "id": "e812d9d4-4209-45c5-bc4d-167d256f8730",
   "metadata": {},
   "outputs": [
    {
     "data": {
      "text/plain": [
       "Index(['Al-alseers', 'chicago', 'Al-lilal'], dtype='object')"
      ]
     },
     "execution_count": 7,
     "metadata": {},
     "output_type": "execute_result"
    }
   ],
   "source": [
    "df.index"
   ]
  },
  {
   "cell_type": "code",
   "execution_count": 8,
   "id": "c22822fb-21ce-43d8-90df-60405770c56d",
   "metadata": {},
   "outputs": [
    {
     "data": {
      "text/plain": [
       "Index(['portugal', 'Argentina', 'Brazil'], dtype='object')"
      ]
     },
     "execution_count": 8,
     "metadata": {},
     "output_type": "execute_result"
    }
   ],
   "source": [
    "df.columns"
   ]
  },
  {
   "cell_type": "code",
   "execution_count": 9,
   "id": "12a7679c-4cf5-42ab-affc-c60240cfd6c7",
   "metadata": {},
   "outputs": [
    {
     "name": "stdout",
     "output_type": "stream",
     "text": [
      "<class 'pandas.core.frame.DataFrame'>\n",
      "Index: 3 entries, Al-alseers to Al-lilal\n",
      "Data columns (total 3 columns):\n",
      " #   Column     Non-Null Count  Dtype \n",
      "---  ------     --------------  ----- \n",
      " 0   portugal   3 non-null      int64 \n",
      " 1   Argentina  3 non-null      object\n",
      " 2   Brazil     3 non-null      int64 \n",
      "dtypes: int64(2), object(1)\n",
      "memory usage: 96.0+ bytes\n"
     ]
    }
   ],
   "source": [
    "df.info()"
   ]
  },
  {
   "cell_type": "code",
   "execution_count": 10,
   "id": "20ba4837-35a6-4ee7-98b9-b466a3fca753",
   "metadata": {},
   "outputs": [
    {
     "data": {
      "text/html": [
       "<div>\n",
       "<style scoped>\n",
       "    .dataframe tbody tr th:only-of-type {\n",
       "        vertical-align: middle;\n",
       "    }\n",
       "\n",
       "    .dataframe tbody tr th {\n",
       "        vertical-align: top;\n",
       "    }\n",
       "\n",
       "    .dataframe thead th {\n",
       "        text-align: right;\n",
       "    }\n",
       "</style>\n",
       "<table border=\"1\" class=\"dataframe\">\n",
       "  <thead>\n",
       "    <tr style=\"text-align: right;\">\n",
       "      <th></th>\n",
       "      <th>portugal</th>\n",
       "      <th>Argentina</th>\n",
       "      <th>Brazil</th>\n",
       "    </tr>\n",
       "  </thead>\n",
       "  <tbody>\n",
       "    <tr>\n",
       "      <th>Al-alseers</th>\n",
       "      <td>34</td>\n",
       "      <td>Ronaldo</td>\n",
       "      <td>56</td>\n",
       "    </tr>\n",
       "    <tr>\n",
       "      <th>chicago</th>\n",
       "      <td>33</td>\n",
       "      <td>lionel messi</td>\n",
       "      <td>44</td>\n",
       "    </tr>\n",
       "    <tr>\n",
       "      <th>Al-lilal</th>\n",
       "      <td>28</td>\n",
       "      <td>Neymar</td>\n",
       "      <td>33</td>\n",
       "    </tr>\n",
       "  </tbody>\n",
       "</table>\n",
       "</div>"
      ],
      "text/plain": [
       "            portugal     Argentina  Brazil\n",
       "Al-alseers        34       Ronaldo      56\n",
       "chicago           33  lionel messi      44\n",
       "Al-lilal          28        Neymar      33"
      ]
     },
     "execution_count": 10,
     "metadata": {},
     "output_type": "execute_result"
    }
   ],
   "source": [
    "df.sort_values(\"portugal\", ascending=False)"
   ]
  },
  {
   "cell_type": "code",
   "execution_count": 11,
   "id": "b5363ad3-1560-4d28-83cb-3e29d0ed5496",
   "metadata": {},
   "outputs": [
    {
     "data": {
      "text/plain": [
       "(3, 3)"
      ]
     },
     "execution_count": 11,
     "metadata": {},
     "output_type": "execute_result"
    }
   ],
   "source": [
    "df.shape"
   ]
  },
  {
   "cell_type": "code",
   "execution_count": 12,
   "id": "eece0dd5-82c8-4c2f-96cb-e4f96dafd70a",
   "metadata": {},
   "outputs": [],
   "source": [
    "Name = {\"Age\":[34, 31,29], \"name\" : [\"Christiano Ronaldo\", \"Lionel Messi\", \"Neymar\"], \"country\": [\"Portugal\", \"Argentina\", \"Brazil\"]}\n",
    "\n",
    "total = [\"Ronaldo\", \"Messi\", \"Neymar\"]\n",
    "\n",
    "df = pd.DataFrame(data= Name, index = total)"
   ]
  },
  {
   "cell_type": "code",
   "execution_count": 13,
   "id": "ea315ae1-3fab-48b6-a31b-d8f4606ac57c",
   "metadata": {},
   "outputs": [
    {
     "data": {
      "text/html": [
       "<div>\n",
       "<style scoped>\n",
       "    .dataframe tbody tr th:only-of-type {\n",
       "        vertical-align: middle;\n",
       "    }\n",
       "\n",
       "    .dataframe tbody tr th {\n",
       "        vertical-align: top;\n",
       "    }\n",
       "\n",
       "    .dataframe thead th {\n",
       "        text-align: right;\n",
       "    }\n",
       "</style>\n",
       "<table border=\"1\" class=\"dataframe\">\n",
       "  <thead>\n",
       "    <tr style=\"text-align: right;\">\n",
       "      <th></th>\n",
       "      <th>Age</th>\n",
       "      <th>name</th>\n",
       "      <th>country</th>\n",
       "    </tr>\n",
       "  </thead>\n",
       "  <tbody>\n",
       "    <tr>\n",
       "      <th>Ronaldo</th>\n",
       "      <td>34</td>\n",
       "      <td>Christiano Ronaldo</td>\n",
       "      <td>Portugal</td>\n",
       "    </tr>\n",
       "    <tr>\n",
       "      <th>Messi</th>\n",
       "      <td>31</td>\n",
       "      <td>Lionel Messi</td>\n",
       "      <td>Argentina</td>\n",
       "    </tr>\n",
       "    <tr>\n",
       "      <th>Neymar</th>\n",
       "      <td>29</td>\n",
       "      <td>Neymar</td>\n",
       "      <td>Brazil</td>\n",
       "    </tr>\n",
       "  </tbody>\n",
       "</table>\n",
       "</div>"
      ],
      "text/plain": [
       "         Age                name    country\n",
       "Ronaldo   34  Christiano Ronaldo   Portugal\n",
       "Messi     31        Lionel Messi  Argentina\n",
       "Neymar    29              Neymar     Brazil"
      ]
     },
     "execution_count": 13,
     "metadata": {},
     "output_type": "execute_result"
    }
   ],
   "source": [
    "df"
   ]
  },
  {
   "cell_type": "code",
   "execution_count": 14,
   "id": "1aa878aa-87fb-4a8f-9127-2c59ccced82c",
   "metadata": {},
   "outputs": [],
   "source": [
    "import numpy as np"
   ]
  },
  {
   "cell_type": "code",
   "execution_count": 15,
   "id": "adbbd833-9fa7-4bea-90da-4d584a5a4e5f",
   "metadata": {},
   "outputs": [
    {
     "name": "stdout",
     "output_type": "stream",
     "text": [
      "[[115  21  53 161]\n",
      " [ 63 131 115 191]\n",
      " [ 64 108   8  97]]\n"
     ]
    }
   ],
   "source": [
    "My_data = np.random.randint(2,202,(3,4))\n",
    "print(My_data)\n",
    "                            "
   ]
  },
  {
   "cell_type": "code",
   "execution_count": 34,
   "id": "5554d6e5-48a0-45ae-9897-455c4f7f412d",
   "metadata": {},
   "outputs": [],
   "source": [
    "index = [\"Nigeria\", \"Brazil\", \"China\"]\n",
    "columns = [\"coco nut\", \"rice\", \"beans\",\"fish\"]\n",
    "\n",
    "df = pd.DataFrame(data=My_data, index =index, columns = columns)"
   ]
  },
  {
   "cell_type": "code",
   "execution_count": 36,
   "id": "0b1c94bb-2c10-4d99-8343-62c7d091b018",
   "metadata": {},
   "outputs": [
    {
     "data": {
      "text/html": [
       "<div>\n",
       "<style scoped>\n",
       "    .dataframe tbody tr th:only-of-type {\n",
       "        vertical-align: middle;\n",
       "    }\n",
       "\n",
       "    .dataframe tbody tr th {\n",
       "        vertical-align: top;\n",
       "    }\n",
       "\n",
       "    .dataframe thead th {\n",
       "        text-align: right;\n",
       "    }\n",
       "</style>\n",
       "<table border=\"1\" class=\"dataframe\">\n",
       "  <thead>\n",
       "    <tr style=\"text-align: right;\">\n",
       "      <th></th>\n",
       "      <th>coco nut</th>\n",
       "      <th>rice</th>\n",
       "      <th>beans</th>\n",
       "      <th>fish</th>\n",
       "    </tr>\n",
       "  </thead>\n",
       "  <tbody>\n",
       "    <tr>\n",
       "      <th>Nigeria</th>\n",
       "      <td>115</td>\n",
       "      <td>21</td>\n",
       "      <td>53</td>\n",
       "      <td>161</td>\n",
       "    </tr>\n",
       "    <tr>\n",
       "      <th>Brazil</th>\n",
       "      <td>63</td>\n",
       "      <td>131</td>\n",
       "      <td>115</td>\n",
       "      <td>191</td>\n",
       "    </tr>\n",
       "    <tr>\n",
       "      <th>China</th>\n",
       "      <td>64</td>\n",
       "      <td>108</td>\n",
       "      <td>8</td>\n",
       "      <td>97</td>\n",
       "    </tr>\n",
       "  </tbody>\n",
       "</table>\n",
       "</div>"
      ],
      "text/plain": [
       "         coco nut  rice  beans  fish\n",
       "Nigeria       115    21     53   161\n",
       "Brazil         63   131    115   191\n",
       "China          64   108      8    97"
      ]
     },
     "execution_count": 36,
     "metadata": {},
     "output_type": "execute_result"
    }
   ],
   "source": [
    "df"
   ]
  },
  {
   "cell_type": "code",
   "execution_count": 38,
   "id": "6f54b52c-7792-49a4-a8a4-d00a0cdb8988",
   "metadata": {},
   "outputs": [],
   "source": [
    "Name = np.random.randint(3,44,(4,4))\n",
    "index = [\"Abidoye\", \"Aanuoluwapo\", \"samuel\", \"Holuwagbotemi\"]\n",
    "columns = [\"Nigeria\", \"united_state_of_America\", \"canada\", \"Germany\"]\n",
    "\n",
    "df = pd.DataFrame(Name,index=index,columns=columns)"
   ]
  },
  {
   "cell_type": "code",
   "execution_count": 40,
   "id": "0c36e9c0-ff95-49b0-a917-fa5b1f831403",
   "metadata": {},
   "outputs": [
    {
     "data": {
      "text/html": [
       "<div>\n",
       "<style scoped>\n",
       "    .dataframe tbody tr th:only-of-type {\n",
       "        vertical-align: middle;\n",
       "    }\n",
       "\n",
       "    .dataframe tbody tr th {\n",
       "        vertical-align: top;\n",
       "    }\n",
       "\n",
       "    .dataframe thead th {\n",
       "        text-align: right;\n",
       "    }\n",
       "</style>\n",
       "<table border=\"1\" class=\"dataframe\">\n",
       "  <thead>\n",
       "    <tr style=\"text-align: right;\">\n",
       "      <th></th>\n",
       "      <th>Nigeria</th>\n",
       "      <th>united_state_of_America</th>\n",
       "      <th>canada</th>\n",
       "      <th>Germany</th>\n",
       "    </tr>\n",
       "  </thead>\n",
       "  <tbody>\n",
       "    <tr>\n",
       "      <th>Abidoye</th>\n",
       "      <td>11</td>\n",
       "      <td>12</td>\n",
       "      <td>41</td>\n",
       "      <td>20</td>\n",
       "    </tr>\n",
       "    <tr>\n",
       "      <th>Aanuoluwapo</th>\n",
       "      <td>34</td>\n",
       "      <td>35</td>\n",
       "      <td>39</td>\n",
       "      <td>40</td>\n",
       "    </tr>\n",
       "    <tr>\n",
       "      <th>samuel</th>\n",
       "      <td>18</td>\n",
       "      <td>7</td>\n",
       "      <td>12</td>\n",
       "      <td>20</td>\n",
       "    </tr>\n",
       "    <tr>\n",
       "      <th>Holuwagbotemi</th>\n",
       "      <td>25</td>\n",
       "      <td>3</td>\n",
       "      <td>8</td>\n",
       "      <td>42</td>\n",
       "    </tr>\n",
       "  </tbody>\n",
       "</table>\n",
       "</div>"
      ],
      "text/plain": [
       "               Nigeria  united_state_of_America  canada  Germany\n",
       "Abidoye             11                       12      41       20\n",
       "Aanuoluwapo         34                       35      39       40\n",
       "samuel              18                        7      12       20\n",
       "Holuwagbotemi       25                        3       8       42"
      ]
     },
     "execution_count": 40,
     "metadata": {},
     "output_type": "execute_result"
    }
   ],
   "source": [
    "df"
   ]
  },
  {
   "cell_type": "code",
   "execution_count": 42,
   "id": "50b6f26d-f524-4a12-ba91-8f0cc2c3cdad",
   "metadata": {},
   "outputs": [
    {
     "data": {
      "text/plain": [
       "Index(['Nigeria', 'united_state_of_America', 'canada', 'Germany'], dtype='object')"
      ]
     },
     "execution_count": 42,
     "metadata": {},
     "output_type": "execute_result"
    }
   ],
   "source": [
    "df.columns"
   ]
  },
  {
   "cell_type": "code",
   "execution_count": 44,
   "id": "35e4dcb8-4643-4682-af98-edaa24eed9bb",
   "metadata": {},
   "outputs": [
    {
     "data": {
      "text/plain": [
       "Index(['Abidoye', 'Aanuoluwapo', 'samuel', 'Holuwagbotemi'], dtype='object')"
      ]
     },
     "execution_count": 44,
     "metadata": {},
     "output_type": "execute_result"
    }
   ],
   "source": [
    "df.index"
   ]
  },
  {
   "cell_type": "code",
   "execution_count": 46,
   "id": "d1f12655-b75f-45d1-b89e-acb4049552ff",
   "metadata": {},
   "outputs": [
    {
     "name": "stdout",
     "output_type": "stream",
     "text": [
      "<class 'pandas.core.frame.DataFrame'>\n",
      "Index: 4 entries, Abidoye to Holuwagbotemi\n",
      "Data columns (total 4 columns):\n",
      " #   Column                   Non-Null Count  Dtype\n",
      "---  ------                   --------------  -----\n",
      " 0   Nigeria                  4 non-null      int32\n",
      " 1   united_state_of_America  4 non-null      int32\n",
      " 2   canada                   4 non-null      int32\n",
      " 3   Germany                  4 non-null      int32\n",
      "dtypes: int32(4)\n",
      "memory usage: 96.0+ bytes\n"
     ]
    }
   ],
   "source": [
    "df.info()"
   ]
  },
  {
   "cell_type": "code",
   "execution_count": 48,
   "id": "85135b20-cb60-46e2-81f5-041b4f2acad4",
   "metadata": {},
   "outputs": [
    {
     "data": {
      "text/plain": [
       "<bound method NDFrame.describe of                Nigeria  united_state_of_America  canada  Germany\n",
       "Abidoye             11                       12      41       20\n",
       "Aanuoluwapo         34                       35      39       40\n",
       "samuel              18                        7      12       20\n",
       "Holuwagbotemi       25                        3       8       42>"
      ]
     },
     "execution_count": 48,
     "metadata": {},
     "output_type": "execute_result"
    }
   ],
   "source": [
    "df.describe"
   ]
  },
  {
   "cell_type": "code",
   "execution_count": 50,
   "id": "d6d32a33-04c5-4aa8-bd56-36d54769f308",
   "metadata": {},
   "outputs": [],
   "source": [
    "my_data = np.random.randint(1,101,(3,4))\n",
    "index = [\"Africa\", \"Europe\", \"Asia\"]\n",
    "columns = [\"Nigeria\", \"Ghana\", \"Germany\", \"China\"]\n",
    "\n",
    "df = pd.DataFrame(my_data, index=index, columns=columns)"
   ]
  },
  {
   "cell_type": "code",
   "execution_count": 52,
   "id": "bb1ec919-4367-4090-b06d-bf149af91a58",
   "metadata": {},
   "outputs": [
    {
     "data": {
      "text/html": [
       "<div>\n",
       "<style scoped>\n",
       "    .dataframe tbody tr th:only-of-type {\n",
       "        vertical-align: middle;\n",
       "    }\n",
       "\n",
       "    .dataframe tbody tr th {\n",
       "        vertical-align: top;\n",
       "    }\n",
       "\n",
       "    .dataframe thead th {\n",
       "        text-align: right;\n",
       "    }\n",
       "</style>\n",
       "<table border=\"1\" class=\"dataframe\">\n",
       "  <thead>\n",
       "    <tr style=\"text-align: right;\">\n",
       "      <th></th>\n",
       "      <th>Nigeria</th>\n",
       "      <th>Ghana</th>\n",
       "      <th>Germany</th>\n",
       "      <th>China</th>\n",
       "    </tr>\n",
       "  </thead>\n",
       "  <tbody>\n",
       "    <tr>\n",
       "      <th>Africa</th>\n",
       "      <td>69</td>\n",
       "      <td>26</td>\n",
       "      <td>96</td>\n",
       "      <td>47</td>\n",
       "    </tr>\n",
       "    <tr>\n",
       "      <th>Europe</th>\n",
       "      <td>45</td>\n",
       "      <td>97</td>\n",
       "      <td>43</td>\n",
       "      <td>69</td>\n",
       "    </tr>\n",
       "    <tr>\n",
       "      <th>Asia</th>\n",
       "      <td>63</td>\n",
       "      <td>43</td>\n",
       "      <td>90</td>\n",
       "      <td>16</td>\n",
       "    </tr>\n",
       "  </tbody>\n",
       "</table>\n",
       "</div>"
      ],
      "text/plain": [
       "        Nigeria  Ghana  Germany  China\n",
       "Africa       69     26       96     47\n",
       "Europe       45     97       43     69\n",
       "Asia         63     43       90     16"
      ]
     },
     "execution_count": 52,
     "metadata": {},
     "output_type": "execute_result"
    }
   ],
   "source": [
    "df"
   ]
  },
  {
   "cell_type": "code",
   "execution_count": 58,
   "id": "13468cf6-d811-4142-adb9-02f8291fbc4e",
   "metadata": {},
   "outputs": [],
   "source": [
    "Name = {\"name\":[\"Abidoye\", \"Samuel\", \"Aanuoluwapo\"], \"Age\":[24, 23, 22],\"colour\":[\"Red\", \"Green\", \"Brown\"]}\n",
    "index = [\"Dark\", \"lanky\", \"short\"]\n",
    "columns = [\"resilience\", \"courage\", \"Never give up\"]\n",
    "\n",
    "\n",
    "df = pd.DataFrame(Name, index=index)"
   ]
  },
  {
   "cell_type": "code",
   "execution_count": 60,
   "id": "627e2cc5-3309-49e2-8937-ba882d3522c4",
   "metadata": {},
   "outputs": [
    {
     "data": {
      "text/html": [
       "<div>\n",
       "<style scoped>\n",
       "    .dataframe tbody tr th:only-of-type {\n",
       "        vertical-align: middle;\n",
       "    }\n",
       "\n",
       "    .dataframe tbody tr th {\n",
       "        vertical-align: top;\n",
       "    }\n",
       "\n",
       "    .dataframe thead th {\n",
       "        text-align: right;\n",
       "    }\n",
       "</style>\n",
       "<table border=\"1\" class=\"dataframe\">\n",
       "  <thead>\n",
       "    <tr style=\"text-align: right;\">\n",
       "      <th></th>\n",
       "      <th>name</th>\n",
       "      <th>Age</th>\n",
       "      <th>colour</th>\n",
       "    </tr>\n",
       "  </thead>\n",
       "  <tbody>\n",
       "    <tr>\n",
       "      <th>Dark</th>\n",
       "      <td>Abidoye</td>\n",
       "      <td>24</td>\n",
       "      <td>Red</td>\n",
       "    </tr>\n",
       "    <tr>\n",
       "      <th>lanky</th>\n",
       "      <td>Samuel</td>\n",
       "      <td>23</td>\n",
       "      <td>Green</td>\n",
       "    </tr>\n",
       "    <tr>\n",
       "      <th>short</th>\n",
       "      <td>Aanuoluwapo</td>\n",
       "      <td>22</td>\n",
       "      <td>Brown</td>\n",
       "    </tr>\n",
       "  </tbody>\n",
       "</table>\n",
       "</div>"
      ],
      "text/plain": [
       "              name  Age colour\n",
       "Dark       Abidoye   24    Red\n",
       "lanky       Samuel   23  Green\n",
       "short  Aanuoluwapo   22  Brown"
      ]
     },
     "execution_count": 60,
     "metadata": {},
     "output_type": "execute_result"
    }
   ],
   "source": [
    "df"
   ]
  },
  {
   "cell_type": "code",
   "execution_count": 62,
   "id": "3a1ab5b4-c879-4292-aeae-8c25ba01b3f0",
   "metadata": {},
   "outputs": [],
   "source": [
    "Name = {\"name\":[\"Abidoye\", \"Samuel\", \"Aanuoluwapo\"], \"age\":[22,24,21], \"colour\":[\"Red\", \"Brown\", \"yellow\"]}\n",
    "\n",
    "index = [\"Nigeria\", \"Switzersland\", \"Ghana\"]\n",
    "\n",
    "df = pd.DataFrame(Name, index=index)"
   ]
  },
  {
   "cell_type": "code",
   "execution_count": 64,
   "id": "cc2a2c48-e0dc-476b-b711-8523a889ba85",
   "metadata": {},
   "outputs": [
    {
     "data": {
      "text/html": [
       "<div>\n",
       "<style scoped>\n",
       "    .dataframe tbody tr th:only-of-type {\n",
       "        vertical-align: middle;\n",
       "    }\n",
       "\n",
       "    .dataframe tbody tr th {\n",
       "        vertical-align: top;\n",
       "    }\n",
       "\n",
       "    .dataframe thead th {\n",
       "        text-align: right;\n",
       "    }\n",
       "</style>\n",
       "<table border=\"1\" class=\"dataframe\">\n",
       "  <thead>\n",
       "    <tr style=\"text-align: right;\">\n",
       "      <th></th>\n",
       "      <th>name</th>\n",
       "      <th>age</th>\n",
       "      <th>colour</th>\n",
       "    </tr>\n",
       "  </thead>\n",
       "  <tbody>\n",
       "    <tr>\n",
       "      <th>Nigeria</th>\n",
       "      <td>Abidoye</td>\n",
       "      <td>22</td>\n",
       "      <td>Red</td>\n",
       "    </tr>\n",
       "    <tr>\n",
       "      <th>Switzersland</th>\n",
       "      <td>Samuel</td>\n",
       "      <td>24</td>\n",
       "      <td>Brown</td>\n",
       "    </tr>\n",
       "    <tr>\n",
       "      <th>Ghana</th>\n",
       "      <td>Aanuoluwapo</td>\n",
       "      <td>21</td>\n",
       "      <td>yellow</td>\n",
       "    </tr>\n",
       "  </tbody>\n",
       "</table>\n",
       "</div>"
      ],
      "text/plain": [
       "                     name  age  colour\n",
       "Nigeria           Abidoye   22     Red\n",
       "Switzersland       Samuel   24   Brown\n",
       "Ghana         Aanuoluwapo   21  yellow"
      ]
     },
     "execution_count": 64,
     "metadata": {},
     "output_type": "execute_result"
    }
   ],
   "source": [
    "df"
   ]
  },
  {
   "cell_type": "code",
   "execution_count": 1,
   "id": "6bd0bc1f-ddb0-4179-82af-75a9e21fdbf1",
   "metadata": {},
   "outputs": [],
   "source": [
    "import matplotlib.pyplot as plt"
   ]
  },
  {
   "cell_type": "code",
   "execution_count": 3,
   "id": "90f0be28-6c0c-4535-bc98-36e4f911418e",
   "metadata": {},
   "outputs": [],
   "source": [
    "import numpy as np"
   ]
  },
  {
   "cell_type": "code",
   "execution_count": 9,
   "id": "005aae9a-e9e2-4af4-93e1-ad9c80d8f8f7",
   "metadata": {},
   "outputs": [
    {
     "data": {
      "image/png": "[encoded data removed]",
      "text/plain": [
       "<Figure size 640x480 with 1 Axes>"
      ]
     },
     "metadata": {},
     "output_type": "display_data"
    }
   ],
   "source": [
    "name = {\"Abidoye\":2, \"Aanuoluwapo\":6, \"samuel\":7,\"Holuwagbotemi\":8, \"Hanuoluwapo\":5}\n",
    "y_name = name.values()\n",
    "x_name = name.keys()\n",
    "z_name = np.arange(len(name))\n",
    "\n",
    "plt.bar(z_name, y_name, alpha=0.6)\n",
    "plt.xticks(z_name, x_name)\n",
    "plt.ylabel(y_name)\n",
    "plt.title(\"God's name must be glorified\")\n",
    "plt.show()"
   ]
  },
  {
   "cell_type": "code",
   "execution_count": null,
   "id": "947f1811-9d50-45bc-ad75-ae7c5073d7a4",
   "metadata": {},
   "outputs": [],
   "source": []
  }
 ],
 "metadata": {
  "kernelspec": {
   "display_name": "Python 3 (ipykernel)",
   "language": "python",
   "name": "python3"
  },
  "language_info": {
   "codemirror_mode": {
    "name": "ipython",
    "version": 3
   },
   "file_extension": ".py",
   "mimetype": "text/x-python",
   "name": "python",
   "nbconvert_exporter": "python",
   "pygments_lexer": "ipython3",
   "version": "3.12.7"
  }
 },
 "nbformat": 4,
 "nbformat_minor": 5
}
