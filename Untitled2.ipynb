{
 "cells": [
  {
   "cell_type": "code",
   "execution_count": 9,
   "id": "5265b580-ece5-45ae-88d4-ce3bee770763",
   "metadata": {},
   "outputs": [
    {
     "name": "stdout",
     "output_type": "stream",
     "text": [
      "12\n"
     ]
    }
   ],
   "source": [
    "def calculate_total(a,b):\n",
    "    total = a+b\n",
    "    return total\n",
    "\n",
    "result = calculate_total(7,5)\n",
    "print(result)"
   ]
  },
  {
   "cell_type": "code",
   "execution_count": 11,
   "id": "4f8851db-a1e4-40af-aff1-5f679cc9c94c",
   "metadata": {},
   "outputs": [
    {
     "name": "stdout",
     "output_type": "stream",
     "text": [
      "35\n"
     ]
    }
   ],
   "source": [
    "def calculate_total(c,f):\n",
    "    total = c*f\n",
    "    return total \n",
    "result = calculate_total(5,7)\n",
    "print(result)"
   ]
  },
  {
   "cell_type": "code",
   "execution_count": 13,
   "id": "81a601cf-5241-4f3d-bbb7-cc7905c86fd1",
   "metadata": {},
   "outputs": [],
   "source": [
    "def greeting(name):\n",
    "    print(\"Hello\" + name)\n",
    "    result = greet(\"Allice\")\n",
    "    print(result)"
   ]
  },
  {
   "cell_type": "code",
   "execution_count": 17,
   "id": "62eafb85-acb7-49a6-af10-c8d68ce43c14",
   "metadata": {},
   "outputs": [],
   "source": [
    "def multiply(a,b):\n",
    "    return a*b\n",
    "    sum_result = mult(3,5)\n",
    "    print(sum_result)\n",
    "    "
   ]
  },
  {
   "cell_type": "code",
   "execution_count": 19,
   "id": "82b03a1b-17ed-42ca-9d3c-26edce48e0cb",
   "metadata": {},
   "outputs": [],
   "source": [
    "def example_function():\n",
    "    local_variable = \"I'm local\"\n",
    "    print(local_variable)\n",
    "    print(global_variable)"
   ]
  },
  {
   "cell_type": "code",
   "execution_count": 21,
   "id": "86727144-e443-4425-9b4e-da23db439508",
   "metadata": {},
   "outputs": [],
   "source": [
    "def print_numbers(limit):\n",
    "    for i in range(1, limit+1):\n",
    "        print(i)"
   ]
  },
  {
   "cell_type": "markdown",
   "id": "e8b0fc81-3c86-436d-bcbf-564bf5fb00af",
   "metadata": {},
   "source": [
    "## TRY...EXCEPT STATEMENT"
   ]
  },
  {
   "cell_type": "code",
   "execution_count": 26,
   "id": "90fb5081-63da-4aaa-a126-65cbb8b4a145",
   "metadata": {},
   "outputs": [
    {
     "name": "stdout",
     "output_type": "stream",
     "text": [
      "Unable to open or read the data in the file.\n"
     ]
    }
   ],
   "source": [
    "try:\n",
    "    getfile = open(\"myfile\", \"r\")\n",
    "    getfile.write(\"myfile for exception handling.\")\n",
    "except IOError:\n",
    "    print(\"Unable to open or read the data in the file.\")\n",
    "except:\n",
    "    print(\"some other error occurred!\")"
   ]
  },
  {
   "cell_type": "code",
   "execution_count": 41,
   "id": "ab7977b1-0e38-4848-8711-6254bb0de1e7",
   "metadata": {},
   "outputs": [
    {
     "name": "stdout",
     "output_type": "stream",
     "text": [
      "unable to open or read the data in the file.\n"
     ]
    }
   ],
   "source": [
    "try:\n",
    "    getfile = open(\"myfile\", \"r\")\n",
    "    getfile.write(\"myfile for exception handling.\")\n",
    "except IOError:\n",
    "    print(\"unable to open or read the data in the file.\")\n",
    "except:\n",
    "    print(\"some other error occurred\")\n",
    "    \n",
    "    "
   ]
  },
  {
   "cell_type": "code",
   "execution_count": 43,
   "id": "08640dad-deb6-4864-bbcb-1d5bd6b34ecf",
   "metadata": {},
   "outputs": [
    {
     "name": "stdout",
     "output_type": "stream",
     "text": [
      "some other error occurred\n"
     ]
    }
   ],
   "source": [
    "try:\n",
    "    getfile = open (\"myfile\", \"r\")\n",
    "    getfile.write(\"myfile for exception handling\")\n",
    "except ValueError:\n",
    "    print(\"it was a mistaken made by my computer\")\n",
    "except:\n",
    "    print(\"some other error occurred\")\n",
    "    \n",
    "    "
   ]
  },
  {
   "cell_type": "code",
   "execution_count": 49,
   "id": "1aa62579-5e95-4b1d-9e39-f6054ea3b62c",
   "metadata": {},
   "outputs": [
    {
     "name": "stdout",
     "output_type": "stream",
     "text": [
      "it was mean to be substracted from the sum\n"
     ]
    }
   ],
   "source": [
    "try:\n",
    "    getfile = open(\"myfile\",\"r\")\n",
    "    getfile.write(\"myfile for missing handling\")\n",
    "except ArithmeticError:\n",
    " print(\"it was mean to be added together\")\n",
    "except:\n",
    " print(\"it was mean to be substracted from the sum\")"
   ]
  },
  {
   "cell_type": "markdown",
   "id": "431e392e-ad47-4344-ac3d-5f440bfebef8",
   "metadata": {},
   "source": [
    "## objects and classes"
   ]
  },
  {
   "cell_type": "code",
   "execution_count": null,
   "id": "f833affe-ff56-4aaa-9973-dade698b2c83",
   "metadata": {},
   "outputs": [],
   "source": []
  }
 ],
 "metadata": {
  "kernelspec": {
   "display_name": "Python 3 (ipykernel)",
   "language": "python",
   "name": "python3"
  },
  "language_info": {
   "codemirror_mode": {
    "name": "ipython",
    "version": 3
   },
   "file_extension": ".py",
   "mimetype": "text/x-python",
   "name": "python",
   "nbconvert_exporter": "python",
   "pygments_lexer": "ipython3",
   "version": "3.12.7"
  }
 },
 "nbformat": 4,
 "nbformat_minor": 5
}
