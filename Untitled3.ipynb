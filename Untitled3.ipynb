{
 "cells": [
  {
   "cell_type": "markdown",
   "id": "e46a3081-d14f-4344-bc28-86370e83aef9",
   "metadata": {},
   "source": [
    "## Data structures quick recap"
   ]
  },
  {
   "cell_type": "code",
   "execution_count": 89,
   "id": "8c31d7da-c105-461a-a8e7-d8a5c3b5deaf",
   "metadata": {},
   "outputs": [],
   "source": [
    "## list \n",
    "\n",
    "x = (\"Aanuoluwapo\", \"Abidoye\", \"Obafemi awolowo university\")"
   ]
  },
  {
   "cell_type": "code",
   "execution_count": 3,
   "id": "f1195348-776c-4bfb-84b7-889f3f23c3e8",
   "metadata": {},
   "outputs": [
    {
     "name": "stdout",
     "output_type": "stream",
     "text": [
      "('Aanuoluwapo', 'Abidoye', 'Obafemi awolowo university')\n"
     ]
    }
   ],
   "source": [
    "print(x)"
   ]
  },
  {
   "cell_type": "code",
   "execution_count": 4,
   "id": "170b761b-ef62-4705-820f-fb95926c773f",
   "metadata": {},
   "outputs": [
    {
     "name": "stdout",
     "output_type": "stream",
     "text": [
      "['Aanuoluwapo', 'Abidoye', 'Obafemi awolowo university']\n"
     ]
    }
   ],
   "source": [
    "y = list(x)\n",
    "print(y)"
   ]
  },
  {
   "cell_type": "code",
   "execution_count": 5,
   "id": "b8ab206c-efc1-4f01-b715-622b6fafd347",
   "metadata": {},
   "outputs": [
    {
     "data": {
      "text/plain": [
       "'Abidoye'"
      ]
     },
     "execution_count": 5,
     "metadata": {},
     "output_type": "execute_result"
    }
   ],
   "source": [
    "x[1]"
   ]
  },
  {
   "cell_type": "code",
   "execution_count": 6,
   "id": "35a57a65-fe9b-477d-afcb-d6e884d0057d",
   "metadata": {},
   "outputs": [
    {
     "data": {
      "text/plain": [
       "'Obafemi awolowo university'"
      ]
     },
     "execution_count": 6,
     "metadata": {},
     "output_type": "execute_result"
    }
   ],
   "source": [
    "x[2]"
   ]
  },
  {
   "cell_type": "code",
   "execution_count": 7,
   "id": "6168ccdb-0de2-497c-a5c1-9d0b1271717a",
   "metadata": {},
   "outputs": [
    {
     "name": "stdout",
     "output_type": "stream",
     "text": [
      "Aanuoluwapo\n",
      "Abidoye\n",
      "Obafemi awolowo university\n"
     ]
    }
   ],
   "source": [
    "for y in x:\n",
    "    print(y)"
   ]
  },
  {
   "cell_type": "code",
   "execution_count": 8,
   "id": "b57e436d-4f3b-47a9-9a76-43e981d8e644",
   "metadata": {},
   "outputs": [
    {
     "name": "stdout",
     "output_type": "stream",
     "text": [
      "0\n",
      "Aanuoluwapo\n",
      "1\n",
      "Abidoye\n",
      "2\n",
      "Obafemi awolowo university\n"
     ]
    }
   ],
   "source": [
    "for x, y in enumerate(x):\n",
    "    print(x)\n",
    "    print(y)"
   ]
  },
  {
   "cell_type": "code",
   "execution_count": 9,
   "id": "bfca371d-50e8-434a-921c-5598e27d62c6",
   "metadata": {},
   "outputs": [],
   "source": [
    "## Tuples"
   ]
  },
  {
   "cell_type": "code",
   "execution_count": 10,
   "id": "86c21326-40d2-4de4-9e11-7ece5b5211f3",
   "metadata": {},
   "outputs": [],
   "source": [
    "x = [\"Aanuoluwapo\", \"Abidoye\", \"Samuel\", \"Holuwagbotemi\", \"Hanuoluwapo\", \"Exousia\"]"
   ]
  },
  {
   "cell_type": "code",
   "execution_count": 11,
   "id": "0d69918d-7e77-411a-ab41-f6702bf13173",
   "metadata": {},
   "outputs": [
    {
     "name": "stdout",
     "output_type": "stream",
     "text": [
      "['Aanuoluwapo', 'Abidoye', 'Samuel', 'Holuwagbotemi', 'Hanuoluwapo', 'Exousia']\n"
     ]
    }
   ],
   "source": [
    "print(x)"
   ]
  },
  {
   "cell_type": "code",
   "execution_count": 12,
   "id": "4d6ab1b6-cc2b-4beb-b3f8-fcde1403e9ee",
   "metadata": {},
   "outputs": [],
   "source": [
    "x.append(\"Gbotemi\")"
   ]
  },
  {
   "cell_type": "code",
   "execution_count": 13,
   "id": "1ff62b27-6dfb-46c2-b3dc-0513845a55a6",
   "metadata": {},
   "outputs": [
    {
     "data": {
      "text/plain": [
       "['Aanuoluwapo',\n",
       " 'Abidoye',\n",
       " 'Samuel',\n",
       " 'Holuwagbotemi',\n",
       " 'Hanuoluwapo',\n",
       " 'Exousia',\n",
       " 'Gbotemi']"
      ]
     },
     "execution_count": 13,
     "metadata": {},
     "output_type": "execute_result"
    }
   ],
   "source": [
    "x"
   ]
  },
  {
   "cell_type": "code",
   "execution_count": 14,
   "id": "4997f691-1653-4fc9-8713-4be5e7aaacea",
   "metadata": {},
   "outputs": [],
   "source": [
    "x.remove(\"Abidoye\")"
   ]
  },
  {
   "cell_type": "code",
   "execution_count": 15,
   "id": "a66d48d2-cf30-42bb-8703-2de387f66206",
   "metadata": {},
   "outputs": [],
   "source": [
    "del(x[1:2])"
   ]
  },
  {
   "cell_type": "code",
   "execution_count": 16,
   "id": "9b33dd69-2fc3-4415-b700-fccbe527f384",
   "metadata": {},
   "outputs": [
    {
     "data": {
      "text/plain": [
       "['Aanuoluwapo', 'Holuwagbotemi', 'Hanuoluwapo', 'Exousia', 'Gbotemi']"
      ]
     },
     "execution_count": 16,
     "metadata": {},
     "output_type": "execute_result"
    }
   ],
   "source": [
    "x"
   ]
  },
  {
   "cell_type": "code",
   "execution_count": 17,
   "id": "d4da25fa-aa12-4384-8106-c4bf1cfb36cf",
   "metadata": {},
   "outputs": [],
   "source": [
    "x.insert(3,\"Isinkaye\")"
   ]
  },
  {
   "cell_type": "code",
   "execution_count": 18,
   "id": "2167deb2-180b-401f-ba2b-ccbd9dc4a190",
   "metadata": {},
   "outputs": [
    {
     "name": "stdout",
     "output_type": "stream",
     "text": [
      "['Aanuoluwapo', 'Holuwagbotemi', 'Hanuoluwapo', 'Isinkaye', 'Exousia', 'Gbotemi']\n"
     ]
    }
   ],
   "source": [
    "print(x)"
   ]
  },
  {
   "cell_type": "code",
   "execution_count": 19,
   "id": "f95096f5-defd-4682-bbfe-50c9c87666de",
   "metadata": {},
   "outputs": [],
   "source": [
    "y = [\"Praise\", \"finsayo\",\"Medicine\"]"
   ]
  },
  {
   "cell_type": "code",
   "execution_count": 20,
   "id": "c4331379-cf12-465c-b8c1-895c5cac50b9",
   "metadata": {},
   "outputs": [],
   "source": [
    "x.extend(y)"
   ]
  },
  {
   "cell_type": "code",
   "execution_count": 22,
   "id": "96660c38-e9bb-44b6-873d-3624c5cec29f",
   "metadata": {},
   "outputs": [
    {
     "data": {
      "text/plain": [
       "'Hanuoluwapo'"
      ]
     },
     "execution_count": 22,
     "metadata": {},
     "output_type": "execute_result"
    }
   ],
   "source": [
    "x.pop(2)"
   ]
  },
  {
   "cell_type": "code",
   "execution_count": 23,
   "id": "a069c020-3d58-492e-a912-5dc17a711fad",
   "metadata": {},
   "outputs": [
    {
     "data": {
      "text/plain": [
       "['Isinkaye', 'Exousia']"
      ]
     },
     "execution_count": 23,
     "metadata": {},
     "output_type": "execute_result"
    }
   ],
   "source": [
    "x[2:4]"
   ]
  },
  {
   "cell_type": "code",
   "execution_count": 24,
   "id": "248ece71-25d4-4ef2-aa35-8e612a8db5d8",
   "metadata": {},
   "outputs": [],
   "source": [
    "del(x[2:4])"
   ]
  },
  {
   "cell_type": "code",
   "execution_count": 25,
   "id": "cc330936-363e-4854-832c-482f3051bd94",
   "metadata": {},
   "outputs": [
    {
     "data": {
      "text/plain": [
       "['Aanuoluwapo', 'Holuwagbotemi', 'Gbotemi', 'Praise', 'finsayo', 'Medicine']"
      ]
     },
     "execution_count": 25,
     "metadata": {},
     "output_type": "execute_result"
    }
   ],
   "source": [
    "x"
   ]
  },
  {
   "cell_type": "code",
   "execution_count": 26,
   "id": "fffa9495-99a3-4a31-bd33-08bae9ef850d",
   "metadata": {},
   "outputs": [],
   "source": [
    "## set"
   ]
  },
  {
   "cell_type": "code",
   "execution_count": 57,
   "id": "a36fa2a6-817f-485b-b415-d2dd159aeceb",
   "metadata": {},
   "outputs": [],
   "source": [
    "x = {\"Abidoye\", \"Samuel\", \"Aanuoluwapo\", \"Dentistry\", \"University of obafemi awolowo university\"}"
   ]
  },
  {
   "cell_type": "raw",
   "id": "ce06269b-507a-4773-a664-d2a7b9bcfe92",
   "metadata": {},
   "source": [
    "print(x)"
   ]
  },
  {
   "cell_type": "code",
   "execution_count": 59,
   "id": "4a6a41ee-f679-429b-874d-e6974d2d9cd0",
   "metadata": {},
   "outputs": [],
   "source": [
    "x = {\"Abidoye\", \"dentistry\", \"samuel\",\"university of obafemi awolowo university\"}"
   ]
  },
  {
   "cell_type": "code",
   "execution_count": 61,
   "id": "8a497c52-9a65-47a8-8cd4-881d7a13135e",
   "metadata": {},
   "outputs": [
    {
     "name": "stdout",
     "output_type": "stream",
     "text": [
      "{'dentistry', 'Abidoye', 'samuel', 'university of obafemi awolowo university'}\n"
     ]
    }
   ],
   "source": [
    "print(x)"
   ]
  },
  {
   "cell_type": "code",
   "execution_count": 63,
   "id": "d237ae71-758c-469f-be5d-24674a19aeb1",
   "metadata": {},
   "outputs": [],
   "source": [
    "y = {\"Abidoye\", \"Aanuoluwapo\", \"Dentistry\", \"university of ibadan\"}"
   ]
  },
  {
   "cell_type": "code",
   "execution_count": 65,
   "id": "9ec72d40-73c4-410b-b3d5-7510268fd482",
   "metadata": {},
   "outputs": [
    {
     "data": {
      "text/plain": [
       "{'Aanuoluwapo',\n",
       " 'Abidoye',\n",
       " 'Dentistry',\n",
       " 'dentistry',\n",
       " 'samuel',\n",
       " 'university of ibadan',\n",
       " 'university of obafemi awolowo university'}"
      ]
     },
     "execution_count": 65,
     "metadata": {},
     "output_type": "execute_result"
    }
   ],
   "source": [
    "x.union(y)"
   ]
  },
  {
   "cell_type": "code",
   "execution_count": 67,
   "id": "4f7dfec7-41cd-4c3a-9418-8fa35cdb0aa6",
   "metadata": {},
   "outputs": [
    {
     "data": {
      "text/plain": [
       "{'dentistry', 'samuel', 'university of obafemi awolowo university'}"
      ]
     },
     "execution_count": 67,
     "metadata": {},
     "output_type": "execute_result"
    }
   ],
   "source": [
    "x.difference(y)"
   ]
  },
  {
   "cell_type": "code",
   "execution_count": 71,
   "id": "d9f160dc-b1a3-470b-a4e6-66300e90497a",
   "metadata": {},
   "outputs": [
    {
     "data": {
      "text/plain": [
       "{'Abidoye'}"
      ]
     },
     "execution_count": 71,
     "metadata": {},
     "output_type": "execute_result"
    }
   ],
   "source": [
    "x.intersection(y)"
   ]
  },
  {
   "cell_type": "code",
   "execution_count": 73,
   "id": "0551def3-f559-4500-8ce3-5d9d74579e6f",
   "metadata": {},
   "outputs": [],
   "source": [
    "y = list(x)"
   ]
  },
  {
   "cell_type": "code",
   "execution_count": 75,
   "id": "b6436a38-eb24-4a7d-86fc-e4189761b101",
   "metadata": {},
   "outputs": [
    {
     "data": {
      "text/plain": [
       "['dentistry', 'Abidoye', 'samuel', 'university of obafemi awolowo university']"
      ]
     },
     "execution_count": 75,
     "metadata": {},
     "output_type": "execute_result"
    }
   ],
   "source": [
    "y"
   ]
  },
  {
   "cell_type": "code",
   "execution_count": 77,
   "id": "87134969-8132-4e91-99d7-39e09766cd85",
   "metadata": {},
   "outputs": [],
   "source": [
    "y = set(x)"
   ]
  },
  {
   "cell_type": "code",
   "execution_count": 79,
   "id": "054948d0-9021-4d8e-a79d-5589350e0d83",
   "metadata": {},
   "outputs": [
    {
     "name": "stdout",
     "output_type": "stream",
     "text": [
      "{'dentistry', 'Abidoye', 'samuel', 'university of obafemi awolowo university'}\n"
     ]
    }
   ],
   "source": [
    "print(y)"
   ]
  },
  {
   "cell_type": "code",
   "execution_count": 81,
   "id": "e7e1ec3e-6bd0-4161-a791-f98ee8cac483",
   "metadata": {},
   "outputs": [],
   "source": [
    "x.update(y)"
   ]
  },
  {
   "cell_type": "code",
   "execution_count": 83,
   "id": "46bb0741-600c-4993-8609-c126b3c95afd",
   "metadata": {},
   "outputs": [
    {
     "name": "stdout",
     "output_type": "stream",
     "text": [
      "{'dentistry', 'university of obafemi awolowo university', 'samuel', 'Abidoye'}\n"
     ]
    }
   ],
   "source": [
    "print(x)"
   ]
  },
  {
   "cell_type": "code",
   "execution_count": 97,
   "id": "e68d665d-4e36-46f8-adc3-1af6f4fc39f7",
   "metadata": {},
   "outputs": [
    {
     "name": "stdout",
     "output_type": "stream",
     "text": [
      "['Aanuoluwapo', 'Abidoye', 'cdl']\n"
     ]
    }
   ],
   "source": [
    "y = [\"Abidoye\", \"Aanuoluwapo\", \"cdl\"]\n",
    "x = sorted(y)\n",
    "print(x)"
   ]
  },
  {
   "cell_type": "code",
   "execution_count": 103,
   "id": "21e10be7-6100-46be-b343-41ec8ba1e9b4",
   "metadata": {},
   "outputs": [],
   "source": [
    "x.sort()"
   ]
  },
  {
   "cell_type": "code",
   "execution_count": 105,
   "id": "7008a520-8287-48e6-8a2d-efcdbf0fb463",
   "metadata": {},
   "outputs": [
    {
     "name": "stdout",
     "output_type": "stream",
     "text": [
      "['Aanuoluwapo', 'Abidoye', 'cdl']\n"
     ]
    }
   ],
   "source": [
    "print(x)"
   ]
  },
  {
   "cell_type": "code",
   "execution_count": 107,
   "id": "9c7ddd89-37bf-4ccf-8b92-cb3685ee5f08",
   "metadata": {},
   "outputs": [],
   "source": [
    "## Dictionary"
   ]
  },
  {
   "cell_type": "code",
   "execution_count": 109,
   "id": "8497676d-333d-409f-a8bc-e24c418338d1",
   "metadata": {},
   "outputs": [],
   "source": [
    "x = {\"Abidoye\":\"Samuel\", \"Isinkaye\":\"Finsayo\", \"fagbola\":\"benita\",\"gbadamosi\":\"Ayomide\"}"
   ]
  },
  {
   "cell_type": "code",
   "execution_count": 111,
   "id": "8a6c7924-1bb4-442e-a32b-80f91a7ab388",
   "metadata": {},
   "outputs": [
    {
     "data": {
      "text/plain": [
       "{'Abidoye': 'Samuel',\n",
       " 'Isinkaye': 'Finsayo',\n",
       " 'fagbola': 'benita',\n",
       " 'gbadamosi': 'Ayomide'}"
      ]
     },
     "execution_count": 111,
     "metadata": {},
     "output_type": "execute_result"
    }
   ],
   "source": [
    "x"
   ]
  },
  {
   "cell_type": "code",
   "execution_count": 113,
   "id": "646d577d-b263-45ef-a611-46010760a481",
   "metadata": {},
   "outputs": [
    {
     "data": {
      "text/plain": [
       "'Samuel'"
      ]
     },
     "execution_count": 113,
     "metadata": {},
     "output_type": "execute_result"
    }
   ],
   "source": [
    "x[\"Abidoye\"]"
   ]
  },
  {
   "cell_type": "code",
   "execution_count": 119,
   "id": "5786f7b1-98ff-4591-8ba6-54dce9e1e792",
   "metadata": {},
   "outputs": [
    {
     "data": {
      "text/plain": [
       "'Finsayo'"
      ]
     },
     "execution_count": 119,
     "metadata": {},
     "output_type": "execute_result"
    }
   ],
   "source": [
    "x[\"Isinkaye\"]"
   ]
  },
  {
   "cell_type": "code",
   "execution_count": 125,
   "id": "17336e08-6075-4559-a24b-6475dcb6ea6a",
   "metadata": {},
   "outputs": [],
   "source": [
    "x[\"Obafemi awolowo university\"] = \"Dentistry\""
   ]
  },
  {
   "cell_type": "code",
   "execution_count": 127,
   "id": "f3f55960-2a7e-41b1-96d7-94c58f017963",
   "metadata": {},
   "outputs": [
    {
     "data": {
      "text/plain": [
       "{'Abidoye': 'Samuel',\n",
       " 'Isinkaye': 'Finsayo',\n",
       " 'fagbola': 'benita',\n",
       " 'gbadamosi': 'Ayomide',\n",
       " 'Obafemi awolowo university': 'Dentistry'}"
      ]
     },
     "execution_count": 127,
     "metadata": {},
     "output_type": "execute_result"
    }
   ],
   "source": [
    "x"
   ]
  },
  {
   "cell_type": "code",
   "execution_count": 131,
   "id": "30e360e9-73de-4a92-beb4-bd766f050d54",
   "metadata": {},
   "outputs": [],
   "source": [
    "del(x[\"fagbola\"])"
   ]
  },
  {
   "cell_type": "code",
   "execution_count": 133,
   "id": "54b651e8-a1d2-4f37-a3c2-d3f67de55ead",
   "metadata": {},
   "outputs": [
    {
     "data": {
      "text/plain": [
       "{'Abidoye': 'Samuel',\n",
       " 'Isinkaye': 'Finsayo',\n",
       " 'gbadamosi': 'Ayomide',\n",
       " 'Obafemi awolowo university': 'Dentistry'}"
      ]
     },
     "execution_count": 133,
     "metadata": {},
     "output_type": "execute_result"
    }
   ],
   "source": [
    "x"
   ]
  },
  {
   "cell_type": "code",
   "execution_count": 135,
   "id": "0a8b8e01-efdb-4e1f-8b28-8c61d1b305c8",
   "metadata": {},
   "outputs": [
    {
     "data": {
      "text/plain": [
       "dict"
      ]
     },
     "execution_count": 135,
     "metadata": {},
     "output_type": "execute_result"
    }
   ],
   "source": [
    "type(x)"
   ]
  },
  {
   "cell_type": "code",
   "execution_count": 137,
   "id": "cebfc892-1581-4203-bcd6-5ced006cd6b4",
   "metadata": {},
   "outputs": [],
   "source": [
    "## loops"
   ]
  },
  {
   "cell_type": "code",
   "execution_count": 141,
   "id": "40fe9a4b-d102-49f3-89da-92182e867604",
   "metadata": {},
   "outputs": [],
   "source": [
    "squares = [\"yellow\", \"Red\", \"Green\", \"yellow\"]"
   ]
  },
  {
   "cell_type": "code",
   "execution_count": 143,
   "id": "a270116c-3597-4f1e-98d6-53adba7dbda6",
   "metadata": {},
   "outputs": [
    {
     "name": "stdout",
     "output_type": "stream",
     "text": [
      "['yellow', 'Red', 'Green', 'yellow']\n"
     ]
    }
   ],
   "source": [
    "print(squares)"
   ]
  },
  {
   "cell_type": "code",
   "execution_count": 145,
   "id": "84349c8d-00e0-4f07-bf32-047ee403ccd4",
   "metadata": {},
   "outputs": [
    {
     "name": "stdout",
     "output_type": "stream",
     "text": [
      "['yellow', 'Red', 'Green', 'yellow']\n",
      "['yellow', 'Red', 'Green', 'yellow']\n",
      "['yellow', 'Red', 'Green', 'yellow']\n",
      "['yellow', 'Red', 'Green', 'yellow']\n"
     ]
    }
   ],
   "source": [
    "for square in squares:\n",
    "    print(squares)"
   ]
  },
  {
   "cell_type": "code",
   "execution_count": 147,
   "id": "726b1c9b-f9b2-41a2-a356-85acb1ab5dd5",
   "metadata": {},
   "outputs": [
    {
     "name": "stdout",
     "output_type": "stream",
     "text": [
      "0\n",
      "1\n",
      "2\n",
      "3\n",
      "4\n",
      "5\n",
      "6\n",
      "7\n",
      "8\n",
      "9\n",
      "10\n",
      "11\n",
      "12\n",
      "13\n",
      "14\n",
      "15\n",
      "16\n",
      "17\n",
      "18\n",
      "19\n",
      "20\n",
      "21\n",
      "22\n",
      "23\n",
      "24\n",
      "25\n",
      "26\n",
      "27\n",
      "28\n",
      "29\n",
      "30\n",
      "31\n",
      "32\n",
      "33\n"
     ]
    }
   ],
   "source": [
    "for x in range(0,34):\n",
    "    print(x)"
   ]
  },
  {
   "cell_type": "code",
   "execution_count": 151,
   "id": "717dec3f-46e6-4930-8e63-56a5e67b6f43",
   "metadata": {},
   "outputs": [
    {
     "name": "stdout",
     "output_type": "stream",
     "text": [
      "2\n",
      "3\n",
      "4\n",
      "5\n",
      "6\n",
      "7\n",
      "8\n",
      "9\n",
      "10\n",
      "11\n",
      "12\n",
      "13\n",
      "14\n",
      "15\n",
      "16\n",
      "17\n",
      "18\n",
      "19\n",
      "20\n",
      "21\n"
     ]
    }
   ],
   "source": [
    "for y in range(2,22):\n",
    "    print(y)"
   ]
  },
  {
   "cell_type": "code",
   "execution_count": 153,
   "id": "c3c3430a-87ca-45fc-8a81-19c583aa207a",
   "metadata": {},
   "outputs": [
    {
     "name": "stdout",
     "output_type": "stream",
     "text": [
      "2\n"
     ]
    }
   ],
   "source": [
    "for y in range(2,4,18):\n",
    "    print(y)"
   ]
  },
  {
   "cell_type": "code",
   "execution_count": 155,
   "id": "18280063-a8b8-4343-bc8b-aea42f26a8d0",
   "metadata": {},
   "outputs": [
    {
     "name": "stdout",
     "output_type": "stream",
     "text": [
      "AA\n",
      "BA\n",
      "CA\n",
      "DA\n"
     ]
    }
   ],
   "source": [
    "x = [\"A\", \"B\", \"C\", \"D\"]\n",
    "for y in x:\n",
    "    print(y + \"A\")"
   ]
  },
  {
   "cell_type": "code",
   "execution_count": 157,
   "id": "d480b0e3-8a15-4419-ae23-77de9bf5ed12",
   "metadata": {},
   "outputs": [
    {
     "name": "stdout",
     "output_type": "stream",
     "text": [
      "ddee\n",
      "eeee\n",
      "rree\n"
     ]
    }
   ],
   "source": [
    "v = [\"dd\", \"ee\", \"rr\"]\n",
    "for x in v:\n",
    "    print(x + \"ee\")"
   ]
  },
  {
   "cell_type": "code",
   "execution_count": 159,
   "id": "9f26be10-6d68-4a77-a66b-65220dc22706",
   "metadata": {},
   "outputs": [
    {
     "name": "stdout",
     "output_type": "stream",
     "text": [
      "45\n",
      "46\n",
      "47\n",
      "48\n",
      "49\n",
      "50\n",
      "51\n",
      "52\n",
      "53\n",
      "54\n"
     ]
    }
   ],
   "source": [
    "number = 45\n",
    "while number< 55:\n",
    "    print(number)\n",
    "    number += 1\n",
    "    "
   ]
  },
  {
   "cell_type": "code",
   "execution_count": 161,
   "id": "0b3d60cf-07da-4734-b315-61645a6ff5bb",
   "metadata": {},
   "outputs": [
    {
     "name": "stdout",
     "output_type": "stream",
     "text": [
      "67\n",
      "69\n",
      "71\n",
      "73\n",
      "75\n",
      "77\n",
      "79\n",
      "81\n",
      "83\n",
      "85\n",
      "87\n",
      "89\n",
      "91\n",
      "93\n",
      "95\n",
      "97\n",
      "99\n"
     ]
    }
   ],
   "source": [
    "classification = 67\n",
    "while classification< 100:\n",
    "    print(classification)\n",
    "    classification += 2"
   ]
  },
  {
   "cell_type": "code",
   "execution_count": 165,
   "id": "6b6d5538-0302-460a-a8e8-8c19646a1faf",
   "metadata": {},
   "outputs": [
    {
     "name": "stdout",
     "output_type": "stream",
     "text": [
      "[12, 14, 17, 32, 35, 56, 89, 990]\n"
     ]
    }
   ],
   "source": [
    "Album_ratings = [12,14,17,35,56,89,32,990]\n",
    "album_ratings = sorted(Album_ratings)\n",
    "print(album_ratings)"
   ]
  },
  {
   "cell_type": "code",
   "execution_count": 167,
   "id": "4b9155e9-8306-43d3-934f-a5cae6926e1d",
   "metadata": {},
   "outputs": [],
   "source": [
    "album_ratings.sort()"
   ]
  },
  {
   "cell_type": "code",
   "execution_count": 169,
   "id": "99b2a1b2-3c80-4985-8b3c-13ac19b5e718",
   "metadata": {},
   "outputs": [
    {
     "name": "stdout",
     "output_type": "stream",
     "text": [
      "[12, 14, 17, 32, 35, 56, 89, 990]\n"
     ]
    }
   ],
   "source": [
    "print(album_ratings)"
   ]
  },
  {
   "cell_type": "markdown",
   "id": "f5adf198-1e5c-4916-86c5-0dc26ea3a3a8",
   "metadata": {},
   "source": [
    "## FUNCTIONS"
   ]
  },
  {
   "cell_type": "code",
   "execution_count": 172,
   "id": "93882606-4c09-461a-9295-e1c44abb43ad",
   "metadata": {},
   "outputs": [
    {
     "name": "stdout",
     "output_type": "stream",
     "text": [
      "1904\n"
     ]
    }
   ],
   "source": [
    "def classification(x,y):\n",
    "    total = x*y\n",
    "    return total\n",
    "\n",
    "result = classification(34,56)\n",
    "print(result)"
   ]
  },
  {
   "cell_type": "code",
   "execution_count": 186,
   "id": "f0f60a9e-8015-4c50-bd3b-bf728ec3a61a",
   "metadata": {},
   "outputs": [],
   "source": [
    "def classification(blue,red):\n",
    "    total = blue/red\n",
    "    return total\n",
    "    result = classification(3546/456)\n",
    "    print(result)"
   ]
  },
  {
   "cell_type": "code",
   "execution_count": 188,
   "id": "2f006401-7e9e-4f00-b26b-92f9c93a9b39",
   "metadata": {},
   "outputs": [],
   "source": [
    "def local_variable(x,y):\n",
    "    total = x* y\n",
    "    return total\n",
    "    result = local_variable(34,77)\n",
    "    print(result)"
   ]
  },
  {
   "cell_type": "markdown",
   "id": "5cf2d725-1b30-4374-b4b1-17efc7449bdd",
   "metadata": {},
   "source": [
    "## CONDITIONAL STATEMENTS"
   ]
  },
  {
   "cell_type": "code",
   "execution_count": 191,
   "id": "8a5841b0-7e34-4fa6-ae1b-0cdf3aeb9bd2",
   "metadata": {},
   "outputs": [
    {
     "name": "stdout",
     "output_type": "stream",
     "text": [
      "the number is too small\n"
     ]
    }
   ],
   "source": [
    "x = 45\n",
    "if x >=77:\n",
    "    print(\"the number is too much\")\n",
    "else:\n",
    "    print(\"the number is too small\")"
   ]
  },
  {
   "cell_type": "code",
   "execution_count": 193,
   "id": "34565aad-d57c-49da-96fd-7b225c17ee41",
   "metadata": {},
   "outputs": [
    {
     "name": "stdout",
     "output_type": "stream",
     "text": [
      "your age limit will be considered\n"
     ]
    }
   ],
   "source": [
    "y = 45\n",
    "if y >=77:\n",
    "    print(\"your age limit will not be considered\")\n",
    "else:\n",
    "    print(\"your age limit will be considered\")"
   ]
  },
  {
   "cell_type": "code",
   "execution_count": 195,
   "id": "368de1d3-b367-4314-b807-f6c893d522d2",
   "metadata": {},
   "outputs": [
    {
     "name": "stdout",
     "output_type": "stream",
     "text": [
      "be sincerely speaking to God almightly\n"
     ]
    }
   ],
   "source": [
    "y = 45\n",
    "if y ==56:\n",
    "    print(\"you are lying to your lecturers\")\n",
    "elif y==45:\n",
    "    print(\"be sincerely speaking to God almightly\")\n",
    "else:\n",
    "    print(\"you can keep lying as long as you are smart\")"
   ]
  },
  {
   "cell_type": "code",
   "execution_count": 201,
   "id": "bf92f1ec-c779-44a0-a5b1-1753efab9f9e",
   "metadata": {},
   "outputs": [
    {
     "name": "stdout",
     "output_type": "stream",
     "text": [
      "congratulations you are admitted\n"
     ]
    }
   ],
   "source": [
    "y = 45\n",
    "if y > 56 or y < 55:\n",
    "    print(\"congratulations you are admitted\")\n",
    "else:\n",
    "    print(\"your age does not tally with the record will have with us\")"
   ]
  },
  {
   "cell_type": "code",
   "execution_count": 205,
   "id": "b3bc5667-5b30-4532-b896-3d368923a889",
   "metadata": {},
   "outputs": [
    {
     "name": "stdout",
     "output_type": "stream",
     "text": [
      "congratulation you are admitted to stanford grad's school\n"
     ]
    }
   ],
   "source": [
    "y = 67\n",
    "if y ==56 or y!=69:\n",
    "    print(\"congratulation you are admitted to stanford grad's school\")\n",
    "else:\n",
    "    print(\"your documents are not complete to proceeds for grad's school\")"
   ]
  },
  {
   "cell_type": "code",
   "execution_count": 211,
   "id": "6f783be0-b1f2-4461-a7ee-9a2f6c2fe431",
   "metadata": {},
   "outputs": [],
   "source": [
    "is_disturbed_undergraduate = True\n",
    "if not is_disturbed_undergraduate :\n",
    "    send_documented(\"to this contact\")\n"
   ]
  },
  {
   "cell_type": "code",
   "execution_count": 213,
   "id": "f623864d-e8db-457d-ba2f-ae42de4610ca",
   "metadata": {},
   "outputs": [],
   "source": [
    "paining = True\n",
    "if not paining:\n",
    "    send_growth(\"you need to leave your comfort zone\")"
   ]
  },
  {
   "cell_type": "markdown",
   "id": "88eb63a1-2781-4811-a083-a1aea9476cf7",
   "metadata": {},
   "source": [
    "## CLASS "
   ]
  },
  {
   "cell_type": "code",
   "execution_count": null,
   "id": "84586951-37f5-4a30-b0ca-a0faa305647f",
   "metadata": {},
   "outputs": [],
   "source": []
  }
 ],
 "metadata": {
  "kernelspec": {
   "display_name": "Python 3 (ipykernel)",
   "language": "python",
   "name": "python3"
  },
  "language_info": {
   "codemirror_mode": {
    "name": "ipython",
    "version": 3
   },
   "file_extension": ".py",
   "mimetype": "text/x-python",
   "name": "python",
   "nbconvert_exporter": "python",
   "pygments_lexer": "ipython3",
   "version": "3.12.7"
  }
 },
 "nbformat": 4,
 "nbformat_minor": 5
}
