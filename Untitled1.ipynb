{
 "cells": [
  {
   "cell_type": "markdown",
   "id": "fc4a3889-aebe-44a4-b354-2da4b07b110e",
   "metadata": {},
   "source": [
    "## Conditioning and Branching"
   ]
  },
  {
   "cell_type": "code",
   "execution_count": 2,
   "id": "d33734d5-be96-4214-83e3-b4a30fb1af29",
   "metadata": {},
   "outputs": [
    {
     "name": "stdout",
     "output_type": "stream",
     "text": [
      "you can enter\n",
      "pass on to the next phase\n"
     ]
    }
   ],
   "source": [
    "age = 57\n",
    "if(age>34):\n",
    "    print(\"you can enter\")\n",
    "    print(\"pass on to the next phase\")"
   ]
  },
  {
   "cell_type": "code",
   "execution_count": 3,
   "id": "63f7e1c8-28f4-4dab-9fe7-dda7c05ed0be",
   "metadata": {},
   "outputs": [],
   "source": [
    "age =67\n",
    "if(age<14):\n",
    "    print(\"this is not my real age\")\n",
    "    print(\"my real age is 64\")"
   ]
  },
  {
   "cell_type": "code",
   "execution_count": 4,
   "id": "e96d1e68-d6a7-495e-997d-8a468a1147c1",
   "metadata": {},
   "outputs": [
    {
     "name": "stdout",
     "output_type": "stream",
     "text": [
      "you can move\n"
     ]
    }
   ],
   "source": [
    "age = 18\n",
    "if age <16:\n",
    "    print(\"you can enter\")\n",
    "else:\n",
    "    print(\"you can move\")"
   ]
  },
  {
   "cell_type": "code",
   "execution_count": 5,
   "id": "7cfc619d-4395-47bf-b22b-7377e5316306",
   "metadata": {},
   "outputs": [
    {
     "name": "stdout",
     "output_type": "stream",
     "text": [
      "you are welcome\n"
     ]
    }
   ],
   "source": [
    "age = 56\n",
    "if age>=45:\n",
    "    print(\"you are welcome\")\n",
    "else:\n",
    "    print(\"you are not eligible\")"
   ]
  },
  {
   "cell_type": "code",
   "execution_count": 6,
   "id": "d61d5084-10ea-456c-973d-ef2e93bc94e1",
   "metadata": {},
   "outputs": [
    {
     "name": "stdout",
     "output_type": "stream",
     "text": [
      "move to the next phase\n"
     ]
    }
   ],
   "source": [
    "age = 56\n",
    "if age<45:\n",
    "    print(\"you are not allow to enter\")\n",
    "elif (age==35):\n",
    "    print(\"you are not eligble\")\n",
    "else:\n",
    "    print(\"move to the next phase\")"
   ]
  },
  {
   "cell_type": "code",
   "execution_count": 7,
   "id": "e5cdcbe2-1cfe-4df1-8128-c5ea7750fc6f",
   "metadata": {},
   "outputs": [
    {
     "name": "stdout",
     "output_type": "stream",
     "text": [
      "you are eligble to enter\n"
     ]
    }
   ],
   "source": [
    "age = 56\n",
    "if age<56:\n",
    "    print(\"it does not matter\")\n",
    "elif(age==56): \n",
    "    print(\"you are eligble to enter\")\n",
    "else:\n",
    "    print(\"you are to young to enter\")"
   ]
  },
  {
   "cell_type": "code",
   "execution_count": 8,
   "id": "50664676-8659-4897-b207-1e3d971881ea",
   "metadata": {},
   "outputs": [
    {
     "name": "stdout",
     "output_type": "stream",
     "text": [
      "this age is absolute correct\n"
     ]
    }
   ],
   "source": [
    "age = 57\n",
    "if age < 55:\n",
    "    print(\"this age is not correct\")\n",
    "elif(age==57):\n",
    "    print(\"this age is absolute correct\")\n",
    "else:\n",
    "    print(\"this age is nearly correct\")"
   ]
  },
  {
   "cell_type": "code",
   "execution_count": 9,
   "id": "d3addb07-74b2-4af6-9199-2a50c272f795",
   "metadata": {},
   "outputs": [
    {
     "name": "stdout",
     "output_type": "stream",
     "text": [
      "you are not too old\n"
     ]
    }
   ],
   "source": [
    "age = 57\n",
    "if age < 67:\n",
    "    print(\"you are not too old\")\n",
    "else:\n",
    "    print(\"you are to old for that your age\")"
   ]
  },
  {
   "cell_type": "code",
   "execution_count": 10,
   "id": "eb19c57b-bbef-43ca-afef-3885cd5cd458",
   "metadata": {},
   "outputs": [
    {
     "name": "stdout",
     "output_type": "stream",
     "text": [
      "this classroom number is close to the value\n"
     ]
    }
   ],
   "source": [
    "classroom = 67\n",
    "if classroom > 67:\n",
    "    print(\"this classroom number is not close to the value\")\n",
    "elif(classroom==67):\n",
    "    print(\"this classroom number is close to the value\")\n",
    "else:\n",
    "    print(\"this classroom number was not part of the value\")\n"
   ]
  },
  {
   "cell_type": "code",
   "execution_count": 11,
   "id": "68025a82-bb49-4fb7-be4e-59bc1f269874",
   "metadata": {},
   "outputs": [
    {
     "name": "stdout",
     "output_type": "stream",
     "text": [
      "you are over-qualified for the programme\n"
     ]
    }
   ],
   "source": [
    "age = 67\n",
    "if age > 66:\n",
    "    print(\"you are over-qualified for the programme\")\n",
    "else:\n",
    "    print(\"you are under-qualified for the programme\")"
   ]
  },
  {
   "cell_type": "markdown",
   "id": "fe3c9ab3-a2ef-40e3-9398-2f4c16261573",
   "metadata": {},
   "source": [
    "## Logic operators "
   ]
  },
  {
   "cell_type": "code",
   "execution_count": 13,
   "id": "922b9e6a-0115-4e21-aee8-d6b38a587187",
   "metadata": {},
   "outputs": [
    {
     "name": "stdout",
     "output_type": "stream",
     "text": [
      "The Album was made in the 70's or 90's\n"
     ]
    }
   ],
   "source": [
    "album_year = 1990\n",
    "if(album_year<1980)or(album_year>1989):\n",
    "    print(\"The Album was made in the 70's or 90's\")\n",
    "else:\n",
    "    print(\"The Album was made in the 1980's\")"
   ]
  },
  {
   "cell_type": "code",
   "execution_count": 14,
   "id": "10c32c39-a0a7-4222-b4e4-9a7d684367df",
   "metadata": {},
   "outputs": [
    {
     "name": "stdin",
     "output_type": "stream",
     "text": [
      "Enter the amount to withdraw: 56\n"
     ]
    },
    {
     "ename": "TypeError",
     "evalue": "not all arguments converted during string formatting",
     "output_type": "error",
     "traceback": [
      "\u001b[1;31m---------------------------------------------------------------------------\u001b[0m",
      "\u001b[1;31mTypeError\u001b[0m                                 Traceback (most recent call last)",
      "Cell \u001b[1;32mIn[14], line 4\u001b[0m\n\u001b[0;32m      2\u001b[0m \u001b[38;5;28;01mif\u001b[39;00m user_choice \u001b[38;5;241m==\u001b[39m \u001b[38;5;124m\"\u001b[39m\u001b[38;5;124mwithdraw cash\u001b[39m\u001b[38;5;124m\"\u001b[39m:\n\u001b[0;32m      3\u001b[0m     amount \u001b[38;5;241m=\u001b[39m \u001b[38;5;28minput\u001b[39m(\u001b[38;5;124m\"\u001b[39m\u001b[38;5;124mEnter the amount to withdraw:\u001b[39m\u001b[38;5;124m\"\u001b[39m)\n\u001b[1;32m----> 4\u001b[0m     \u001b[38;5;28;01mif\u001b[39;00m amount \u001b[38;5;241m%\u001b[39m \u001b[38;5;241m10\u001b[39m \u001b[38;5;241m==\u001b[39m\u001b[38;5;241m0\u001b[39m:\n\u001b[0;32m      5\u001b[0m         dispense_cash(amount)\n\u001b[0;32m      6\u001b[0m     \u001b[38;5;28;01melse\u001b[39;00m:\n",
      "\u001b[1;31mTypeError\u001b[0m: not all arguments converted during string formatting"
     ]
    }
   ],
   "source": [
    "user_choice = \"withdraw cash\"\n",
    "if user_choice == \"withdraw cash\":\n",
    "    amount = input(\"Enter the amount to withdraw:\")\n",
    "    if amount % 10 ==0:\n",
    "        dispense_cash(amount)\n",
    "    else:\n",
    "        print(\"please enter a multiple of 10.\")\n",
    "else:\n",
    "    print(\"Thank you for using the ATM\")\n"
   ]
  },
  {
   "cell_type": "code",
   "execution_count": 145,
   "id": "59442534-a315-45d4-9a13-a7dccb4b1240",
   "metadata": {},
   "outputs": [
    {
     "name": "stdout",
     "output_type": "stream",
     "text": [
      "The Album was made in the 90's\n"
     ]
    }
   ],
   "source": [
    "album_year = 1790\n",
    "if(album_year<1670)or(album_year>1785):\n",
    "    print(\"The Album was made in the 90's\")\n",
    "else:\n",
    "    print(\"The Album was made in the 1457\")"
   ]
  },
  {
   "cell_type": "code",
   "execution_count": 147,
   "id": "eaf0ba90-0310-4523-9838-9daf384bd10d",
   "metadata": {},
   "outputs": [
    {
     "name": "stdout",
     "output_type": "stream",
     "text": [
      "this album is has been existing since 90's\n"
     ]
    }
   ],
   "source": [
    "Album_year = 4657\n",
    "if Album_year < 567 or Album_year> 456:\n",
    "    print(\"this album is has been existing since 90's\")\n",
    "else:\n",
    "    print(\"this album just started existing since 70's\")"
   ]
  },
  {
   "cell_type": "code",
   "execution_count": 149,
   "id": "8d62c126-1594-4b50-9cdc-f7c9219f2be5",
   "metadata": {},
   "outputs": [
    {
     "name": "stdout",
     "output_type": "stream",
     "text": [
      "Medical school ratio is far less than that\n"
     ]
    }
   ],
   "source": [
    "Medical_school_Nigeria = 567\n",
    "if Medical_school_Nigeria > 400 and Medical_school_Nigeria < 500:\n",
    "    print(\"Medical school is less than that in Nigeria\")\n",
    "else:\n",
    "    print(\"Medical school ratio is far less than that\")"
   ]
  },
  {
   "cell_type": "code",
   "execution_count": 151,
   "id": "b35b683e-d81f-4b19-b1ad-e21e7f2c43a0",
   "metadata": {},
   "outputs": [
    {
     "name": "stdout",
     "output_type": "stream",
     "text": [
      "The Album was made in 1600\n"
     ]
    }
   ],
   "source": [
    "Album_year = 1789\n",
    "if(Album_year < 1345) and (Album_year > 1567):\n",
    "    print(\"The Album was made in the 70's\")\n",
    "else:\n",
    "    print(\"The Album was made in 1600\")"
   ]
  },
  {
   "cell_type": "code",
   "execution_count": 153,
   "id": "48b80567-7b21-43c2-8b1b-17e956c8f462",
   "metadata": {},
   "outputs": [
    {
     "data": {
      "text/plain": [
       "False"
      ]
     },
     "execution_count": 153,
     "metadata": {},
     "output_type": "execute_result"
    }
   ],
   "source": [
    "a = 5\n",
    "a == 6\n"
   ]
  },
  {
   "cell_type": "code",
   "execution_count": 155,
   "id": "93ebf385-dc5f-43df-9ef4-0a9a9aa2ee91",
   "metadata": {},
   "outputs": [
    {
     "data": {
      "text/plain": [
       "False"
      ]
     },
     "execution_count": 155,
     "metadata": {},
     "output_type": "execute_result"
    }
   ],
   "source": [
    "i =7\n",
    "i< 4"
   ]
  },
  {
   "cell_type": "code",
   "execution_count": 157,
   "id": "4293c183-8432-4a14-9f7a-0aa32a492fbc",
   "metadata": {},
   "outputs": [],
   "source": [
    "is_do_not_disturb = True\n",
    "if not is_do_not_disturb:\n",
    "    semd_notification(\"New message received\")"
   ]
  },
  {
   "cell_type": "code",
   "execution_count": 159,
   "id": "4d7adc69-17c5-4830-8dcf-86c9f222cb81",
   "metadata": {},
   "outputs": [],
   "source": [
    "is_do_not_disturb = True\n",
    "if not is_do_not_disturb:\n",
    "    send_notification(\"New message received\")"
   ]
  },
  {
   "cell_type": "code",
   "execution_count": 161,
   "id": "bdba60b7-d9a2-40e2-841c-ddff1dd4796b",
   "metadata": {},
   "outputs": [
    {
     "name": "stdout",
     "output_type": "stream",
     "text": [
      "monitor and plan reforestation\n"
     ]
    }
   ],
   "source": [
    "deforestation = 0.12\n",
    "if deforestation >0.3:\n",
    "    print(\"implement emergency measures\")\n",
    "elif deforestation > 0.2:\n",
    "    print(\"increase surveillance and conservation efforts\")\n",
    "elif deforestation > 0.1:\n",
    "    print(\"monitor and plan reforestation\")\n",
    "else:\n",
    "    print(\"Deforestation rate is within safe limits\")"
   ]
  },
  {
   "cell_type": "code",
   "execution_count": 163,
   "id": "dae290ab-6d4e-4439-9ed7-4b10cad393cd",
   "metadata": {},
   "outputs": [
    {
     "name": "stdout",
     "output_type": "stream",
     "text": [
      "monitor and plan reforestation\n"
     ]
    }
   ],
   "source": [
    "deforestation_rate = 0.1\n",
    "if deforestation > 0.3:\n",
    "    print(\"implemnet emergency measures\")\n",
    "elif deforestation ==0.1:\n",
    "   print(\"deforeatation has reached the maximum safe limits\")\n",
    "elif deforestation >=0.1:\n",
    "   print(\"monitor and plan reforestation\")\n",
    "else:\n",
    "   print(\"deforestation rate is within safe limits\")"
   ]
  },
  {
   "cell_type": "code",
   "execution_count": 165,
   "id": "15dd0594-3947-4140-9afd-2a55eb32bf89",
   "metadata": {},
   "outputs": [
    {
     "name": "stdout",
     "output_type": "stream",
     "text": [
      "Vulnerable\n"
     ]
    }
   ],
   "source": [
    "individuals_in_wilds = 5500\n",
    "if individuals_in_wilds < 1000:\n",
    "    print(\"critically Endangered\")\n",
    "elif 1000<= individuals_in_wilds <=5000:\n",
    " print(\"Endangered\")\n",
    "elif 5001<= individuals_in_wilds <=20000:\n",
    " print(\"Vulnerable\")\n",
    "else:\n",
    " print(\"safe\")"
   ]
  },
  {
   "cell_type": "code",
   "execution_count": 167,
   "id": "53cc52ed-115a-43e4-baba-146da9d63533",
   "metadata": {},
   "outputs": [
    {
     "ename": "SyntaxError",
     "evalue": "invalid decimal literal (3851965035.py, line 1)",
     "output_type": "error",
     "traceback": [
      "\u001b[1;36m  Cell \u001b[1;32mIn[167], line 1\u001b[1;36m\u001b[0m\n\u001b[1;33m    rainfall = 205mm\u001b[0m\n\u001b[1;37m                 ^\u001b[0m\n\u001b[1;31mSyntaxError\u001b[0m\u001b[1;31m:\u001b[0m invalid decimal literal\n"
     ]
    }
   ],
   "source": [
    "rainfall = 205mm\n",
    "population_density = 448km\n",
    "if  rainfall 500mm< and population_density>500km:\n",
    " print(\"Severe Scarity\")\n",
    "elif rainfall == population_density:\n",
    " print(\"Moderate Scarity\")\n",
    "elif "
   ]
  },
  {
   "cell_type": "markdown",
   "id": "4949e1f2-4ced-4c02-ad2e-496b768fdc2e",
   "metadata": {},
   "source": [
    "## LOOPS AND RANGE FUNCTIONS"
   ]
  },
  {
   "cell_type": "code",
   "execution_count": 170,
   "id": "e2edb47d-fb51-4c0b-bd64-f81506cf2383",
   "metadata": {},
   "outputs": [],
   "source": [
    "squares = [\"Rectangle\", \"yellow\",\"red\",\"green\"] "
   ]
  },
  {
   "cell_type": "code",
   "execution_count": 172,
   "id": "e255327e-2851-4671-ac61-c3d3ec28b745",
   "metadata": {},
   "outputs": [
    {
     "name": "stdout",
     "output_type": "stream",
     "text": [
      "Rectangle\n",
      "yellow\n",
      "red\n",
      "green\n"
     ]
    }
   ],
   "source": [
    "squares\n",
    "for square in squares:\n",
    "    print(square)"
   ]
  },
  {
   "cell_type": "code",
   "execution_count": 174,
   "id": "f48a7dde-ac85-449c-b5ca-cd595e0abcbe",
   "metadata": {},
   "outputs": [
    {
     "name": "stdout",
     "output_type": "stream",
     "text": [
      "0\n",
      "1\n",
      "2\n",
      "3\n",
      "4\n",
      "5\n",
      "6\n",
      "7\n",
      "8\n",
      "9\n",
      "10\n",
      "11\n",
      "12\n",
      "13\n",
      "14\n",
      "15\n",
      "16\n",
      "17\n",
      "18\n",
      "19\n",
      "20\n",
      "21\n",
      "22\n",
      "23\n",
      "24\n",
      "25\n",
      "26\n",
      "27\n",
      "28\n",
      "29\n",
      "30\n",
      "31\n",
      "32\n",
      "33\n"
     ]
    }
   ],
   "source": [
    "\n",
    "for x in range(0,34):\n",
    "    print(x)"
   ]
  },
  {
   "cell_type": "code",
   "execution_count": 176,
   "id": "d473c8fe-3962-4dc8-a5cd-52df33111c15",
   "metadata": {},
   "outputs": [
    {
     "name": "stdout",
     "output_type": "stream",
     "text": [
      "4\n"
     ]
    }
   ],
   "source": [
    "for x in range(4,6,35):\n",
    "    print(x)"
   ]
  },
  {
   "cell_type": "code",
   "execution_count": 178,
   "id": "1684852f-c739-4d64-8271-15950c9d9918",
   "metadata": {},
   "outputs": [
    {
     "name": "stdout",
     "output_type": "stream",
     "text": [
      "0\n",
      "1\n",
      "2\n"
     ]
    }
   ],
   "source": [
    "for x in range(0,3):\n",
    "    print(x)"
   ]
  },
  {
   "cell_type": "code",
   "execution_count": 180,
   "id": "536ae82d-fa58-4032-b226-23bbcb128078",
   "metadata": {},
   "outputs": [
    {
     "name": "stdout",
     "output_type": "stream",
     "text": [
      "yellow\n",
      "Red\n",
      "green\n",
      "white\n",
      "Brown\n",
      "orange\n",
      "Blue\n",
      "Purple\n"
     ]
    }
   ],
   "source": [
    "squares = [\"yellow\",\"Red\", \"green\", \"white\",\"Brown\",\"orange\",\"Blue\",\"Purple\"]\n",
    "for square in squares:\n",
    "    print(square)"
   ]
  },
  {
   "cell_type": "code",
   "execution_count": 182,
   "id": "2b641aae-6264-4ad7-9b7e-6e5434bcf74b",
   "metadata": {},
   "outputs": [],
   "source": [
    "university_western_part_of_Nigeria = [\"obafemi awolowo university\",\"university of ibadan\",\"university of lagos\",\"university of ilorin\",\"university of benin\"]"
   ]
  },
  {
   "cell_type": "code",
   "execution_count": 184,
   "id": "fd29fe47-049f-4a04-8b19-bb06036182a0",
   "metadata": {},
   "outputs": [
    {
     "name": "stdout",
     "output_type": "stream",
     "text": [
      "obafemi awolowo university\n",
      "university of ibadan\n",
      "university of lagos\n",
      "university of ilorin\n",
      "university of benin\n"
     ]
    }
   ],
   "source": [
    "for best_university_western_part_of_Nigeria in university_western_part_of_Nigeria:\n",
    "    print(best_university_western_part_of_Nigeria)"
   ]
  },
  {
   "cell_type": "code",
   "execution_count": 186,
   "id": "f9952134-cd64-46db-9e21-3fab403aac7b",
   "metadata": {},
   "outputs": [
    {
     "name": "stdout",
     "output_type": "stream",
     "text": [
      "AA\n",
      "BA\n",
      "cA\n"
     ]
    }
   ],
   "source": [
    "for x in [\"A\", \"B\", \"c\"]:\n",
    "    print(x + \"A\")"
   ]
  },
  {
   "cell_type": "code",
   "execution_count": 188,
   "id": "32212afc-7b9b-45f6-93f8-19706cb5b45c",
   "metadata": {},
   "outputs": [
    {
     "name": "stdout",
     "output_type": "stream",
     "text": [
      "Red\n",
      "0\n",
      "Yellow\n",
      "1\n",
      "Green\n",
      "2\n"
     ]
    }
   ],
   "source": [
    "squares = [\"Red\", \"Yellow\",\"Green\"]\n",
    "for i,square in enumerate(squares):\n",
    "    print(square)\n",
    "    print(i)"
   ]
  },
  {
   "cell_type": "code",
   "execution_count": 190,
   "id": "4d556b19-529b-451a-adf5-dda01d25fec4",
   "metadata": {},
   "outputs": [
    {
     "name": "stdout",
     "output_type": "stream",
     "text": [
      "0\n",
      "knife\n",
      "1\n",
      "chopping board\n",
      "2\n",
      "pot\n",
      "3\n",
      "frying pan\n",
      "4\n",
      "gas cooker\n"
     ]
    }
   ],
   "source": [
    "House_utensils = [\"knife\",\"chopping board\",\"pot\",\"frying pan\",\"gas cooker\"]\n",
    "for i,cooking_utensils in enumerate(House_utensils):\n",
    "    print(i)\n",
    "    print(cooking_utensils)"
   ]
  },
  {
   "cell_type": "code",
   "execution_count": 192,
   "id": "a712f2dd-ea73-4f4c-988f-81905fb1c227",
   "metadata": {},
   "outputs": [
    {
     "name": "stdout",
     "output_type": "stream",
     "text": [
      "0\n",
      "Adonai\n",
      "1\n",
      "Ayo-arike\n",
      "2\n",
      "Mercy_of_God\n",
      "3\n",
      "Bvers\n"
     ]
    }
   ],
   "source": [
    "Hostels_cdl = [\"Adonai\",\"Ayo-arike\",\"Mercy_of_God\",\"Bvers\"]\n",
    "for x,hostels_Cdl in enumerate(Hostels_cdl):\n",
    "    print(x)\n",
    "    print(hostels_Cdl)"
   ]
  },
  {
   "cell_type": "code",
   "execution_count": 194,
   "id": "b84adb11-d4d0-4651-a468-ff4404505ad9",
   "metadata": {},
   "outputs": [
    {
     "name": "stdout",
     "output_type": "stream",
     "text": [
      "0 A\n",
      "1 B\n",
      "2 C\n"
     ]
    }
   ],
   "source": [
    "for x,i in enumerate([\"A\",\"B\",\"C\"]):\n",
    "    print(x,i)"
   ]
  },
  {
   "cell_type": "code",
   "execution_count": 196,
   "id": "d362493f-413e-4f04-b0d7-534a47614e20",
   "metadata": {},
   "outputs": [
    {
     "name": "stdout",
     "output_type": "stream",
     "text": [
      "1\n",
      "2\n"
     ]
    }
   ],
   "source": [
    "squares =[\"orange\",\"orange\",\"purple\",\"blue\",\"red\"]\n",
    "newsquares = []\n",
    "i=0\n",
    "while(squares[i]==\"orange\"):\n",
    "    newsquares.append(squares[i])\n",
    "    i=i+1\n",
    "    print(i)\n",
    "    "
   ]
  },
  {
   "cell_type": "code",
   "execution_count": 198,
   "id": "611a1ff5-f1e0-465e-b12e-fcfe329fc33e",
   "metadata": {},
   "outputs": [
    {
     "name": "stdout",
     "output_type": "stream",
     "text": [
      "0\n",
      "1\n",
      "2\n",
      "3\n",
      "4\n",
      "5\n",
      "6\n",
      "7\n",
      "8\n",
      "9\n",
      "10\n"
     ]
    }
   ],
   "source": [
    "for number in range(11):\n",
    "    print(number)"
   ]
  },
  {
   "cell_type": "code",
   "execution_count": 200,
   "id": "9ceefcd3-4ba2-4606-95f3-f4c3a651912f",
   "metadata": {},
   "outputs": [
    {
     "name": "stdout",
     "output_type": "stream",
     "text": [
      "1\n",
      "2\n",
      "3\n",
      "4\n",
      "5\n",
      "6\n",
      "7\n",
      "8\n",
      "9\n",
      "10\n",
      "11\n",
      "12\n",
      "13\n",
      "14\n",
      "15\n",
      "16\n",
      "17\n",
      "18\n",
      "19\n",
      "20\n",
      "21\n"
     ]
    }
   ],
   "source": [
    "for number in range(1,22):\n",
    "    print(number)"
   ]
  },
  {
   "cell_type": "code",
   "execution_count": 202,
   "id": "94d44cd9-c158-4ff5-b7d8-bf07a95a8573",
   "metadata": {},
   "outputs": [
    {
     "name": "stdout",
     "output_type": "stream",
     "text": [
      "0 ['Apple', 'orange', 'watermelon', 'banana', 'carrot']\n",
      "1 ['Apple', 'orange', 'watermelon', 'banana', 'carrot']\n",
      "2 ['Apple', 'orange', 'watermelon', 'banana', 'carrot']\n",
      "3 ['Apple', 'orange', 'watermelon', 'banana', 'carrot']\n",
      "4 ['Apple', 'orange', 'watermelon', 'banana', 'carrot']\n"
     ]
    }
   ],
   "source": [
    "fruits = [\"Apple\", \"orange\", \"watermelon\",\"banana\",\"carrot\"]\n",
    "for x, fruit in enumerate(fruits):\n",
    "    print(x,fruits)"
   ]
  },
  {
   "cell_type": "code",
   "execution_count": 204,
   "id": "dd98e26f-c9d5-4f3c-96c5-d65383363b33",
   "metadata": {},
   "outputs": [
    {
     "name": "stdout",
     "output_type": "stream",
     "text": [
      "1\n",
      "2\n",
      "3\n",
      "4\n",
      "5\n",
      "6\n",
      "7\n",
      "8\n",
      "9\n",
      "10\n"
     ]
    }
   ],
   "source": [
    "count = 1\n",
    "while count <=10:\n",
    "    print(count)\n",
    "    count+=1"
   ]
  },
  {
   "cell_type": "code",
   "execution_count": 206,
   "id": "50daad4b-4a1b-46c5-97c7-6bb2d279c1f9",
   "metadata": {},
   "outputs": [
    {
     "name": "stdout",
     "output_type": "stream",
     "text": [
      "14\n"
     ]
    }
   ],
   "source": [
    "number = 14\n",
    "while number <=17:\n",
    "    print(number)\n",
    "    number+=14"
   ]
  },
  {
   "cell_type": "code",
   "execution_count": 208,
   "id": "2a47d2cd-0e62-48b1-8757-0814872a27ca",
   "metadata": {},
   "outputs": [
    {
     "ename": "NameError",
     "evalue": "name 'N' is not defined",
     "output_type": "error",
     "traceback": [
      "\u001b[1;31m---------------------------------------------------------------------------\u001b[0m",
      "\u001b[1;31mNameError\u001b[0m                                 Traceback (most recent call last)",
      "Cell \u001b[1;32mIn[208], line 2\u001b[0m\n\u001b[0;32m      1\u001b[0m Dates \u001b[38;5;241m=\u001b[39m [\u001b[38;5;241m1768\u001b[39m,\u001b[38;5;241m1967\u001b[39m,\u001b[38;5;241m1950\u001b[39m]\n\u001b[1;32m----> 2\u001b[0m \u001b[38;5;28;01mfor\u001b[39;00m i \u001b[38;5;129;01min\u001b[39;00m \u001b[38;5;28mrange\u001b[39m(N):\n\u001b[0;32m      3\u001b[0m     \u001b[38;5;28mprint\u001b[39m(Dates[i])\n",
      "\u001b[1;31mNameError\u001b[0m: name 'N' is not defined"
     ]
    }
   ],
   "source": [
    "Dates = [1768,1967,1950]\n",
    "for i in range(N):\n",
    "    print(Dates[i])"
   ]
  },
  {
   "cell_type": "code",
   "execution_count": 210,
   "id": "2babb832-16e3-40a6-b463-9af4147c80d6",
   "metadata": {},
   "outputs": [
    {
     "name": "stdout",
     "output_type": "stream",
     "text": [
      "56\n",
      "57\n",
      "58\n",
      "59\n",
      "60\n",
      "61\n",
      "62\n",
      "63\n",
      "64\n",
      "65\n",
      "66\n"
     ]
    }
   ],
   "source": [
    "x = 56\n",
    "while x<67:\n",
    "    print(x)\n",
    "    x+=1"
   ]
  },
  {
   "cell_type": "code",
   "execution_count": 212,
   "id": "9cbd78aa-e764-4311-8321-2f57d855303c",
   "metadata": {},
   "outputs": [],
   "source": [
    "## FUNCTIONS"
   ]
  },
  {
   "cell_type": "code",
   "execution_count": 214,
   "id": "b8efd659-6ba2-462d-ab91-662d5e5c27a9",
   "metadata": {},
   "outputs": [
    {
     "name": "stdout",
     "output_type": "stream",
     "text": [
      "[7.0, 7.0, 8.5, 9.0, 9.5, 9.5, 9.5, 10.0]\n"
     ]
    }
   ],
   "source": [
    "Album_rating = [10.0,8.5,9.5,7.0,7.0,9.5,9.0,9.5]\n",
    "sorted_Album_rating = sorted(Album_rating)\n",
    "print(sorted_Album_rating)"
   ]
  },
  {
   "cell_type": "markdown",
   "id": "9ff2015c-bb4d-4aa8-b88d-26707ff3dd65",
   "metadata": {},
   "source": [
    "## CLASS AND OBJECT ORIENTED  OBJECT PROGRAMMING LANGUAGE "
   ]
  },
  {
   "cell_type": "code",
   "execution_count": 217,
   "id": "2e6d9b9f-dc3f-477c-b08b-f56b3f4e43c5",
   "metadata": {},
   "outputs": [],
   "source": [
    "class Tree:\n",
    "    def _init_(self,species,age,colour):\n",
    "     self.species = species\n",
    "     self.age = age\n",
    "     self.colour = colour\n",
    "\n",
    "def describe(self):\n",
    "    #methods used for defining the objects\n",
    "    return f\"{self-age} used for describing the age of the species,{self-species}used for describing the types of species,{self-colour} methods used for describing the types of colour\"\n",
    "    Pine = Tree(\"pine\",23,56)\n",
    "    print(pine.describe())\n",
    "    print(\"this is the name of the species:{self.species}\")\n",
    "    print(\"this is the age of the species:{self.age}\")"
   ]
  },
  {
   "cell_type": "code",
   "execution_count": 219,
   "id": "5f62cc91-0fee-4d73-a409-cdea6f68e33e",
   "metadata": {},
   "outputs": [
    {
     "ename": "TypeError",
     "evalue": "'str' object is not callable",
     "output_type": "error",
     "traceback": [
      "\u001b[1;31m---------------------------------------------------------------------------\u001b[0m",
      "\u001b[1;31mTypeError\u001b[0m                                 Traceback (most recent call last)",
      "Cell \u001b[1;32mIn[219], line 14\u001b[0m\n\u001b[0;32m     11\u001b[0m     \u001b[38;5;28;01mreturn\u001b[39;00m \u001b[38;5;124mf\u001b[39m\u001b[38;5;124m\"\u001b[39m\u001b[38;5;132;01m{\u001b[39;00m\u001b[38;5;28mself\u001b[39m\u001b[38;5;241m-\u001b[39mstate\u001b[38;5;132;01m}\u001b[39;00m\u001b[38;5;124m the name of the state of the country,\u001b[39m\u001b[38;5;132;01m{\u001b[39;00m\u001b[38;5;28mself\u001b[39m\u001b[38;5;241m-\u001b[39mcapital\u001b[38;5;132;01m}\u001b[39;00m\u001b[38;5;124m the name of the state capital\u001b[39m\u001b[38;5;132;01m{\u001b[39;00m\u001b[38;5;28mself\u001b[39m\u001b[38;5;241m-\u001b[39mcity\u001b[38;5;132;01m}\u001b[39;00m\u001b[38;5;124m,the cities found in the state,\u001b[39m\u001b[38;5;132;01m{\u001b[39;00m\u001b[38;5;28mself\u001b[39m\u001b[38;5;241m-\u001b[39mtown\u001b[38;5;132;01m}\u001b[39;00m\u001b[38;5;124m some name of the town presence in the state\u001b[39m\u001b[38;5;124m\"\u001b[39m\n\u001b[0;32m     13\u001b[0m lagos \u001b[38;5;241m=\u001b[39m country(\u001b[38;5;124m\"\u001b[39m\u001b[38;5;124mpine\u001b[39m\u001b[38;5;124m\"\u001b[39m,\u001b[38;5;124m\"\u001b[39m\u001b[38;5;124mikeja\u001b[39m\u001b[38;5;124m\"\u001b[39m,\u001b[38;5;124m\"\u001b[39m\u001b[38;5;124mlekki\u001b[39m\u001b[38;5;124m\"\u001b[39m,\u001b[38;5;124m\"\u001b[39m\u001b[38;5;124mikorodu\u001b[39m\u001b[38;5;124m\"\u001b[39m)\n\u001b[1;32m---> 14\u001b[0m \u001b[38;5;28mprint\u001b[39m(lagos\u001b[38;5;241m.\u001b[39mstate())\n\u001b[0;32m     16\u001b[0m \u001b[38;5;28mprint\u001b[39m(\u001b[38;5;124m\"\u001b[39m\u001b[38;5;124mthis is the name of the state:\u001b[39m\u001b[38;5;124m{\u001b[39m\u001b[38;5;124mself-state}\u001b[39m\u001b[38;5;124m\"\u001b[39m)\n\u001b[0;32m     17\u001b[0m \u001b[38;5;28mprint\u001b[39m(\u001b[38;5;124m\"\u001b[39m\u001b[38;5;124mthis is the name of the capital:\u001b[39m\u001b[38;5;124m{\u001b[39m\u001b[38;5;124mself-capital}\u001b[39m\u001b[38;5;124m\"\u001b[39m)\n",
      "\u001b[1;31mTypeError\u001b[0m: 'str' object is not callable"
     ]
    }
   ],
   "source": [
    "class country:\n",
    "    def __init__(self,state,capital,city,town):\n",
    "        self.state = state\n",
    "        self.capital = capital\n",
    "        self.city = city\n",
    "        self.town = town\n",
    "\n",
    "def state(Self):\n",
    "    ## methods used for describing the object country\n",
    "\n",
    "    return f\"{self-state} the name of the state of the country,{self-capital} the name of the state capital{self-city},the cities found in the state,{self-town} some name of the town presence in the state\"\n",
    "\n",
    "lagos = country(\"pine\",\"ikeja\",\"lekki\",\"ikorodu\")\n",
    "print(lagos.state())\n",
    "\n",
    "print(\"this is the name of the state:{self-state}\")\n",
    "print(\"this is the name of the capital:{self-capital}\")\n",
    "print(\"this is the name of one of the cities in the state:{self-city}\")\n",
    "print(\"this is the name of one of the towns in the state:{self-town}\")"
   ]
  },
  {
   "cell_type": "code",
   "execution_count": 221,
   "id": "205c752d-e300-4b2b-9f8d-70cf916fda89",
   "metadata": {},
   "outputs": [],
   "source": [
    "import matplotlib.pyplot as plt\n",
    "\n",
    "class Datanalysis:\n",
    "    def __init__(self,data):\n",
    "        self.data = data\n",
    "\n",
    "def sum_of_the_data(self):\n",
    "  return sum(self.data)\n",
    "\n",
    "def data_doubled(self):\n",
    "    return[2*element for element in self.data]\n",
    "\n",
    "def plot_data_histogram(self):\n",
    "    plt.bar(range(len(self.data)),self.data,egdgecolour = \"black\")\n",
    "    plt.title(\"Histogram of the value\")\n",
    "    plt.xlabel(\"index\")\n",
    "    plt.ylabel(\"value of the data\")\n",
    "    plt.show()\n",
    "    "
   ]
  },
  {
   "cell_type": "code",
   "execution_count": 222,
   "id": "50fa7865-dbfe-4ef7-8169-e4a0060f4cb7",
   "metadata": {},
   "outputs": [],
   "source": [
    "import matplotlib.pyplot as plt\n",
    "class Datascience:\n",
    "    def __init__(self,statistics):\n",
    "        self.statistics = statistics\n",
    "\n",
    "def sum_of_datascience(self):\n",
    "    return sum(self.statistics)\n",
    "\n",
    "def data_of_engineering(self):\n",
    "    return[2*element for element in self.statistics]\n",
    "\n",
    "def plot_data_histogram(self):\n",
    "    plt.bar(range(len(self.statistics)),self.statistics, edgecolour = \"yellow\")\n",
    "    plt.title(\"the name of the graph is known as machine learning\")\n",
    "    plt.xlabel(\"the name of the graph is vertical\")\n",
    "    plt.ylabel(\"the name of the graph is horizontal\")\n",
    "    plt.show()"
   ]
  },
  {
   "cell_type": "code",
   "execution_count": 223,
   "id": "73da5805-0e84-4a26-81d2-29f7011be291",
   "metadata": {},
   "outputs": [],
   "source": [
    "class Ecosystem:\n",
    "    def __init__(self,name,description, biodiversity_index):\n",
    "        self.name = name\n",
    "        self.description = description\n",
    "        self.biodiversity_index = biodiversity_index\n",
    "\n",
    "    def display_distail(Self):\n",
    "        print(\"Ecosystem:{self.name}\")\n",
    "        print(\"description:{self.description}\")\n",
    "        print(\"biodiversity_index:{self.biodiversity_index}\")\n",
    "\n",
    "    def description(self,new_description):\n",
    "        self.description = new_description\n",
    "        \n",
    "\n",
    "\n",
    "      "
   ]
  },
  {
   "cell_type": "code",
   "execution_count": 224,
   "id": "c5977f28-8c7e-4a30-be84-d91749742b7f",
   "metadata": {},
   "outputs": [],
   "source": [
    "class Animal:\n",
    "    def __init__(self,kingdom,phylum,Class):\n",
    "        self.kingdom = kingdom\n",
    "        self.phylum = phylum\n",
    "        self.Class = Class\n",
    "\n",
    "def classification(self):\n",
    "    print(\"kingdom:{self.kingdom}\")\n",
    "    print(\"phylum:{self.phylum}\")\n",
    "    print(\"Class:{self.Class}\")\n",
    "    "
   ]
  },
  {
   "cell_type": "code",
   "execution_count": 225,
   "id": "61aa1024-3b7c-4c17-a2a6-224217388079",
   "metadata": {},
   "outputs": [
    {
     "name": "stdout",
     "output_type": "stream",
     "text": [
      "12\n",
      "Red\n"
     ]
    }
   ],
   "source": [
    "class Circle:\n",
    "    def __init__(self,radius,colour):\n",
    "        self.radius = radius\n",
    "        self.colour = colour\n",
    "\n",
    "circle = Circle(12,\"Red\")\n",
    "print(circle.radius)\n",
    "print(circle.colour)\n",
    "\n"
   ]
  },
  {
   "cell_type": "code",
   "execution_count": 226,
   "id": "86e1524b-b005-417f-92c5-d0d555540186",
   "metadata": {},
   "outputs": [
    {
     "name": "stdout",
     "output_type": "stream",
     "text": [
      "Red\n",
      "14\n",
      "67\n"
     ]
    }
   ],
   "source": [
    "class Rectangle:\n",
    "    def __init__(self, colour, width,length):\n",
    "        self.colour = colour\n",
    "        self.width = width\n",
    "        self.length = length\n",
    "\n",
    "rectangle = Rectangle(\"Red\",14,67)\n",
    "print(rectangle.colour)\n",
    "print(rectangle.width)\n",
    "print(rectangle.length)\n"
   ]
  },
  {
   "cell_type": "code",
   "execution_count": 227,
   "id": "48a5b606-fbb7-4b4e-9159-bde9def276a6",
   "metadata": {},
   "outputs": [
    {
     "name": "stdout",
     "output_type": "stream",
     "text": [
      "bamire\n",
      "Agricultural science\n",
      "college of health science\n"
     ]
    }
   ],
   "source": [
    "class university:\n",
    "    def __init__(self,vicechancellor,faculty,college):\n",
    "     self.vicechancellor = vicechancellor\n",
    "     self.faculty = faculty\n",
    "     self.college = college\n",
    "\n",
    "College = university(\"bamire\", \"Agricultural science\", \"college of health science\")\n",
    "print(College.vicechancellor)\n",
    "print(College.faculty)\n",
    "print(College.college)\n"
   ]
  },
  {
   "cell_type": "code",
   "execution_count": 228,
   "id": "4fe8a19f-70de-4798-9cb3-c573ed87e705",
   "metadata": {},
   "outputs": [
    {
     "name": "stdout",
     "output_type": "stream",
     "text": [
      "Biomedical data science\n",
      "PHD\n",
      "Oral radiology\n"
     ]
    }
   ],
   "source": [
    "class Dentistry:\n",
    "    def __init__(self, department,president,lectures):\n",
    "        self.department = department\n",
    "        self.president = president\n",
    "        self.lectures = lectures\n",
    "\n",
    "dentistry = Dentistry(\"Biomedical data science\", \"PHD\",\"Oral radiology\")\n",
    "print(dentistry.department)\n",
    "print(dentistry.president)\n",
    "print(dentistry.lectures)"
   ]
  },
  {
   "cell_type": "code",
   "execution_count": 230,
   "id": "99ad6af3-d790-493d-9f69-ef748d5a87b2",
   "metadata": {},
   "outputs": [
    {
     "name": "stdout",
     "output_type": "stream",
     "text": [
      "florence\n",
      "John\n"
     ]
    }
   ],
   "source": [
    "class family:\n",
    "    def __init__(self,mother,father):\n",
    "        self.mother = mother\n",
    "        self.father = father\n",
    "\n",
    "FAMILY = family(\"florence\", \"John\")\n",
    "print(FAMILY.mother)\n",
    "print(FAMILY.father)"
   ]
  },
  {
   "cell_type": "markdown",
   "id": "ed980e3e-e909-487c-a17d-13fada460232",
   "metadata": {},
   "source": [
    "## python modules"
   ]
  },
  {
   "cell_type": "code",
   "execution_count": 240,
   "id": "7aa94cdb-9a70-40a1-a663-9a6ba5650b68",
   "metadata": {},
   "outputs": [],
   "source": [
    "content = \"\"\"\n",
    "s = \"Hello\"\n",
    "\n",
    "def say_hi(name):\n",
    "  print(s + name)\n",
    "\n",
    "class Greet:\n",
    "pass\n",
    "\"\"\"\n",
    "\n",
    "with open('.my_module.py', 'w') as fp:\n",
    "    fp.write(content)\n",
    "\n",
    "\n",
    "\n"
   ]
  },
  {
   "cell_type": "code",
   "execution_count": 242,
   "id": "417ffff8-bd74-4912-9a27-bf7bab717a9e",
   "metadata": {},
   "outputs": [],
   "source": [
    "content = \"\"\"\n",
    "s = \"Hello\"\n",
    "\n",
    "def say_hi(name):\n",
    "    print(s + name)\n",
    "\n",
    "   class Greet:\n",
    "   pass\n",
    "   \"\"\"\n",
    "\n",
    "with open('.my_module.py', 'w') as fp:\n",
    "    fp.write(content)"
   ]
  },
  {
   "cell_type": "code",
   "execution_count": 244,
   "id": "aca51aa7-7f85-4f42-9a61-5e71c785f8d3",
   "metadata": {},
   "outputs": [
    {
     "name": "stdout",
     "output_type": "stream",
     "text": [
      "\n",
      "Please wait a moment while I gather a list of all available modules...\n",
      "\n"
     ]
    },
    {
     "name": "stderr",
     "output_type": "stream",
     "text": [
      "C:\\Users\\hp\\anaconda3\\Lib\\site-packages\\paramiko\\pkey.py:82: CryptographyDeprecationWarning: TripleDES has been moved to cryptography.hazmat.decrepit.ciphers.algorithms.TripleDES and will be removed from this module in 48.0.0.\n",
      "  \"cipher\": algorithms.TripleDES,\n",
      "C:\\Users\\hp\\anaconda3\\Lib\\site-packages\\paramiko\\transport.py:219: CryptographyDeprecationWarning: Blowfish has been moved to cryptography.hazmat.decrepit.ciphers.algorithms.Blowfish and will be removed from this module in 45.0.0.\n",
      "  \"class\": algorithms.Blowfish,\n",
      "C:\\Users\\hp\\anaconda3\\Lib\\site-packages\\paramiko\\transport.py:243: CryptographyDeprecationWarning: TripleDES has been moved to cryptography.hazmat.decrepit.ciphers.algorithms.TripleDES and will be removed from this module in 48.0.0.\n",
      "  \"class\": algorithms.TripleDES,\n",
      "C:\\Users\\hp\\anaconda3\\Lib\\site-packages\\nltk\\twitter\\__init__.py:20: UserWarning: The twython library has not been installed. Some functionality from the twitter package will not be available.\n",
      "  warnings.warn(\n",
      "C:\\Users\\hp\\anaconda3\\Lib\\pkgutil.py:78: UserWarning: The numpy.array_api submodule is still experimental. See NEP 47.\n",
      "  __import__(info.name)\n",
      "C:\\Users\\hp\\anaconda3\\Lib\\site-packages\\pydantic\\experimental\\__init__.py:7: PydanticExperimentalWarning:\n",
      "\n",
      "This module is experimental, its contents are subject to change and deprecation.\n",
      "\n",
      "No QCoreApplication instance found. Application patches not applied. You have to call load_stylesheet function after instantiation of QApplication to take effect. \n"
     ]
    },
    {
     "name": "stdout",
     "output_type": "stream",
     "text": [
      "3204bda914b7f2c6f497__mypyc cloudpickle         markupsafe          slugify\n",
      "Aanuoluwapo         cmath               marshal             smart_open\n",
      "IPython             cmd                 math                smmap\n",
      "OpenSSL             code                matplotlib          smtplib\n",
      "PIL                 codecs              matplotlib_inline   sndhdr\n",
      "PyQt5               codeop              mccabe              sniffio\n",
      "__future__          collections         mdit_py_plugins     snowballstemmer\n",
      "__hello__           colorama            mdurl               socket\n",
      "__phello__          colorcet            menuinst            socketserver\n",
      "_abc                colorsys            mimetypes           socks\n",
      "_aix_support        comm                mistune             sockshandler\n",
      "_argon2_cffi_bindings commctrl            mkl                 sortedcontainers\n",
      "_ast                compileall          mkl_fft             soupsieve\n",
      "_asyncio            concurrent          mkl_random          sphinx\n",
      "_bisect             conda               mmap                spyder\n",
      "_black_version      conda_build         mmapfile            spyder_kernels\n",
      "_blake2             conda_content_trust mmsystem            sqlalchemy\n",
      "_brotli             conda_env           modulefinder        sqlite3\n",
      "_bz2                conda_index         more_itertools      sre_compile\n",
      "_cffi_backend       conda_libmamba_solver mpmath              sre_constants\n",
      "_codecs             conda_pack          msgpack             sre_parse\n",
      "_codecs_cn          conda_package_handling msilib              ssl\n",
      "_codecs_hk          conda_package_streaming msvcrt              sspi\n",
      "_codecs_iso2022     conda_token         multidict           sspicon\n",
      "_codecs_jp          configparser        multipledispatch    stack_data\n",
      "_codecs_kr          constantly          multiprocessing     stat\n",
      "_codecs_tw          contextlib          my_module           statistics\n",
      "_collections        contextvars         mypy                statsmodels\n",
      "_collections_abc    contourpy           mypy_extensions     streamlit\n",
      "_compat_pickle      cookiecutter        mypyc               string\n",
      "_compression        copy                nacl                stringprep\n",
      "_contextvars        copyreg             navigator_updater   struct\n",
      "_csv                cpuinfo             nbclient            subprocess\n",
      "_ctypes             crypt               nbconvert           sunau\n",
      "_ctypes_test        cryptography        nbformat            sympy\n",
      "_datetime           cssselect           nest_asyncio        symtable\n",
      "_decimal            csv                 netbios             sys\n",
      "_distutils_hack     ctypes              netrc               sysconfig\n",
      "_elementtree        curl                networkx            tables\n",
      "_functools          curses              nltk                tabnanny\n",
      "_hashlib            cwp                 nntplib             tabulate\n",
      "_heapq              cycler              notebook            tarfile\n",
      "_imp                cytoolz             notebook_shim       tblib\n",
      "_io                 dask                nt                  telnetlib\n",
      "_json               dask_expr           ntpath              tempfile\n",
      "_locale             dataclasses         ntsecuritycon       tenacity\n",
      "_lsprof             datashader          nturl2path          terminado\n",
      "_lzma               datetime            numba               test\n",
      "_markupbase         dateutil            numbergen           test_pycosat\n",
      "_md5                dbi                 numbers             text_unidecode\n",
      "_msi                dbm                 numexpr             textdistance\n",
      "_multibytecodec     dde                 numpy               textwrap\n",
      "_multiprocessing    debugpy             numpydoc            this\n",
      "_nsis               decimal             odbc                threading\n",
      "_opcode             decorator           opcode              threadpoolctl\n",
      "_operator           defusedxml          openpyxl            three_merge\n",
      "_osx_support        diff_match_patch    operator            tifffile\n",
      "_overlapped         difflib             optparse            time\n",
      "_pickle             dill                os                  timeit\n",
      "_plotly_future_     dis                 overrides           timer\n",
      "_plotly_utils       distributed         packaging           tinycss2\n",
      "_py_abc             distro              pandas              tkinter\n",
      "_pydatetime         docstring_to_markdown pandocfilters       tldextract\n",
      "_pydecimal          doctest             panel               tlz\n",
      "_pyio               docutils            param               token\n",
      "_pylong             dotenv              paramiko            tokenize\n",
      "_pytest             email               parsel              toml\n",
      "_queue              encodings           parso               tomli\n",
      "_random             ensurepip           partd               tomlkit\n",
      "_ruamel_yaml        enum                pathlib             tomllib\n",
      "_sha1               erfa                pathspec            toolz\n",
      "_sha2               errno               patsy               tornado\n",
      "_sha3               et_xmlfile          pdb                 tqdm\n",
      "_signal             executing           perfmon             trace\n",
      "_sitebuiltins       fastjsonschema      pexpect             traceback\n",
      "_socket             faulthandler        pickle              tracemalloc\n",
      "_sqlite3            filecmp             pickleshare         traitlets\n",
      "_sre                fileinput           pickletools         truststore\n",
      "_ssl                filelock            pip                 tty\n",
      "_stat               flake8              pipes               turtle\n",
      "_statistics         flask               pkce                turtledemo\n",
      "_string             fnmatch             pkg_resources       twisted\n",
      "_strptime           fontTools           pkginfo             typeguard\n",
      "_struct             fractions           pkgutil             types\n",
      "_symtable           frozendict          platform            typing\n",
      "_system_path        frozenlist          platformdirs        typing_extensions\n",
      "_testbuffer         fsspec              plistlib            tzdata\n",
      "_testcapi           ftplib              plotly              uc_micro\n",
      "_testclinic         functools           pluggy              ujson\n",
      "_testconsole        gc                  ply                 unicodedata\n",
      "_testimportmultiple genericpath         poplib              unicodedata2\n",
      "_testinternalcapi   gensim              posixpath           unidecode\n",
      "_testmultiphase     getopt              pprint              unittest\n",
      "_testsinglephase    getpass             profile             urllib\n",
      "_thread             gettext             prometheus_client   urllib3\n",
      "_threading_local    git                 prompt_toolkit      uu\n",
      "_tkinter            gitdb               protego             uuid\n",
      "_tokenize           glob                pstats              venv\n",
      "_tracemalloc        graphlib            psutil              w3lib\n",
      "_typing             greenlet            pty                 warnings\n",
      "_uuid               gzip                ptyprocess          watchdog\n",
      "_warnings           h11                 pure_eval           wave\n",
      "_weakref            h5py                py                  wcwidth\n",
      "_weakrefset         hashlib             py_compile          weakref\n",
      "_win32sysloader     heapdict            pyarrow             webbrowser\n",
      "_winapi             heapq               pyasn1              webencodings\n",
      "_winxptheme         hmac                pyasn1_modules      websocket\n",
      "_wmi                holoviews           pyclbr              werkzeug\n",
      "_xxinterpchannels   html                pycodestyle         whatthepatch\n",
      "_xxsubinterpreters  http                pycosat             wheel\n",
      "_yaml               httpcore            pycparser           widgetsnbextension\n",
      "_zoneinfo           httpx               pyct                win2kras\n",
      "abc                 hvplot              pycurl              win32api\n",
      "adodbapi            hyperlink           pydantic            win32clipboard\n",
      "aext_assistant      idlelib             pydantic_core       win32com\n",
      "aext_assistant_server idna                pydeck              win32con\n",
      "aext_core           imagecodecs         pydispatch          win32console\n",
      "aext_core_server    imageio             pydoc               win32cred\n",
      "aext_panels         imagesize           pydoc_data          win32crypt\n",
      "aext_panels_server  imaplib             pydocstyle          win32cryptcon\n",
      "aext_share_notebook imblearn            pyexpat             win32ctypes\n",
      "aext_share_notebook_server imghdr              pyflakes            win32event\n",
      "aext_shared         importlib           pygments            win32evtlog\n",
      "afxres              importlib_metadata  pylab               win32evtlogutil\n",
      "aifc                importlib_resources pylint              win32file\n",
      "aiobotocore         incremental         pylint_venv         win32gui\n",
      "aiohappyeyeballs    inflect             pyls_spyder         win32gui_struct\n",
      "aiohttp             inflection          pylsp               win32help\n",
      "aioitertools        iniconfig           pylsp_black         win32inet\n",
      "aiosignal           inspect             pylsp_jsonrpc       win32inetcon\n",
      "alabaster           intake              pyodbc              win32job\n",
      "altair              intervaltree        pyparsing           win32lz\n",
      "anaconda_anon_usage io                  pytest              win32net\n",
      "anaconda_catalogs   ipaddress           pythoncom           win32netcon\n",
      "anaconda_cloud_auth ipykernel           pythonjsonlogger    win32pdh\n",
      "anaconda_navigator  ipykernel_launcher  pytoolconfig        win32pdhquery\n",
      "anaconda_project    ipython_genutils    pytz                win32pdhutil\n",
      "annotated_types     ipywidgets          pyviz_comms         win32pipe\n",
      "antigravity         isapi               pywin               win32print\n",
      "anyio               isort               pywin32_bootstrap   win32process\n",
      "appdirs             isympy              pywin32_testutil    win32profile\n",
      "archspec            itemadapter         pywintypes          win32ras\n",
      "argon2              itemloaders         pywt                win32rcparser\n",
      "argparse            itertools           qdarkstyle          win32security\n",
      "array               itsdangerous        qstylizer           win32service\n",
      "arrow               jedi                qtawesome           win32serviceutil\n",
      "ast                 jellyfish           qtconsole           win32timezone\n",
      "astroid             jinja2              qtpy                win32trace\n",
      "astropy             jmespath            queue               win32traceutil\n",
      "astropy_iers_data   joblib              queuelib            win32transaction\n",
      "asttokens           json                quopri              win32ts\n",
      "async_lru           json5               random              win32ui\n",
      "asyncio             jsonpatch           rasutil             win32uiole\n",
      "atexit              jsonpointer         re                  win32verstamp\n",
      "atomicwrites        jsonschema          referencing         win32wnet\n",
      "attr                jsonschema_specifications regcheck            win_inet_pton\n",
      "attrs               jupyter             regex               winerror\n",
      "audioop             jupyter_client      regutil             winioctlcon\n",
      "autocommand         jupyter_console     repo_cli            winnt\n",
      "automat             jupyter_core        reprlib             winperf\n",
      "autopep8            jupyter_events      requests            winpty\n",
      "babel               jupyter_lsp         requests_file       winreg\n",
      "backports           jupyter_server      requests_toolbelt   winsound\n",
      "base64              jupyter_server_terminals rfc3339_validator   winxpgui\n",
      "bcrypt              jupyterlab          rfc3986_validator   winxptheme\n",
      "bdb                 jupyterlab_plotly   rich                wrapt\n",
      "binaryornot         jupyterlab_pygments rlcompleter         wsgiref\n",
      "binascii            jupyterlab_server   rope                xarray\n",
      "binstar_client      jupyterlab_widgets  rpds                xdrlib\n",
      "bisect              jwt                 rtree               xlwings\n",
      "black               keyring             ruamel_yaml         xlwingsjs\n",
      "blackd              keyword             runpy               xml\n",
      "bleach              kiwisolver          s3fs                xmlrpc\n",
      "blib2to3            lazy_loader         sched               xxlimited\n",
      "blinker             lazy_object_proxy   scipy               xxlimited_35\n",
      "bokeh               lckr_jupyterlab_variableinspector scrapy              xxsubtype\n",
      "boltons             lib2to3             seaborn             xyzservices\n",
      "botocore            libarchive          secrets             yaml\n",
      "bottleneck          libmambapy          select              yapf\n",
      "brotli              lief                selectors           yapf_third_party\n",
      "bs4                 linecache           semver              yapftests\n",
      "builtins            linkify_it          send2trash          yarl\n",
      "bz2                 llvmlite            service_identity    zict\n",
      "cProfile            lmdb                servicemanager      zipapp\n",
      "cachetools          locale              setuptools          zipfile\n",
      "calendar            locket              shelve              zipimport\n",
      "certifi             logging             shlex               zipp\n",
      "cffi                lxml                shutil              zlib\n",
      "cgi                 lz4                 signal              zmq\n",
      "cgitb               lzma                sipbuild            zoneinfo\n",
      "chardet             mailbox             site                zope\n",
      "charset_normalizer  mailcap             six                 zstandard\n",
      "chunk               markdown            skimage             \n",
      "click               markdown_it         sklearn             \n",
      "\n",
      "Enter any module name to get more help.  Or, type \"modules spam\" to search\n",
      "for modules whose name or summary contain the string \"spam\".\n",
      "\n"
     ]
    }
   ],
   "source": [
    "help('modules')"
   ]
  },
  {
   "cell_type": "code",
   "execution_count": 245,
   "id": "6b13e5e0-0daf-4209-bf08-e2ff644ed385",
   "metadata": {},
   "outputs": [
    {
     "data": {
      "text/plain": [
       "['Album_rating',\n",
       " 'Album_year',\n",
       " 'Animal',\n",
       " 'Circle',\n",
       " 'College',\n",
       " 'Datanalysis',\n",
       " 'Datascience',\n",
       " 'Dates',\n",
       " 'Dentistry',\n",
       " 'Ecosystem',\n",
       " 'FAMILY',\n",
       " 'Hostels_cdl',\n",
       " 'House_utensils',\n",
       " 'In',\n",
       " 'Medical_school_Nigeria',\n",
       " 'Out',\n",
       " 'Rectangle',\n",
       " 'Tree',\n",
       " '_',\n",
       " '_1',\n",
       " '_100',\n",
       " '_101',\n",
       " '_102',\n",
       " '_103',\n",
       " '_104',\n",
       " '_105',\n",
       " '_106',\n",
       " '_107',\n",
       " '_108',\n",
       " '_109',\n",
       " '_110',\n",
       " '_111',\n",
       " '_112',\n",
       " '_113',\n",
       " '_114',\n",
       " '_115',\n",
       " '_116',\n",
       " '_117',\n",
       " '_118',\n",
       " '_119',\n",
       " '_12',\n",
       " '_120',\n",
       " '_121',\n",
       " '_122',\n",
       " '_123',\n",
       " '_124',\n",
       " '_125',\n",
       " '_126',\n",
       " '_127',\n",
       " '_128',\n",
       " '_129',\n",
       " '_130',\n",
       " '_131',\n",
       " '_132',\n",
       " '_133',\n",
       " '_134',\n",
       " '_135',\n",
       " '_136',\n",
       " '_137',\n",
       " '_138',\n",
       " '_139',\n",
       " '_140',\n",
       " '_141',\n",
       " '_142',\n",
       " '_143',\n",
       " '_144',\n",
       " '_146',\n",
       " '_148',\n",
       " '_15',\n",
       " '_150',\n",
       " '_152',\n",
       " '_153',\n",
       " '_154',\n",
       " '_155',\n",
       " '_156',\n",
       " '_158',\n",
       " '_16',\n",
       " '_160',\n",
       " '_162',\n",
       " '_164',\n",
       " '_166',\n",
       " '_168',\n",
       " '_169',\n",
       " '_17',\n",
       " '_171',\n",
       " '_173',\n",
       " '_175',\n",
       " '_177',\n",
       " '_179',\n",
       " '_18',\n",
       " '_181',\n",
       " '_183',\n",
       " '_185',\n",
       " '_187',\n",
       " '_189',\n",
       " '_19',\n",
       " '_191',\n",
       " '_193',\n",
       " '_195',\n",
       " '_197',\n",
       " '_199',\n",
       " '_20',\n",
       " '_201',\n",
       " '_203',\n",
       " '_205',\n",
       " '_207',\n",
       " '_209',\n",
       " '_21',\n",
       " '_211',\n",
       " '_213',\n",
       " '_215',\n",
       " '_216',\n",
       " '_218',\n",
       " '_22',\n",
       " '_220',\n",
       " '_229',\n",
       " '_23',\n",
       " '_231',\n",
       " '_232',\n",
       " '_233',\n",
       " '_234',\n",
       " '_235',\n",
       " '_236',\n",
       " '_237',\n",
       " '_238',\n",
       " '_239',\n",
       " '_24',\n",
       " '_241',\n",
       " '_243',\n",
       " '_25',\n",
       " '_26',\n",
       " '_27',\n",
       " '_28',\n",
       " '_29',\n",
       " '_30',\n",
       " '_31',\n",
       " '_32',\n",
       " '_33',\n",
       " '_34',\n",
       " '_35',\n",
       " '_36',\n",
       " '_37',\n",
       " '_38',\n",
       " '_39',\n",
       " '_40',\n",
       " '_41',\n",
       " '_42',\n",
       " '_43',\n",
       " '_44',\n",
       " '_45',\n",
       " '_46',\n",
       " '_47',\n",
       " '_48',\n",
       " '_49',\n",
       " '_50',\n",
       " '_51',\n",
       " '_52',\n",
       " '_53',\n",
       " '_54',\n",
       " '_55',\n",
       " '_56',\n",
       " '_57',\n",
       " '_58',\n",
       " '_59',\n",
       " '_60',\n",
       " '_61',\n",
       " '_62',\n",
       " '_63',\n",
       " '_64',\n",
       " '_65',\n",
       " '_66',\n",
       " '_67',\n",
       " '_68',\n",
       " '_69',\n",
       " '_70',\n",
       " '_71',\n",
       " '_72',\n",
       " '_73',\n",
       " '_74',\n",
       " '_75',\n",
       " '_76',\n",
       " '_77',\n",
       " '_78',\n",
       " '_79',\n",
       " '_80',\n",
       " '_81',\n",
       " '_82',\n",
       " '_83',\n",
       " '_84',\n",
       " '_85',\n",
       " '_86',\n",
       " '_87',\n",
       " '_88',\n",
       " '_89',\n",
       " '_90',\n",
       " '_91',\n",
       " '_92',\n",
       " '_93',\n",
       " '_94',\n",
       " '_95',\n",
       " '_96',\n",
       " '_97',\n",
       " '_98',\n",
       " '_99',\n",
       " '__',\n",
       " '___',\n",
       " '__builtin__',\n",
       " '__builtins__',\n",
       " '__doc__',\n",
       " '__loader__',\n",
       " '__name__',\n",
       " '__package__',\n",
       " '__pandas',\n",
       " '__session__',\n",
       " '__spec__',\n",
       " '_dh',\n",
       " '_i',\n",
       " '_i1',\n",
       " '_i10',\n",
       " '_i100',\n",
       " '_i101',\n",
       " '_i102',\n",
       " '_i103',\n",
       " '_i104',\n",
       " '_i105',\n",
       " '_i106',\n",
       " '_i107',\n",
       " '_i108',\n",
       " '_i109',\n",
       " '_i11',\n",
       " '_i110',\n",
       " '_i111',\n",
       " '_i112',\n",
       " '_i113',\n",
       " '_i114',\n",
       " '_i115',\n",
       " '_i116',\n",
       " '_i117',\n",
       " '_i118',\n",
       " '_i119',\n",
       " '_i12',\n",
       " '_i120',\n",
       " '_i121',\n",
       " '_i122',\n",
       " '_i123',\n",
       " '_i124',\n",
       " '_i125',\n",
       " '_i126',\n",
       " '_i127',\n",
       " '_i128',\n",
       " '_i129',\n",
       " '_i13',\n",
       " '_i130',\n",
       " '_i131',\n",
       " '_i132',\n",
       " '_i133',\n",
       " '_i134',\n",
       " '_i135',\n",
       " '_i136',\n",
       " '_i137',\n",
       " '_i138',\n",
       " '_i139',\n",
       " '_i14',\n",
       " '_i140',\n",
       " '_i141',\n",
       " '_i142',\n",
       " '_i143',\n",
       " '_i144',\n",
       " '_i145',\n",
       " '_i146',\n",
       " '_i147',\n",
       " '_i148',\n",
       " '_i149',\n",
       " '_i15',\n",
       " '_i150',\n",
       " '_i151',\n",
       " '_i152',\n",
       " '_i153',\n",
       " '_i154',\n",
       " '_i155',\n",
       " '_i156',\n",
       " '_i157',\n",
       " '_i158',\n",
       " '_i159',\n",
       " '_i16',\n",
       " '_i160',\n",
       " '_i161',\n",
       " '_i162',\n",
       " '_i163',\n",
       " '_i164',\n",
       " '_i165',\n",
       " '_i166',\n",
       " '_i167',\n",
       " '_i168',\n",
       " '_i169',\n",
       " '_i17',\n",
       " '_i170',\n",
       " '_i171',\n",
       " '_i172',\n",
       " '_i173',\n",
       " '_i174',\n",
       " '_i175',\n",
       " '_i176',\n",
       " '_i177',\n",
       " '_i178',\n",
       " '_i179',\n",
       " '_i18',\n",
       " '_i180',\n",
       " '_i181',\n",
       " '_i182',\n",
       " '_i183',\n",
       " '_i184',\n",
       " '_i185',\n",
       " '_i186',\n",
       " '_i187',\n",
       " '_i188',\n",
       " '_i189',\n",
       " '_i19',\n",
       " '_i190',\n",
       " '_i191',\n",
       " '_i192',\n",
       " '_i193',\n",
       " '_i194',\n",
       " '_i195',\n",
       " '_i196',\n",
       " '_i197',\n",
       " '_i198',\n",
       " '_i199',\n",
       " '_i2',\n",
       " '_i20',\n",
       " '_i200',\n",
       " '_i201',\n",
       " '_i202',\n",
       " '_i203',\n",
       " '_i204',\n",
       " '_i205',\n",
       " '_i206',\n",
       " '_i207',\n",
       " '_i208',\n",
       " '_i209',\n",
       " '_i21',\n",
       " '_i210',\n",
       " '_i211',\n",
       " '_i212',\n",
       " '_i213',\n",
       " '_i214',\n",
       " '_i215',\n",
       " '_i216',\n",
       " '_i217',\n",
       " '_i218',\n",
       " '_i219',\n",
       " '_i22',\n",
       " '_i220',\n",
       " '_i221',\n",
       " '_i222',\n",
       " '_i223',\n",
       " '_i224',\n",
       " '_i225',\n",
       " '_i226',\n",
       " '_i227',\n",
       " '_i228',\n",
       " '_i229',\n",
       " '_i23',\n",
       " '_i230',\n",
       " '_i231',\n",
       " '_i232',\n",
       " '_i233',\n",
       " '_i234',\n",
       " '_i235',\n",
       " '_i236',\n",
       " '_i237',\n",
       " '_i238',\n",
       " '_i239',\n",
       " '_i24',\n",
       " '_i240',\n",
       " '_i241',\n",
       " '_i242',\n",
       " '_i243',\n",
       " '_i244',\n",
       " '_i245',\n",
       " '_i25',\n",
       " '_i26',\n",
       " '_i27',\n",
       " '_i28',\n",
       " '_i29',\n",
       " '_i3',\n",
       " '_i30',\n",
       " '_i31',\n",
       " '_i32',\n",
       " '_i33',\n",
       " '_i34',\n",
       " '_i35',\n",
       " '_i36',\n",
       " '_i37',\n",
       " '_i38',\n",
       " '_i39',\n",
       " '_i4',\n",
       " '_i40',\n",
       " '_i41',\n",
       " '_i42',\n",
       " '_i43',\n",
       " '_i44',\n",
       " '_i45',\n",
       " '_i46',\n",
       " '_i47',\n",
       " '_i48',\n",
       " '_i49',\n",
       " '_i5',\n",
       " '_i50',\n",
       " '_i51',\n",
       " '_i52',\n",
       " '_i53',\n",
       " '_i54',\n",
       " '_i55',\n",
       " '_i56',\n",
       " '_i57',\n",
       " '_i58',\n",
       " '_i59',\n",
       " '_i6',\n",
       " '_i60',\n",
       " '_i61',\n",
       " '_i62',\n",
       " '_i63',\n",
       " '_i64',\n",
       " '_i65',\n",
       " '_i66',\n",
       " '_i67',\n",
       " '_i68',\n",
       " '_i69',\n",
       " '_i7',\n",
       " '_i70',\n",
       " '_i71',\n",
       " '_i72',\n",
       " '_i73',\n",
       " '_i74',\n",
       " '_i75',\n",
       " '_i76',\n",
       " '_i77',\n",
       " '_i78',\n",
       " '_i79',\n",
       " '_i8',\n",
       " '_i80',\n",
       " '_i81',\n",
       " '_i82',\n",
       " '_i83',\n",
       " '_i84',\n",
       " '_i85',\n",
       " '_i86',\n",
       " '_i87',\n",
       " '_i88',\n",
       " '_i89',\n",
       " '_i9',\n",
       " '_i90',\n",
       " '_i91',\n",
       " '_i92',\n",
       " '_i93',\n",
       " '_i94',\n",
       " '_i95',\n",
       " '_i96',\n",
       " '_i97',\n",
       " '_i98',\n",
       " '_i99',\n",
       " '_ih',\n",
       " '_ii',\n",
       " '_iii',\n",
       " '_oh',\n",
       " 'a',\n",
       " 'age',\n",
       " 'album_year',\n",
       " 'amount',\n",
       " 'best_university_western_part_of_Nigeria',\n",
       " 'circle',\n",
       " 'classification',\n",
       " 'classroom',\n",
       " 'content',\n",
       " 'cooking_utensils',\n",
       " 'count',\n",
       " 'country',\n",
       " 'data_doubled',\n",
       " 'data_of_engineering',\n",
       " 'dataframe_columns',\n",
       " 'dataframe_hash',\n",
       " 'deforestation',\n",
       " 'deforestation_rate',\n",
       " 'dentistry',\n",
       " 'describe',\n",
       " 'dtypes_str',\n",
       " 'exit',\n",
       " 'family',\n",
       " 'fp',\n",
       " 'fruit',\n",
       " 'fruits',\n",
       " 'get_dataframes',\n",
       " 'get_ipython',\n",
       " 'getpass',\n",
       " 'hashlib',\n",
       " 'hostels_Cdl',\n",
       " 'i',\n",
       " 'import_pandas_safely',\n",
       " 'individuals_in_wilds',\n",
       " 'is_data_frame',\n",
       " 'is_do_not_disturb',\n",
       " 'json',\n",
       " 'lagos',\n",
       " 'newsquares',\n",
       " 'number',\n",
       " 'open',\n",
       " 'plot_data_histogram',\n",
       " 'plt',\n",
       " 'quit',\n",
       " 'rectangle',\n",
       " 'sorted_Album_rating',\n",
       " 'square',\n",
       " 'squares',\n",
       " 'state',\n",
       " 'sum_of_datascience',\n",
       " 'sum_of_the_data',\n",
       " 'university',\n",
       " 'university_western_part_of_Nigeria',\n",
       " 'user_choice',\n",
       " 'x']"
      ]
     },
     "execution_count": 245,
     "metadata": {},
     "output_type": "execute_result"
    }
   ],
   "source": [
    "dir()"
   ]
  },
  {
   "cell_type": "code",
   "execution_count": 246,
   "id": "289a0018-7058-4df0-b5f6-b9ee4d9a972a",
   "metadata": {},
   "outputs": [
    {
     "name": "stdout",
     "output_type": "stream",
     "text": [
      "thename of the projects belongs to9.0\n"
     ]
    }
   ],
   "source": [
    "import math\n",
    "\n",
    "x = math.sqrt(81)\n",
    "\n",
    "print(\"thename of the projects belongs to{}\".format(x))"
   ]
  },
  {
   "cell_type": "code",
   "execution_count": 247,
   "id": "a5281b47-4a9e-4a51-93ad-c84e222eb8d0",
   "metadata": {},
   "outputs": [
    {
     "name": "stdout",
     "output_type": "stream",
     "text": [
      "the number of the player jersey is 9.9498743710662\n"
     ]
    }
   ],
   "source": [
    "import math\n",
    "\n",
    "y = math.sqrt(99)\n",
    "\n",
    "print(\"the number of the player jersey is {}\".format(y))"
   ]
  },
  {
   "cell_type": "code",
   "execution_count": 248,
   "id": "685ebef3-b72c-42e4-b832-9d24dc85da59",
   "metadata": {},
   "outputs": [
    {
     "name": "stdout",
     "output_type": "stream",
     "text": [
      "the total sum of the number is 5.830951894845301\n"
     ]
    }
   ],
   "source": [
    "import math\n",
    "\n",
    "x = math.sqrt(34)\n",
    "print(\"the total sum of the number is {}\".format(x))"
   ]
  },
  {
   "cell_type": "code",
   "execution_count": 249,
   "id": "20cf97ee-72cd-4c36-b8c2-00bf17fe6d7c",
   "metadata": {},
   "outputs": [
    {
     "name": "stdout",
     "output_type": "stream",
     "text": [
      "the total number of the sum is 8.774964387392123\n"
     ]
    }
   ],
   "source": [
    "import math\n",
    "\n",
    "y = math.sqrt(77)\n",
    "print(\"the total number of the sum is {}\".format(y))"
   ]
  },
  {
   "cell_type": "markdown",
   "id": "5942c32e-6c51-4bd5-a4ca-253dc09aee58",
   "metadata": {},
   "source": [
    "## NUMPY PACKAGE"
   ]
  },
  {
   "cell_type": "code",
   "execution_count": 251,
   "id": "07426f11-d3ec-4b03-a8d1-1808520daf5d",
   "metadata": {},
   "outputs": [
    {
     "name": "stdout",
     "output_type": "stream",
     "text": [
      "[[3 4 5 7]\n",
      " [7 4 8 9]]\n"
     ]
    }
   ],
   "source": [
    "import numpy as np\n",
    "\n",
    "ratings = np.array([[3,4,5,7],[7,4,8,9]])\n",
    "print(ratings)"
   ]
  },
  {
   "cell_type": "code",
   "execution_count": 252,
   "id": "3fa42601-1f83-477d-af48-1f30ec709d73",
   "metadata": {},
   "outputs": [
    {
     "name": "stdout",
     "output_type": "stream",
     "text": [
      "[[[3 4 5]\n",
      "  [4 5 6]\n",
      "  [6 2 2]]]\n"
     ]
    }
   ],
   "source": [
    "import numpy as np\n",
    "\n",
    "x = np.array([[[3,4,5],[4,5,6],[6,2,2]]])\n",
    "print(x)"
   ]
  },
  {
   "cell_type": "code",
   "execution_count": 253,
   "id": "1a55a905-b658-4b20-867b-2266cba6e82a",
   "metadata": {},
   "outputs": [
    {
     "name": "stdout",
     "output_type": "stream",
     "text": [
      "[[[[2 4 5 6 7 8]\n",
      "   [5 6 8 3 4 5]\n",
      "   [6 7 8 9 2 5]\n",
      "   [5 7 6 2 1 7]]]]\n"
     ]
    }
   ],
   "source": [
    "import numpy as np\n",
    "calculation = np.array([[[[2,4,5,6,7,8],[5,6,8,3,4,5],[6,7,8,9,2,5],[5,7,6,2,1,7]]]])\n",
    "print(calculation)"
   ]
  },
  {
   "cell_type": "code",
   "execution_count": 254,
   "id": "d9f88e5c-68b5-4a1e-bdb2-cba481d39401",
   "metadata": {},
   "outputs": [
    {
     "name": "stdout",
     "output_type": "stream",
     "text": [
      "[[1. 1. 1. 1.]\n",
      " [1. 1. 1. 1.]\n",
      " [1. 1. 1. 1.]]\n"
     ]
    }
   ],
   "source": [
    "import numpy as np\n",
    "\n",
    "x = np.ones((3,4))\n",
    "print(x)"
   ]
  },
  {
   "cell_type": "code",
   "execution_count": 255,
   "id": "18be048a-071e-4095-b7b0-ae86a732da86",
   "metadata": {},
   "outputs": [
    {
     "name": "stdout",
     "output_type": "stream",
     "text": [
      "[[[1. 1. 1. 1. 1.]\n",
      "  [1. 1. 1. 1. 1.]\n",
      "  [1. 1. 1. 1. 1.]\n",
      "  [1. 1. 1. 1. 1.]]\n",
      "\n",
      " [[1. 1. 1. 1. 1.]\n",
      "  [1. 1. 1. 1. 1.]\n",
      "  [1. 1. 1. 1. 1.]\n",
      "  [1. 1. 1. 1. 1.]]\n",
      "\n",
      " [[1. 1. 1. 1. 1.]\n",
      "  [1. 1. 1. 1. 1.]\n",
      "  [1. 1. 1. 1. 1.]\n",
      "  [1. 1. 1. 1. 1.]]]\n"
     ]
    }
   ],
   "source": [
    "x = np.ones(((3,4,5)))\n",
    "print(x)"
   ]
  },
  {
   "cell_type": "code",
   "execution_count": 256,
   "id": "f3a1677b-15a0-4449-8afb-8309b54945a0",
   "metadata": {},
   "outputs": [
    {
     "name": "stdout",
     "output_type": "stream",
     "text": [
      "[[[1. 1. 1. 1. 1. 1.]\n",
      "  [1. 1. 1. 1. 1. 1.]\n",
      "  [1. 1. 1. 1. 1. 1.]\n",
      "  [1. 1. 1. 1. 1. 1.]\n",
      "  [1. 1. 1. 1. 1. 1.]]\n",
      "\n",
      " [[1. 1. 1. 1. 1. 1.]\n",
      "  [1. 1. 1. 1. 1. 1.]\n",
      "  [1. 1. 1. 1. 1. 1.]\n",
      "  [1. 1. 1. 1. 1. 1.]\n",
      "  [1. 1. 1. 1. 1. 1.]]\n",
      "\n",
      " [[1. 1. 1. 1. 1. 1.]\n",
      "  [1. 1. 1. 1. 1. 1.]\n",
      "  [1. 1. 1. 1. 1. 1.]\n",
      "  [1. 1. 1. 1. 1. 1.]\n",
      "  [1. 1. 1. 1. 1. 1.]]\n",
      "\n",
      " [[1. 1. 1. 1. 1. 1.]\n",
      "  [1. 1. 1. 1. 1. 1.]\n",
      "  [1. 1. 1. 1. 1. 1.]\n",
      "  [1. 1. 1. 1. 1. 1.]\n",
      "  [1. 1. 1. 1. 1. 1.]]]\n"
     ]
    }
   ],
   "source": [
    "x = np.ones(((4,5,6)))\n",
    "print(x)"
   ]
  },
  {
   "cell_type": "code",
   "execution_count": 257,
   "id": "e9697cd0-74d1-4b94-b2ef-1ccdd22a2f35",
   "metadata": {},
   "outputs": [
    {
     "name": "stdout",
     "output_type": "stream",
     "text": [
      "[[[1. 1. 1. 1. 1. 1. 1.]\n",
      "  [1. 1. 1. 1. 1. 1. 1.]\n",
      "  [1. 1. 1. 1. 1. 1. 1.]\n",
      "  [1. 1. 1. 1. 1. 1. 1.]\n",
      "  [1. 1. 1. 1. 1. 1. 1.]\n",
      "  [1. 1. 1. 1. 1. 1. 1.]]\n",
      "\n",
      " [[1. 1. 1. 1. 1. 1. 1.]\n",
      "  [1. 1. 1. 1. 1. 1. 1.]\n",
      "  [1. 1. 1. 1. 1. 1. 1.]\n",
      "  [1. 1. 1. 1. 1. 1. 1.]\n",
      "  [1. 1. 1. 1. 1. 1. 1.]\n",
      "  [1. 1. 1. 1. 1. 1. 1.]]\n",
      "\n",
      " [[1. 1. 1. 1. 1. 1. 1.]\n",
      "  [1. 1. 1. 1. 1. 1. 1.]\n",
      "  [1. 1. 1. 1. 1. 1. 1.]\n",
      "  [1. 1. 1. 1. 1. 1. 1.]\n",
      "  [1. 1. 1. 1. 1. 1. 1.]\n",
      "  [1. 1. 1. 1. 1. 1. 1.]]\n",
      "\n",
      " [[1. 1. 1. 1. 1. 1. 1.]\n",
      "  [1. 1. 1. 1. 1. 1. 1.]\n",
      "  [1. 1. 1. 1. 1. 1. 1.]\n",
      "  [1. 1. 1. 1. 1. 1. 1.]\n",
      "  [1. 1. 1. 1. 1. 1. 1.]\n",
      "  [1. 1. 1. 1. 1. 1. 1.]]\n",
      "\n",
      " [[1. 1. 1. 1. 1. 1. 1.]\n",
      "  [1. 1. 1. 1. 1. 1. 1.]\n",
      "  [1. 1. 1. 1. 1. 1. 1.]\n",
      "  [1. 1. 1. 1. 1. 1. 1.]\n",
      "  [1. 1. 1. 1. 1. 1. 1.]\n",
      "  [1. 1. 1. 1. 1. 1. 1.]]\n",
      "\n",
      " [[1. 1. 1. 1. 1. 1. 1.]\n",
      "  [1. 1. 1. 1. 1. 1. 1.]\n",
      "  [1. 1. 1. 1. 1. 1. 1.]\n",
      "  [1. 1. 1. 1. 1. 1. 1.]\n",
      "  [1. 1. 1. 1. 1. 1. 1.]\n",
      "  [1. 1. 1. 1. 1. 1. 1.]]\n",
      "\n",
      " [[1. 1. 1. 1. 1. 1. 1.]\n",
      "  [1. 1. 1. 1. 1. 1. 1.]\n",
      "  [1. 1. 1. 1. 1. 1. 1.]\n",
      "  [1. 1. 1. 1. 1. 1. 1.]\n",
      "  [1. 1. 1. 1. 1. 1. 1.]\n",
      "  [1. 1. 1. 1. 1. 1. 1.]]]\n"
     ]
    }
   ],
   "source": [
    "x = np.ones(((7,6,7)))\n",
    "print(x)"
   ]
  },
  {
   "cell_type": "code",
   "execution_count": 258,
   "id": "721eb813-7548-4416-a8e9-431ecb338bfb",
   "metadata": {},
   "outputs": [
    {
     "data": {
      "text/plain": [
       "(7, 6, 7)"
      ]
     },
     "execution_count": 258,
     "metadata": {},
     "output_type": "execute_result"
    }
   ],
   "source": [
    "x.shape"
   ]
  },
  {
   "cell_type": "code",
   "execution_count": 259,
   "id": "84882cac-1399-41fc-8b50-2e71e64f8e47",
   "metadata": {},
   "outputs": [
    {
     "name": "stdout",
     "output_type": "stream",
     "text": [
      "[[0. 0. 0. 0.]\n",
      " [0. 0. 0. 0.]\n",
      " [0. 0. 0. 0.]]\n"
     ]
    }
   ],
   "source": [
    "x = np.zeros((3,4))\n",
    "print(x)"
   ]
  },
  {
   "cell_type": "code",
   "execution_count": 260,
   "id": "31509190-4e95-4afa-8a75-e385f007a121",
   "metadata": {},
   "outputs": [
    {
     "name": "stdout",
     "output_type": "stream",
     "text": [
      "[[[0. 0. 0. 0. 0.]\n",
      "  [0. 0. 0. 0. 0.]\n",
      "  [0. 0. 0. 0. 0.]]\n",
      "\n",
      " [[0. 0. 0. 0. 0.]\n",
      "  [0. 0. 0. 0. 0.]\n",
      "  [0. 0. 0. 0. 0.]]\n",
      "\n",
      " [[0. 0. 0. 0. 0.]\n",
      "  [0. 0. 0. 0. 0.]\n",
      "  [0. 0. 0. 0. 0.]]]\n"
     ]
    }
   ],
   "source": [
    "x = np.zeros(((3,3,5)))\n",
    "print(x)"
   ]
  },
  {
   "cell_type": "code",
   "execution_count": 261,
   "id": "da9fd749-ed8b-4c4e-a20e-2fcc4c33b5d7",
   "metadata": {},
   "outputs": [
    {
     "name": "stdout",
     "output_type": "stream",
     "text": [
      "[0.12420342 0.7948514  0.21986616]\n"
     ]
    }
   ],
   "source": [
    "x = np.random.random(3)\n",
    "print(x)"
   ]
  },
  {
   "cell_type": "code",
   "execution_count": 262,
   "id": "8f4ee8e7-8289-4071-b0d1-264e6a7ec868",
   "metadata": {},
   "outputs": [
    {
     "data": {
      "text/plain": [
       "(3,)"
      ]
     },
     "execution_count": 262,
     "metadata": {},
     "output_type": "execute_result"
    }
   ],
   "source": [
    "x.shape"
   ]
  },
  {
   "cell_type": "code",
   "execution_count": 263,
   "id": "84b30d13-f3f0-4e0f-abdf-326cad6898e0",
   "metadata": {},
   "outputs": [
    {
     "name": "stdout",
     "output_type": "stream",
     "text": [
      "[[0.52251885 0.84718782 0.94805137 0.13131558]\n",
      " [0.67123908 0.83642043 0.18655911 0.62690816]\n",
      " [0.71175018 0.42171356 0.1023943  0.94686412]]\n"
     ]
    }
   ],
   "source": [
    "x = np.random.random((3,4))\n",
    "print(x)"
   ]
  },
  {
   "cell_type": "code",
   "execution_count": 264,
   "id": "5c44fc66-fa76-4736-847a-3975f1b2e0c0",
   "metadata": {},
   "outputs": [
    {
     "name": "stdout",
     "output_type": "stream",
     "text": [
      "[[3 4]\n",
      " [3 7]]\n"
     ]
    }
   ],
   "source": [
    "x = np.array([[3,4],[3,7]])\n",
    "print(x)"
   ]
  },
  {
   "cell_type": "code",
   "execution_count": 265,
   "id": "1706a7f9-722a-4351-a1f4-71eaae9c16a6",
   "metadata": {},
   "outputs": [
    {
     "data": {
      "text/plain": [
       "(2, 2)"
      ]
     },
     "execution_count": 265,
     "metadata": {},
     "output_type": "execute_result"
    }
   ],
   "source": [
    "x.shape"
   ]
  },
  {
   "cell_type": "code",
   "execution_count": 266,
   "id": "a76e50ae-f9ab-4b22-b8b8-0912132312dc",
   "metadata": {},
   "outputs": [
    {
     "name": "stdout",
     "output_type": "stream",
     "text": [
      "[2 3]\n"
     ]
    }
   ],
   "source": [
    "x = np.array([2,3])\n",
    "print(x)"
   ]
  },
  {
   "cell_type": "code",
   "execution_count": 267,
   "id": "085753fa-60f7-4430-b8ac-10121f70b35b",
   "metadata": {},
   "outputs": [
    {
     "data": {
      "text/plain": [
       "array([2, 3])"
      ]
     },
     "execution_count": 267,
     "metadata": {},
     "output_type": "execute_result"
    }
   ],
   "source": [
    "x[:]"
   ]
  },
  {
   "cell_type": "code",
   "execution_count": 268,
   "id": "57cb45f7-963a-405e-aca2-b297841b3563",
   "metadata": {},
   "outputs": [
    {
     "data": {
      "text/plain": [
       "array([], dtype=int32)"
      ]
     },
     "execution_count": 268,
     "metadata": {},
     "output_type": "execute_result"
    }
   ],
   "source": [
    "x[x > 3]"
   ]
  },
  {
   "cell_type": "code",
   "execution_count": 269,
   "id": "94095ab2-0a20-4349-a5cb-dcbd7a7b4459",
   "metadata": {},
   "outputs": [
    {
     "data": {
      "text/plain": [
       "array([], dtype=int32)"
      ]
     },
     "execution_count": 269,
     "metadata": {},
     "output_type": "execute_result"
    }
   ],
   "source": [
    "x[x < 1]"
   ]
  },
  {
   "cell_type": "code",
   "execution_count": 270,
   "id": "6d247a4f-907d-45c7-af65-6b595bd55212",
   "metadata": {},
   "outputs": [
    {
     "name": "stdout",
     "output_type": "stream",
     "text": [
      "[[[3 7 9]\n",
      "  [4 7 8]\n",
      "  [2 5 8]]]\n"
     ]
    }
   ],
   "source": [
    "ratings = np.array([[[3,7,9],[4,7,8],[2,5,8]]])\n",
    "print(ratings)"
   ]
  },
  {
   "cell_type": "code",
   "execution_count": 271,
   "id": "5168cffe-5f8f-4507-a2b5-a81575d20d5e",
   "metadata": {},
   "outputs": [
    {
     "data": {
      "text/plain": [
       "(1, 3, 3)"
      ]
     },
     "execution_count": 271,
     "metadata": {},
     "output_type": "execute_result"
    }
   ],
   "source": [
    "ratings.shape"
   ]
  },
  {
   "cell_type": "code",
   "execution_count": 272,
   "id": "3803c8b4-e815-4d8f-8491-9715abf8d548",
   "metadata": {},
   "outputs": [
    {
     "data": {
      "text/plain": [
       "array([], dtype=int32)"
      ]
     },
     "execution_count": 272,
     "metadata": {},
     "output_type": "execute_result"
    }
   ],
   "source": [
    "ratings[ratings > 12]"
   ]
  },
  {
   "cell_type": "code",
   "execution_count": 273,
   "id": "db90bfca-8b8e-473a-933c-a9ed3875d684",
   "metadata": {},
   "outputs": [
    {
     "data": {
      "text/plain": [
       "array([[3, 7, 9],\n",
       "       [4, 7, 8],\n",
       "       [2, 5, 8]])"
      ]
     },
     "execution_count": 273,
     "metadata": {},
     "output_type": "execute_result"
    }
   ],
   "source": [
    "ratings[0, :]"
   ]
  },
  {
   "cell_type": "code",
   "execution_count": 274,
   "id": "51197b90-44ee-4c17-ba21-e36fd200171c",
   "metadata": {},
   "outputs": [
    {
     "data": {
      "text/plain": [
       "array([[3, 7, 9]])"
      ]
     },
     "execution_count": 274,
     "metadata": {},
     "output_type": "execute_result"
    }
   ],
   "source": [
    "ratings[:,0]"
   ]
  },
  {
   "cell_type": "code",
   "execution_count": 275,
   "id": "2a0a57a8-32c0-4406-ba2b-8aa090db1f8b",
   "metadata": {},
   "outputs": [
    {
     "name": "stdout",
     "output_type": "stream",
     "text": [
      "[[[3 7 9]\n",
      "  [4 7 8]\n",
      "  [2 5 8]\n",
      "  [3 4 6]]]\n"
     ]
    }
   ],
   "source": [
    "r = np.append(ratings,[[[3,4,6]]],axis=1)\n",
    "print(r)"
   ]
  },
  {
   "cell_type": "code",
   "execution_count": 276,
   "id": "7a8f6666-1a1f-4a7c-906f-ae708d145909",
   "metadata": {},
   "outputs": [
    {
     "name": "stdout",
     "output_type": "stream",
     "text": [
      "[[[2 4 5]\n",
      "  [4 5 6]]]\n"
     ]
    }
   ],
   "source": [
    "import numpy as np \n",
    "x =np.array([[2,4,5],[4,5,6]],ndmin=3)\n",
    "print(x)"
   ]
  },
  {
   "cell_type": "code",
   "execution_count": 277,
   "id": "d1c016d8-12f2-403d-a5a5-6bcb30b1e763",
   "metadata": {},
   "outputs": [
    {
     "name": "stdout",
     "output_type": "stream",
     "text": [
      "[[[[[[[3 4 5 6]]]]]]]\n"
     ]
    }
   ],
   "source": [
    "import numpy as np\n",
    "w = np.array([3,4,5,6],ndmin=7)\n",
    "print(w)"
   ]
  },
  {
   "cell_type": "code",
   "execution_count": 278,
   "id": "a00db179-8940-4cd6-a9a9-e8d10570cea0",
   "metadata": {},
   "outputs": [
    {
     "data": {
      "text/plain": [
       "(1, 1, 1, 1, 1, 1, 4)"
      ]
     },
     "execution_count": 278,
     "metadata": {},
     "output_type": "execute_result"
    }
   ],
   "source": [
    "w.shape"
   ]
  },
  {
   "cell_type": "code",
   "execution_count": 279,
   "id": "de7d39d0-9d78-4a9e-ada6-1f4a13b32372",
   "metadata": {},
   "outputs": [
    {
     "name": "stdout",
     "output_type": "stream",
     "text": [
      "[1.+0.j 3.+0.j 4.+0.j]\n"
     ]
    }
   ],
   "source": [
    "w = np.array([1,3,4],dtype=complex)\n",
    "print(w)"
   ]
  },
  {
   "cell_type": "code",
   "execution_count": 280,
   "id": "3975fe2d-2497-4739-aa67-3e3b72d0dfe5",
   "metadata": {},
   "outputs": [
    {
     "name": "stdout",
     "output_type": "stream",
     "text": [
      "int32\n"
     ]
    }
   ],
   "source": [
    "dt = np.dtype(np.int32)\n",
    "print(dt)"
   ]
  },
  {
   "cell_type": "code",
   "execution_count": 281,
   "id": "0e4ab659-c93f-4c52-a028-e72d7b4025bc",
   "metadata": {},
   "outputs": [
    {
     "name": "stdout",
     "output_type": "stream",
     "text": [
      "[[[[3 4]\n",
      "   [4 8]]]]\n"
     ]
    }
   ],
   "source": [
    "import numpy as np\n",
    "x = np.array([[3,4],[4,8]],ndmin=4)\n",
    "print(x)"
   ]
  },
  {
   "cell_type": "code",
   "execution_count": 282,
   "id": "c5efedf0-7866-4f6a-a490-2ce69a490acf",
   "metadata": {},
   "outputs": [
    {
     "data": {
      "text/plain": [
       "(1, 1, 2, 2)"
      ]
     },
     "execution_count": 282,
     "metadata": {},
     "output_type": "execute_result"
    }
   ],
   "source": [
    "x.shape"
   ]
  },
  {
   "cell_type": "code",
   "execution_count": 283,
   "id": "0a02809b-1cc4-4954-9392-77954dd0df2b",
   "metadata": {},
   "outputs": [
    {
     "name": "stdout",
     "output_type": "stream",
     "text": [
      "[[3 4]\n",
      " [4 8]]\n"
     ]
    }
   ],
   "source": [
    "x.shape=(2,2)\n",
    "print(x)"
   ]
  },
  {
   "cell_type": "code",
   "execution_count": 284,
   "id": "f43b992d-d41c-45d2-ae5e-74430052bd84",
   "metadata": {},
   "outputs": [
    {
     "name": "stdout",
     "output_type": "stream",
     "text": [
      "[[3 4]\n",
      " [4 8]]\n"
     ]
    }
   ],
   "source": [
    "x.reshape(2,2)\n",
    "print(x)"
   ]
  },
  {
   "cell_type": "code",
   "execution_count": 285,
   "id": "eca142a6-31a5-475d-85f4-94a61a014870",
   "metadata": {},
   "outputs": [
    {
     "name": "stdout",
     "output_type": "stream",
     "text": [
      "[ 0  1  2  3  4  5  6  7  8  9 10 11 12 13 14 15 16 17 18 19 20 21 22 23]\n"
     ]
    }
   ],
   "source": [
    "A = np.arange(24)\n",
    "print(A)"
   ]
  },
  {
   "cell_type": "code",
   "execution_count": 286,
   "id": "d376c7d5-aafe-4f30-9db1-e395eab8b124",
   "metadata": {},
   "outputs": [
    {
     "name": "stdout",
     "output_type": "stream",
     "text": [
      "[[[[[3 4 5]\n",
      "    [3 5 6]\n",
      "    [7 9 3]]]]]\n"
     ]
    }
   ],
   "source": [
    "ratings = np.array([[[3,4,5],[3,5,6],[7,9,3]]],ndmin=5)\n",
    "print(ratings)"
   ]
  },
  {
   "cell_type": "code",
   "execution_count": 287,
   "id": "e647f023-5519-4749-8404-6dd95dfba916",
   "metadata": {},
   "outputs": [
    {
     "data": {
      "text/plain": [
       "(1, 1, 1, 3, 3)"
      ]
     },
     "execution_count": 287,
     "metadata": {},
     "output_type": "execute_result"
    }
   ],
   "source": [
    "ratings.shape"
   ]
  },
  {
   "cell_type": "code",
   "execution_count": 288,
   "id": "ac350d1c-0115-48b4-b4ae-56be487b63d8",
   "metadata": {},
   "outputs": [
    {
     "name": "stdout",
     "output_type": "stream",
     "text": [
      "[[3 4 5]\n",
      " [3 5 6]\n",
      " [7 9 3]]\n"
     ]
    }
   ],
   "source": [
    "ratings.shape=(3,3)\n",
    "print(ratings)"
   ]
  },
  {
   "cell_type": "code",
   "execution_count": 289,
   "id": "345d78ee-3f92-4f33-a62f-d63744f276c6",
   "metadata": {},
   "outputs": [
    {
     "name": "stdout",
     "output_type": "stream",
     "text": [
      "[[3 4 5]\n",
      " [3 5 6]\n",
      " [7 9 3]]\n"
     ]
    }
   ],
   "source": [
    "ratings.reshape(3,3)\n",
    "print(ratings)"
   ]
  },
  {
   "cell_type": "code",
   "execution_count": 290,
   "id": "757fe5c3-9bc3-4fbb-ab57-d9092f230b90",
   "metadata": {},
   "outputs": [
    {
     "name": "stdout",
     "output_type": "stream",
     "text": [
      "[ 0  1  2  3  4  5  6  7  8  9 10 11 12 13 14 15 16 17 18 19 20 21 22 23\n",
      " 24 25 26 27 28 29 30 31 32 33 34 35 36 37 38 39 40 41 42 43 44]\n"
     ]
    }
   ],
   "source": [
    "ratings = np.arange(45)\n",
    "print(ratings)"
   ]
  },
  {
   "cell_type": "code",
   "execution_count": 291,
   "id": "3a760111-f4b1-45c7-a652-0011eaad6909",
   "metadata": {},
   "outputs": [
    {
     "name": "stdout",
     "output_type": "stream",
     "text": [
      "[1. 2. 4. 5. 6.]\n"
     ]
    }
   ],
   "source": [
    "x = np.array([1,2,4,5,6],dtype=np.float32)\n",
    "print(x)"
   ]
  },
  {
   "cell_type": "code",
   "execution_count": 292,
   "id": "4877b2f2-65c6-41df-81f2-ba4160ea7155",
   "metadata": {},
   "outputs": [
    {
     "name": "stdout",
     "output_type": "stream",
     "text": [
      "[5 6 3 2]\n"
     ]
    }
   ],
   "source": [
    "x = np.array([5,6,3,2],dtype=np.int64)\n",
    "print(x)"
   ]
  },
  {
   "cell_type": "code",
   "execution_count": 293,
   "id": "5ce6cecd-2880-498d-b0b3-b9b3089afaeb",
   "metadata": {},
   "outputs": [
    {
     "name": "stdout",
     "output_type": "stream",
     "text": [
      "[4. 6. 7. 8.]\n"
     ]
    }
   ],
   "source": [
    "x = np.array([4,6,7,8], dtype = np.float16)\n",
    "print(x)"
   ]
  },
  {
   "cell_type": "code",
   "execution_count": 294,
   "id": "20894175-5513-483d-a8a8-a0329209f2f8",
   "metadata": {},
   "outputs": [
    {
     "name": "stdout",
     "output_type": "stream",
     "text": [
      "[5. 6. 7. 6.]\n"
     ]
    }
   ],
   "source": [
    "c = np.array([5,6,7,6], dtype = np.float64)\n",
    "print(c)"
   ]
  },
  {
   "cell_type": "code",
   "execution_count": 295,
   "id": "875c33b3-6cd3-402b-b6b6-c47374dd76f0",
   "metadata": {},
   "outputs": [
    {
     "name": "stdout",
     "output_type": "stream",
     "text": [
      "[4 6 7 3]\n"
     ]
    }
   ],
   "source": [
    "c = np.array([4,6,7,3], dtype = np.int64)\n",
    "print(c)"
   ]
  },
  {
   "cell_type": "code",
   "execution_count": 296,
   "id": "cc8f7cfc-6326-4389-b564-a5838b8efeb4",
   "metadata": {},
   "outputs": [
    {
     "name": "stdout",
     "output_type": "stream",
     "text": [
      "  C_CONTIGUOUS : True\n",
      "  F_CONTIGUOUS : True\n",
      "  OWNDATA : True\n",
      "  WRITEABLE : True\n",
      "  ALIGNED : True\n",
      "  WRITEBACKIFCOPY : False\n",
      "\n"
     ]
    }
   ],
   "source": [
    "x = np.array([2,3,4,5,6])\n",
    "print(x.flags)"
   ]
  },
  {
   "cell_type": "code",
   "execution_count": 297,
   "id": "a28fba3d-6a53-4ea2-903f-3a862930e80b",
   "metadata": {},
   "outputs": [
    {
     "name": "stdout",
     "output_type": "stream",
     "text": [
      "[[2 4]\n",
      " [5 4]\n",
      " [5 6]]\n"
     ]
    }
   ],
   "source": [
    "x = np.empty([3,2], dtype =int)\n",
    "print(x)"
   ]
  },
  {
   "cell_type": "code",
   "execution_count": 298,
   "id": "3996fd52-8cdd-4442-97d1-1beda3d4cad3",
   "metadata": {},
   "outputs": [
    {
     "name": "stdout",
     "output_type": "stream",
     "text": [
      "[[         0 1072693248          0          0         83]\n",
      " [       101        114        105        101        115]\n",
      " [        84        105        109        101         83]\n",
      " [       101        114        105        101        115]]\n"
     ]
    }
   ],
   "source": [
    "import numpy as np\n",
    "x = np.empty([4,5],dtype=int)\n",
    "print(x)"
   ]
  },
  {
   "cell_type": "code",
   "execution_count": 299,
   "id": "82e0269e-992b-4fe1-99b9-3c91a3d07424",
   "metadata": {},
   "outputs": [
    {
     "name": "stdout",
     "output_type": "stream",
     "text": [
      "[[6.23042070e-307 4.67296746e-307 1.69121096e-306 6.23058707e-307\n",
      "  8.45593934e-307 7.56593017e-307 1.11258854e-306]\n",
      " [1.11261502e-306 1.42410839e-306 7.56597770e-307 6.23059726e-307\n",
      "  1.86921958e-306 1.37962117e-306 6.89804133e-307]\n",
      " [8.90104239e-307 1.78018403e-306 1.02360256e-306 8.90106955e-307\n",
      "  1.42417629e-306 8.45593934e-307 6.89805151e-307]\n",
      " [1.86920057e-306 1.11261570e-306 8.34451504e-308 1.78022342e-306\n",
      "  8.06635958e-308 8.34423917e-308 2.10081501e-312]]\n"
     ]
    }
   ],
   "source": [
    "import numpy as np\n",
    "x = np.empty([4,7], dtype=float)\n",
    "print(x)"
   ]
  },
  {
   "cell_type": "code",
   "execution_count": 300,
   "id": "f48300e9-15a4-411d-921c-57425ada24c1",
   "metadata": {},
   "outputs": [
    {
     "name": "stdout",
     "output_type": "stream",
     "text": [
      "[3.+0.j 4.+0.j 5.+0.j]\n"
     ]
    }
   ],
   "source": [
    "x = np.array([3,4,5],dtype=complex)\n",
    "print(x)"
   ]
  },
  {
   "cell_type": "code",
   "execution_count": 301,
   "id": "5c1d16d2-db0f-4ba4-91e8-d9fef653a8d8",
   "metadata": {},
   "outputs": [
    {
     "name": "stdout",
     "output_type": "stream",
     "text": [
      "[[0. 0. 0. 0.]\n",
      " [0. 0. 0. 0.]\n",
      " [0. 0. 0. 0.]]\n"
     ]
    }
   ],
   "source": [
    "import numpy as np\n",
    "x = np.zeros((3,4))\n",
    "print(x)"
   ]
  },
  {
   "cell_type": "code",
   "execution_count": 302,
   "id": "f089a69d-e169-42c0-acf1-68b2e366df0c",
   "metadata": {},
   "outputs": [
    {
     "name": "stdout",
     "output_type": "stream",
     "text": [
      "[[0 0 0 0 0]\n",
      " [0 0 0 0 0]\n",
      " [0 0 0 0 0]\n",
      " [0 0 0 0 0]]\n"
     ]
    }
   ],
   "source": [
    "x = np.zeros((4,5),dtype=int)\n",
    "print(x)"
   ]
  },
  {
   "cell_type": "code",
   "execution_count": 303,
   "id": "8eb9f803-ba84-4cce-b01d-5f084324a68c",
   "metadata": {},
   "outputs": [
    {
     "name": "stdout",
     "output_type": "stream",
     "text": [
      "[0. 0. 0. 0. 0.]\n"
     ]
    }
   ],
   "source": [
    "x = np.zeros(5)\n",
    "print(x)"
   ]
  },
  {
   "cell_type": "code",
   "execution_count": 304,
   "id": "b30faea4-f98c-4c3b-98cc-a94a6a32f997",
   "metadata": {},
   "outputs": [
    {
     "name": "stdout",
     "output_type": "stream",
     "text": [
      "[1. 1. 1. 1. 1.]\n"
     ]
    }
   ],
   "source": [
    "import numpy as np\n",
    "x = np.ones(5)\n",
    "print(x)"
   ]
  },
  {
   "cell_type": "code",
   "execution_count": 305,
   "id": "8cee5eef-5cd1-45c8-a698-6dbc9564f347",
   "metadata": {},
   "outputs": [
    {
     "name": "stdout",
     "output_type": "stream",
     "text": [
      "[[1 1 1 1 1]\n",
      " [1 1 1 1 1]\n",
      " [1 1 1 1 1]\n",
      " [1 1 1 1 1]]\n"
     ]
    }
   ],
   "source": [
    "x = np.ones((4,5), dtype=int)\n",
    "print(x)"
   ]
  },
  {
   "cell_type": "code",
   "execution_count": 367,
   "id": "c4517be4-74e8-486a-a14f-6b39af5fd96d",
   "metadata": {},
   "outputs": [
    {
     "name": "stdout",
     "output_type": "stream",
     "text": [
      "[[0. 0. 0. 0. 0. 0. 0.]\n",
      " [0. 0. 0. 0. 0. 0. 0.]\n",
      " [0. 0. 0. 0. 0. 0. 0.]\n",
      " [0. 0. 0. 0. 0. 0. 0.]]\n"
     ]
    }
   ],
   "source": [
    "x = np.zeros((4,7),dtype=float)\n",
    "print(x)"
   ]
  },
  {
   "cell_type": "code",
   "execution_count": 369,
   "id": "f8858df7-c40c-4d4d-a250-680316f30806",
   "metadata": {},
   "outputs": [
    {
     "name": "stdout",
     "output_type": "stream",
     "text": [
      "[[0.+0.j 0.+0.j 0.+0.j 0.+0.j 0.+0.j 0.+0.j]\n",
      " [0.+0.j 0.+0.j 0.+0.j 0.+0.j 0.+0.j 0.+0.j]\n",
      " [0.+0.j 0.+0.j 0.+0.j 0.+0.j 0.+0.j 0.+0.j]\n",
      " [0.+0.j 0.+0.j 0.+0.j 0.+0.j 0.+0.j 0.+0.j]\n",
      " [0.+0.j 0.+0.j 0.+0.j 0.+0.j 0.+0.j 0.+0.j]]\n"
     ]
    }
   ],
   "source": [
    "z = np.zeros((5,6),dtype=complex)\n",
    "print(z)"
   ]
  },
  {
   "cell_type": "code",
   "execution_count": 371,
   "id": "0fb00e5c-d9df-4d76-9579-092b7ff66d2e",
   "metadata": {},
   "outputs": [
    {
     "name": "stdout",
     "output_type": "stream",
     "text": [
      "[ 0  1  2  3  4  5  6  7  8  9 10 11 12 13 14 15 16 17 18 19 20 21 22 23\n",
      " 24 25 26 27 28 29 30 31 32 33 34 35 36 37 38 39 40 41 42 43 44 45 46 47\n",
      " 48 49 50 51 52 53 54 55 56 57 58 59 60 61 62 63 64 65 66 67 68 69 70 71\n",
      " 72 73 74 75 76 77 78 79 80 81 82 83 84 85 86 87 88 89 90 91 92 93 94 95\n",
      " 96 97 98]\n"
     ]
    }
   ],
   "source": [
    "w = np.arange(99)\n",
    "print(w)"
   ]
  },
  {
   "cell_type": "code",
   "execution_count": 373,
   "id": "f1b4d5c3-1e58-4408-a0ca-32e4728503f3",
   "metadata": {},
   "outputs": [
    {
     "name": "stdout",
     "output_type": "stream",
     "text": [
      "[2 4 5]\n"
     ]
    }
   ],
   "source": [
    "x = [2,4,5]\n",
    "z = np.asarray(x)\n",
    "print(z)"
   ]
  },
  {
   "cell_type": "code",
   "execution_count": 375,
   "id": "b37b0e17-3798-46b7-9d2a-b6925289bbcf",
   "metadata": {},
   "outputs": [
    {
     "name": "stdout",
     "output_type": "stream",
     "text": [
      "[33 77 56 78]\n"
     ]
    }
   ],
   "source": [
    "f = [33,77,56,78]\n",
    "g = np.asarray(f)\n",
    "print(g)"
   ]
  },
  {
   "cell_type": "code",
   "execution_count": 377,
   "id": "a628180c-335b-4e1d-b107-57c53383d921",
   "metadata": {},
   "outputs": [
    {
     "name": "stdout",
     "output_type": "stream",
     "text": [
      "[4 5 7]\n"
     ]
    }
   ],
   "source": [
    "x = [4,5,7]\n",
    "a = np.asarray(x,dtype=int)\n",
    "print(a)"
   ]
  },
  {
   "cell_type": "code",
   "execution_count": 379,
   "id": "8328501f-2a0a-44bc-bd05-3e48fb7f3f0d",
   "metadata": {},
   "outputs": [
    {
     "name": "stdout",
     "output_type": "stream",
     "text": [
      "[4 8 9]\n"
     ]
    }
   ],
   "source": [
    "h = [4,8,9]\n",
    "d = np.asarray(h,dtype=int)\n",
    "print(d)"
   ]
  },
  {
   "cell_type": "code",
   "execution_count": 381,
   "id": "3ec2a0f0-a27e-4b9f-a446-aa3308f72be0",
   "metadata": {},
   "outputs": [
    {
     "name": "stdout",
     "output_type": "stream",
     "text": [
      "[0. 1. 2. 3. 4.]\n"
     ]
    }
   ],
   "source": [
    "import numpy as np\n",
    "list = range(5)\n",
    "it = iter(list)\n",
    "\n",
    "x = np.fromiter(it, dtype=float)\n",
    "print(x)"
   ]
  },
  {
   "cell_type": "code",
   "execution_count": 383,
   "id": "22811a96-4369-4745-bc51-215f47b74827",
   "metadata": {},
   "outputs": [
    {
     "name": "stdout",
     "output_type": "stream",
     "text": [
      "[ 0  1  2  3  4  5  6  7  8  9 10 11 12 13 14 15 16 17 18 19 20 21 22 23\n",
      " 24 25 26 27 28 29 30 31 32 33 34 35 36 37 38 39 40 41 42 43 44]\n"
     ]
    }
   ],
   "source": [
    "list = range(45)\n",
    "on = iter(list)\n",
    "\n",
    "y = np.fromiter(on,dtype=int)\n",
    "print(y)"
   ]
  },
  {
   "cell_type": "code",
   "execution_count": 385,
   "id": "90b81413-342a-4b06-ba26-39968bfc04b1",
   "metadata": {},
   "outputs": [
    {
     "name": "stdout",
     "output_type": "stream",
     "text": [
      "[ 0.  1.  2.  3.  4.  5.  6.  7.  8.  9. 10. 11. 12. 13. 14. 15. 16. 17.\n",
      " 18. 19. 20. 21. 22. 23. 24. 25. 26. 27. 28. 29. 30. 31. 32. 33. 34. 35.\n",
      " 36. 37. 38. 39. 40. 41. 42. 43. 44. 45. 46. 47. 48. 49. 50. 51. 52. 53.\n",
      " 54. 55. 56. 57. 58. 59. 60. 61. 62. 63. 64. 65. 66. 67. 68. 69. 70. 71.\n",
      " 72. 73. 74. 75. 76. 77.]\n"
     ]
    }
   ],
   "source": [
    "tuple = range(78)\n",
    "ion = iter(tuple)\n",
    "\n",
    "bb = np.fromiter(ion,dtype=float)\n",
    "print(bb)"
   ]
  },
  {
   "cell_type": "code",
   "execution_count": 387,
   "id": "d8fe9676-b006-4f9b-b85d-5fb54f410205",
   "metadata": {},
   "outputs": [
    {
     "name": "stdout",
     "output_type": "stream",
     "text": [
      "[ 0  1  2  3  4  5  6  7  8  9 10 11 12 13 14 15 16 17 18 19 20 21 22 23\n",
      " 24 25 26 27 28 29 30 31 32 33 34 35 36 37 38 39 40 41 42 43 44 45 46 47\n",
      " 48 49 50 51 52 53 54 55 56 57 58 59 60 61 62 63 64 65 66 67 68 69 70 71\n",
      " 72 73 74 75 76 77 78 79 80 81 82 83 84 85 86 87 88 89 90 91 92 93 94 95\n",
      " 96 97 98]\n"
     ]
    }
   ],
   "source": [
    "list = range(99)\n",
    "off = iter(list)\n",
    "w = np.fromiter(off,dtype=int)\n",
    "print(w)"
   ]
  },
  {
   "cell_type": "code",
   "execution_count": 389,
   "id": "6ea890cb-35ad-4281-b21c-d4a8d36182c2",
   "metadata": {},
   "outputs": [
    {
     "name": "stdout",
     "output_type": "stream",
     "text": [
      "[0 1 2 3 4 5]\n"
     ]
    }
   ],
   "source": [
    "x = np.arange(6, dtype=int)\n",
    "print(x)"
   ]
  },
  {
   "cell_type": "code",
   "execution_count": 391,
   "id": "00b02e84-4614-4a3b-8abd-77a27f8729d8",
   "metadata": {},
   "outputs": [
    {
     "name": "stdout",
     "output_type": "stream",
     "text": [
      "[ 0.  1.  2.  3.  4.  5.  6.  7.  8.  9. 10. 11. 12. 13. 14. 15. 16. 17.\n",
      " 18. 19. 20. 21. 22. 23. 24. 25. 26. 27. 28. 29. 30. 31. 32. 33. 34. 35.\n",
      " 36. 37. 38. 39. 40. 41. 42. 43. 44. 45. 46. 47. 48. 49. 50. 51. 52. 53.\n",
      " 54. 55. 56. 57. 58. 59. 60. 61. 62. 63. 64. 65. 66. 67. 68. 69. 70. 71.\n",
      " 72. 73. 74. 75. 76.]\n"
     ]
    }
   ],
   "source": [
    "q = np.arange(77,dtype=float)\n",
    "print(q)"
   ]
  },
  {
   "cell_type": "code",
   "execution_count": 393,
   "id": "5875068f-b357-450f-80cd-e7b673ef0eb3",
   "metadata": {},
   "outputs": [
    {
     "data": {
      "text/plain": [
       "'1.26.4'"
      ]
     },
     "execution_count": 393,
     "metadata": {},
     "output_type": "execute_result"
    }
   ],
   "source": [
    "np.__version__"
   ]
  },
  {
   "cell_type": "code",
   "execution_count": 395,
   "id": "c2340789-f05c-4c9f-9355-69669a059c67",
   "metadata": {},
   "outputs": [
    {
     "name": "stdout",
     "output_type": "stream",
     "text": [
      "[[0 1 2]\n",
      " [3 4 5]\n",
      " [6 7 8]]\n"
     ]
    }
   ],
   "source": [
    "z = np.arange(9).reshape(3,3)\n",
    "print(z)"
   ]
  },
  {
   "cell_type": "code",
   "execution_count": 397,
   "id": "42250151-8689-41f8-84c5-3b4579b93476",
   "metadata": {},
   "outputs": [
    {
     "name": "stdout",
     "output_type": "stream",
     "text": [
      "(array([0, 1, 4], dtype=int64),)\n"
     ]
    }
   ],
   "source": [
    "z = np.nonzero([1,2,0,0,4,0])\n",
    "print(z)"
   ]
  },
  {
   "cell_type": "code",
   "execution_count": 399,
   "id": "269606a3-c524-4c97-9fb0-e1ac3a87b479",
   "metadata": {},
   "outputs": [
    {
     "name": "stdout",
     "output_type": "stream",
     "text": [
      "[[1. 0. 0.]\n",
      " [0. 1. 0.]\n",
      " [0. 0. 1.]]\n"
     ]
    }
   ],
   "source": [
    "z = np.eye(3)\n",
    "print(z)"
   ]
  },
  {
   "cell_type": "code",
   "execution_count": 401,
   "id": "618c0fb0-1ac3-47f3-a90d-b51df910c585",
   "metadata": {},
   "outputs": [
    {
     "name": "stdout",
     "output_type": "stream",
     "text": [
      "[[[0.38950609 0.72348806 0.44717588]\n",
      "  [0.33014415 0.65568627 0.47329569]\n",
      "  [0.16585269 0.79741219 0.94757699]]\n",
      "\n",
      " [[0.1222033  0.05630254 0.30355602]\n",
      "  [0.8780661  0.16092234 0.02266708]\n",
      "  [0.68309823 0.62410467 0.54988337]]\n",
      "\n",
      " [[0.7348584  0.95439751 0.06372169]\n",
      "  [0.04754721 0.94175661 0.708025  ]\n",
      "  [0.95985313 0.14111796 0.06219438]]]\n"
     ]
    }
   ],
   "source": [
    "x = np.random.random((3,3,3))\n",
    "print(x)"
   ]
  },
  {
   "cell_type": "code",
   "execution_count": 403,
   "id": "dca7ea5c-1bc9-481e-b3ac-11ffabb99732",
   "metadata": {},
   "outputs": [
    {
     "name": "stdout",
     "output_type": "stream",
     "text": [
      "[[0.65746903 0.45613231 0.70733748 0.16400851 0.07971739]\n",
      " [0.         0.6038731  0.62538588 0.79896279 0.54082034]\n",
      " [0.76732147 0.38145122 0.62935113 0.61254052 0.14271895]\n",
      " [0.23101368 0.89117396 0.26346056 0.27678147 0.1592246 ]\n",
      " [0.29557265 0.61423994 0.14929188 0.72891638 1.        ]]\n"
     ]
    }
   ],
   "source": [
    "z = np.random.random((5,5))\n",
    "zmax,zmin = z.max(),z.min()\n",
    "z = (z-zmin)/(zmax -zmin)\n",
    "print(z)"
   ]
  },
  {
   "cell_type": "code",
   "execution_count": 405,
   "id": "3601d138-7b14-470b-98af-c654bdc661e9",
   "metadata": {},
   "outputs": [
    {
     "name": "stdout",
     "output_type": "stream",
     "text": [
      "[4.         4.16666667 4.33333333 4.5        4.66666667 4.83333333\n",
      " 5.        ]\n"
     ]
    }
   ],
   "source": [
    "z = np.linspace(4,5,7)\n",
    "print(z)"
   ]
  },
  {
   "cell_type": "code",
   "execution_count": 407,
   "id": "c339c4a7-df1f-49f9-b078-4083059c8856",
   "metadata": {},
   "outputs": [
    {
     "data": {
      "text/plain": [
       "array([4.        , 4.16666667, 4.33333333, 4.5       , 4.66666667,\n",
       "       4.83333333, 5.        ])"
      ]
     },
     "execution_count": 407,
     "metadata": {},
     "output_type": "execute_result"
    }
   ],
   "source": [
    "z.transpose()"
   ]
  },
  {
   "cell_type": "code",
   "execution_count": 409,
   "id": "30f95821-bf8b-4f58-b516-4e077bb99a06",
   "metadata": {},
   "outputs": [
    {
     "data": {
      "text/plain": [
       "array([4.        , 4.16666667, 4.33333333, 4.5       , 4.66666667,\n",
       "       4.83333333, 5.        ])"
      ]
     },
     "execution_count": 409,
     "metadata": {},
     "output_type": "execute_result"
    }
   ],
   "source": [
    "z.T"
   ]
  },
  {
   "cell_type": "code",
   "execution_count": 411,
   "id": "254e62fe-ba2c-4bb4-b449-03bc74f7ec74",
   "metadata": {},
   "outputs": [
    {
     "name": "stdout",
     "output_type": "stream",
     "text": [
      "8.18535277187245\n"
     ]
    }
   ],
   "source": [
    "z = np.sqrt(67)\n",
    "print(z)"
   ]
  },
  {
   "cell_type": "code",
   "execution_count": 413,
   "id": "8465a253-d3fd-4615-8684-6e40f7f516a4",
   "metadata": {},
   "outputs": [
    {
     "name": "stdout",
     "output_type": "stream",
     "text": [
      "0.0\n"
     ]
    }
   ],
   "source": [
    "z = np.std(87)\n",
    "print(z)"
   ]
  },
  {
   "cell_type": "code",
   "execution_count": 415,
   "id": "8841f31d-ba95-408d-9995-f89f0f608716",
   "metadata": {},
   "outputs": [
    {
     "name": "stdout",
     "output_type": "stream",
     "text": [
      "1.3862943611198906\n"
     ]
    }
   ],
   "source": [
    "e = np.log(4)\n",
    "print(e)"
   ]
  },
  {
   "cell_type": "code",
   "execution_count": 417,
   "id": "eaf01718-f5e6-4457-b049-c49ef2dfb075",
   "metadata": {},
   "outputs": [],
   "source": [
    "import numpy as np"
   ]
  },
  {
   "cell_type": "code",
   "execution_count": 419,
   "id": "52d27df8-66d8-498d-9b16-03efb4306eb3",
   "metadata": {},
   "outputs": [
    {
     "name": "stdout",
     "output_type": "stream",
     "text": [
      "[ 0  1  2  3  4  5  6  7  8  9 10 11 12 13 14 15 16 17 18 19 20 21 22 23\n",
      " 24 25 26 27 28 29 30 31 32 33 34 35 36 37 38 39 40 41 42 43 44 45 46 47\n",
      " 48 49 50 51 52 53 54 55 56 57 58 59 60 61 62 63 64 65 66 67 68 69 70 71\n",
      " 72 73 74 75 76 77 78 79 80 81 82 83 84 85 86 87 88 89 90 91 92 93 94 95\n",
      " 96 97 98]\n"
     ]
    }
   ],
   "source": [
    "list = range(99)\n",
    "it = iter(list)\n",
    "\n",
    "w = np.fromiter(it,dtype=int)\n",
    "print(w)"
   ]
  },
  {
   "cell_type": "code",
   "execution_count": 421,
   "id": "ddf45e24-c45f-449c-937d-ac8a22ec6f18",
   "metadata": {},
   "outputs": [
    {
     "name": "stdout",
     "output_type": "stream",
     "text": [
      "[3 4 6 7]\n"
     ]
    }
   ],
   "source": [
    "w = np.array([3,4,6,7])\n",
    "print(w)"
   ]
  },
  {
   "cell_type": "code",
   "execution_count": 423,
   "id": "20ab8f38-f970-4402-a2a3-61d706ab8a2c",
   "metadata": {},
   "outputs": [
    {
     "data": {
      "text/plain": [
       "3"
      ]
     },
     "execution_count": 423,
     "metadata": {},
     "output_type": "execute_result"
    }
   ],
   "source": [
    "w[0]"
   ]
  },
  {
   "cell_type": "code",
   "execution_count": 425,
   "id": "8632db16-8a5c-440d-9dbc-87f6e6ec5063",
   "metadata": {},
   "outputs": [
    {
     "data": {
      "text/plain": [
       "numpy.ndarray"
      ]
     },
     "execution_count": 425,
     "metadata": {},
     "output_type": "execute_result"
    }
   ],
   "source": [
    "type(w)"
   ]
  },
  {
   "cell_type": "code",
   "execution_count": 426,
   "id": "a97ab64b-4ff0-4118-885e-1f3569aa69b0",
   "metadata": {},
   "outputs": [
    {
     "data": {
      "text/plain": [
       "4"
      ]
     },
     "execution_count": 426,
     "metadata": {},
     "output_type": "execute_result"
    }
   ],
   "source": [
    "w.size"
   ]
  },
  {
   "cell_type": "code",
   "execution_count": 429,
   "id": "e26f0a98-7656-4371-86c1-3933590c3f84",
   "metadata": {},
   "outputs": [
    {
     "name": "stdout",
     "output_type": "stream",
     "text": [
      "[0 3 4 6]\n"
     ]
    }
   ],
   "source": [
    "a = np.array([0,3,4,6])\n",
    "print(a)"
   ]
  },
  {
   "cell_type": "code",
   "execution_count": 431,
   "id": "6fee8eb5-03d0-4430-b4b5-a4ebcaa3b6e0",
   "metadata": {},
   "outputs": [
    {
     "data": {
      "text/plain": [
       "numpy.ndarray"
      ]
     },
     "execution_count": 431,
     "metadata": {},
     "output_type": "execute_result"
    }
   ],
   "source": [
    "type(a)"
   ]
  },
  {
   "cell_type": "code",
   "execution_count": 433,
   "id": "150f55b3-73e6-4e62-bd82-e1a2c5cdd367",
   "metadata": {},
   "outputs": [
    {
     "data": {
      "text/plain": [
       "array([[0, 3],\n",
       "       [4, 6]])"
      ]
     },
     "execution_count": 433,
     "metadata": {},
     "output_type": "execute_result"
    }
   ],
   "source": [
    "a.reshape((2,2))"
   ]
  },
  {
   "cell_type": "code",
   "execution_count": 435,
   "id": "35310c85-a89c-4d3a-aa49-ffc3d2a52f81",
   "metadata": {},
   "outputs": [],
   "source": [
    "a.shape=((2,2))"
   ]
  },
  {
   "cell_type": "code",
   "execution_count": 437,
   "id": "7cbd2d0b-f3a3-4932-8c2b-37affd76413b",
   "metadata": {},
   "outputs": [
    {
     "name": "stdout",
     "output_type": "stream",
     "text": [
      "[[0 3]\n",
      " [4 6]]\n"
     ]
    }
   ],
   "source": [
    "print(a)"
   ]
  },
  {
   "cell_type": "code",
   "execution_count": 439,
   "id": "113fccb9-593b-4ceb-b09a-8d8128b0f0a5",
   "metadata": {},
   "outputs": [
    {
     "name": "stdout",
     "output_type": "stream",
     "text": [
      "[0 1 7 3 7]\n"
     ]
    }
   ],
   "source": [
    "a = np.array([0,1,7,3,7])\n",
    "print(a)"
   ]
  },
  {
   "cell_type": "code",
   "execution_count": 441,
   "id": "80cf2ad9-a74b-4849-9f02-912d79075c3c",
   "metadata": {},
   "outputs": [
    {
     "data": {
      "text/plain": [
       "numpy.ndarray"
      ]
     },
     "execution_count": 441,
     "metadata": {},
     "output_type": "execute_result"
    }
   ],
   "source": [
    "type(a)"
   ]
  },
  {
   "cell_type": "code",
   "execution_count": 443,
   "id": "36577737-e2f8-4393-9ccb-ff89f3fcdd0b",
   "metadata": {},
   "outputs": [
    {
     "data": {
      "text/plain": [
       "5"
      ]
     },
     "execution_count": 443,
     "metadata": {},
     "output_type": "execute_result"
    }
   ],
   "source": [
    "a.size"
   ]
  },
  {
   "cell_type": "code",
   "execution_count": 445,
   "id": "5dddd25d-a550-48ca-8e9d-0094e236859b",
   "metadata": {},
   "outputs": [
    {
     "name": "stdout",
     "output_type": "stream",
     "text": [
      "[[[3. 4. 5.]\n",
      "  [4. 7. 6.]]]\n"
     ]
    }
   ],
   "source": [
    "a = np.array([[3,4,5],[4,7,6]],ndmin=3,dtype=float)\n",
    "print(a)"
   ]
  },
  {
   "cell_type": "code",
   "execution_count": 447,
   "id": "f4e86de5-6ec7-4cf9-afda-f2c4fc7e8dfe",
   "metadata": {},
   "outputs": [
    {
     "data": {
      "text/plain": [
       "array([[[3., 4., 5.],\n",
       "        [4., 7., 6.]]])"
      ]
     },
     "execution_count": 447,
     "metadata": {},
     "output_type": "execute_result"
    }
   ],
   "source": [
    "a[0:1]"
   ]
  },
  {
   "cell_type": "code",
   "execution_count": 449,
   "id": "5788a063-ae66-4148-8c34-9fcc761946f5",
   "metadata": {},
   "outputs": [
    {
     "data": {
      "text/plain": [
       "array([], shape=(0, 2, 3), dtype=float64)"
      ]
     },
     "execution_count": 449,
     "metadata": {},
     "output_type": "execute_result"
    }
   ],
   "source": [
    "a[1:2]"
   ]
  },
  {
   "cell_type": "code",
   "execution_count": 451,
   "id": "dd75e2a5-a619-4f9d-bd34-7c870c664bce",
   "metadata": {},
   "outputs": [
    {
     "name": "stdout",
     "output_type": "stream",
     "text": [
      "[2 1 2 3 4]\n"
     ]
    }
   ],
   "source": [
    "c = np.array([20,1,2,3,4])\n",
    "c[0] = 100\n",
    "c[0] = 2\n",
    "print(c)"
   ]
  },
  {
   "cell_type": "code",
   "execution_count": 453,
   "id": "dd58bcde-7ac9-4111-a464-0d68bcf995c9",
   "metadata": {},
   "outputs": [
    {
     "name": "stdout",
     "output_type": "stream",
     "text": [
      "[3 4 4 7]\n"
     ]
    }
   ],
   "source": [
    "v = np.array([3,4])\n",
    "r = np.array([4,7])\n",
    "w = np.append(v,r)\n",
    "print(w)"
   ]
  },
  {
   "cell_type": "code",
   "execution_count": 455,
   "id": "1588b087-c9f5-4865-bd53-205a9933401e",
   "metadata": {},
   "outputs": [
    {
     "name": "stdout",
     "output_type": "stream",
     "text": [
      "[-1 -3]\n"
     ]
    }
   ],
   "source": [
    "w = np.array(v-r)\n",
    "print(w)"
   ]
  },
  {
   "cell_type": "code",
   "execution_count": 457,
   "id": "5ee2861f-aa5e-46f5-b253-a7c3783eccc0",
   "metadata": {},
   "outputs": [
    {
     "data": {
      "text/plain": [
       "(2,)"
      ]
     },
     "execution_count": 457,
     "metadata": {},
     "output_type": "execute_result"
    }
   ],
   "source": [
    "w.shape"
   ]
  },
  {
   "cell_type": "code",
   "execution_count": 459,
   "id": "cb2cdf83-6a09-4bfe-a6be-6974e5e56119",
   "metadata": {},
   "outputs": [
    {
     "name": "stdout",
     "output_type": "stream",
     "text": [
      "[12 28]\n"
     ]
    }
   ],
   "source": [
    "w = np.multiply(v,r)\n",
    "print(w)"
   ]
  },
  {
   "cell_type": "code",
   "execution_count": 461,
   "id": "430f4225-deeb-4b7a-a63b-f3f5da440e7f",
   "metadata": {},
   "outputs": [
    {
     "name": "stdout",
     "output_type": "stream",
     "text": [
      "[24 56]\n"
     ]
    }
   ],
   "source": [
    "f = 2*w\n",
    "print(f)"
   ]
  },
  {
   "cell_type": "code",
   "execution_count": 463,
   "id": "cbfe7d46-24e5-490a-bd10-8824d6689058",
   "metadata": {},
   "outputs": [
    {
     "name": "stdout",
     "output_type": "stream",
     "text": [
      "24\n",
      "56\n"
     ]
    }
   ],
   "source": [
    "for b in f:\n",
    "    print(b)"
   ]
  },
  {
   "cell_type": "code",
   "execution_count": 465,
   "id": "97e4b136-5515-4285-91f5-1439c0ff9423",
   "metadata": {},
   "outputs": [
    {
     "name": "stdout",
     "output_type": "stream",
     "text": [
      "[3 4 6 8]\n"
     ]
    }
   ],
   "source": [
    "u = np.array([2,3,5,7])\n",
    "z = u + 1\n",
    "print(z)"
   ]
  },
  {
   "cell_type": "code",
   "execution_count": 467,
   "id": "16086657-8198-42b5-a8c6-d2e6c75689cc",
   "metadata": {},
   "outputs": [
    {
     "name": "stdout",
     "output_type": "stream",
     "text": [
      "8\n"
     ]
    }
   ],
   "source": [
    "a = np.array([3,5,7,8])\n",
    "b = a.max()\n",
    "print(b)\n"
   ]
  },
  {
   "cell_type": "code",
   "execution_count": 469,
   "id": "8769d346-fbab-40a0-a54c-97fe5bdafd1b",
   "metadata": {},
   "outputs": [
    {
     "name": "stdout",
     "output_type": "stream",
     "text": [
      "8\n"
     ]
    }
   ],
   "source": [
    "d = b.sum()\n",
    "print(d)"
   ]
  },
  {
   "cell_type": "code",
   "execution_count": 471,
   "id": "15279964-6f6d-453b-a57c-011b8081da3c",
   "metadata": {},
   "outputs": [
    {
     "name": "stdout",
     "output_type": "stream",
     "text": [
      "-0.5215510020869119\n"
     ]
    }
   ],
   "source": [
    "r = np.sin(56)\n",
    "print(r)"
   ]
  },
  {
   "cell_type": "code",
   "execution_count": 472,
   "id": "b577828c-707e-47e6-aea0-8887f75e82d0",
   "metadata": {},
   "outputs": [
    {
     "name": "stdout",
     "output_type": "stream",
     "text": [
      "-0.9880316240928618\n"
     ]
    }
   ],
   "source": [
    "r = np.sin(30)\n",
    "print(r)"
   ]
  },
  {
   "cell_type": "code",
   "execution_count": 475,
   "id": "5f7d5f15-4c3c-448d-b8df-2c155c49ad66",
   "metadata": {},
   "outputs": [
    {
     "name": "stdout",
     "output_type": "stream",
     "text": [
      "0.15425144988758405\n"
     ]
    }
   ],
   "source": [
    "w = np.cos(30)\n",
    "print(w)"
   ]
  },
  {
   "cell_type": "code",
   "execution_count": 477,
   "id": "b514cde3-4afd-43bc-a0b0-584a6aca82d5",
   "metadata": {},
   "outputs": [
    {
     "name": "stdout",
     "output_type": "stream",
     "text": [
      "[3.   3.25 3.5  3.75 4.  ]\n"
     ]
    }
   ],
   "source": [
    "w = np.linspace(3,4,5)\n",
    "print(w)"
   ]
  },
  {
   "cell_type": "code",
   "execution_count": 479,
   "id": "3e0a2114-a5a1-468c-8b24-8123d7f2fb28",
   "metadata": {},
   "outputs": [
    {
     "name": "stdout",
     "output_type": "stream",
     "text": [
      "[[25 43 56]\n",
      " [32 55 72]\n",
      " [27 46 64]]\n"
     ]
    }
   ],
   "source": [
    "c = np.array([[3,4],[4,5],[5,3]])\n",
    "g = np.array([[3,5,8],[4,7,8]])\n",
    "\n",
    "i = np.dot(c,g)\n",
    "print(i)"
   ]
  },
  {
   "cell_type": "markdown",
   "id": "78b6e0b3-9560-4adb-835e-7cf590a047da",
   "metadata": {},
   "source": []
  },
  {
   "cell_type": "code",
   "execution_count": 482,
   "id": "c60fff34-5953-4670-8acd-4cc498abe78d",
   "metadata": {},
   "outputs": [
    {
     "name": "stdout",
     "output_type": "stream",
     "text": [
      "[3.  3.2 3.4 3.6 3.8 4. ]\n"
     ]
    }
   ],
   "source": [
    "w = np.linspace(3,4,6)\n",
    "print(w)"
   ]
  },
  {
   "cell_type": "code",
   "execution_count": 484,
   "id": "9baf8f5b-dd2b-4a39-85af-9d6404c98960",
   "metadata": {},
   "outputs": [
    {
     "name": "stdout",
     "output_type": "stream",
     "text": [
      "[3.         3.08163265 3.16326531 3.24489796 3.32653061 3.40816327\n",
      " 3.48979592 3.57142857 3.65306122 3.73469388 3.81632653 3.89795918\n",
      " 3.97959184 4.06122449 4.14285714 4.2244898  4.30612245 4.3877551\n",
      " 4.46938776 4.55102041 4.63265306 4.71428571 4.79591837 4.87755102\n",
      " 4.95918367 5.04081633 5.12244898 5.20408163 5.28571429 5.36734694\n",
      " 5.44897959 5.53061224 5.6122449  5.69387755 5.7755102  5.85714286\n",
      " 5.93877551 6.02040816 6.10204082 6.18367347 6.26530612 6.34693878\n",
      " 6.42857143 6.51020408 6.59183673 6.67346939 6.75510204 6.83673469\n",
      " 6.91836735 7.        ]\n"
     ]
    }
   ],
   "source": [
    "f = np.linspace(3,7)\n",
    "print(f)"
   ]
  },
  {
   "cell_type": "markdown",
   "id": "29c61902-abf7-43e1-873d-fbb34cf7d4ee",
   "metadata": {},
   "source": [
    "## PANDAS "
   ]
  },
  {
   "cell_type": "code",
   "execution_count": 487,
   "id": "987854ce-42f6-4c85-80e2-0caa00ae0822",
   "metadata": {},
   "outputs": [
    {
     "name": "stdout",
     "output_type": "stream",
     "text": [
      "0    45\n",
      "1    78\n",
      "2    89\n",
      "3    57\n",
      "4    33\n",
      "5    44\n",
      "dtype: int64\n"
     ]
    }
   ],
   "source": [
    "import pandas as pd\n",
    "\n",
    "x = [45,78,89,57,33,44]\n",
    "t = pd.Series(x)\n",
    "print(t)"
   ]
  },
  {
   "cell_type": "code",
   "execution_count": 489,
   "id": "f7742341-465e-4ceb-9a9b-f195d0818680",
   "metadata": {},
   "outputs": [
    {
     "name": "stdout",
     "output_type": "stream",
     "text": [
      "                         Name                 Courses  \\\n",
      "0  obafemi awolowo university               Dentistry   \n",
      "1        university of ibadan    Medicine and surgery   \n",
      "2         university of lagos                Pharmacy   \n",
      "3        university of ilorin  medical rehabilitation   \n",
      "\n",
      "                      faculty  \n",
      "0                    Pharmacy  \n",
      "1  college of health sciences  \n",
      "2          faculty of science  \n",
      "3              faculty of law  \n"
     ]
    }
   ],
   "source": [
    "Data = {\"Name\":[\"obafemi awolowo university\", \"university of ibadan\",\"university of lagos\",\"university of ilorin\"],\n",
    "        \"Courses\":[\"Dentistry\", \"Medicine and surgery\", \"Pharmacy\", \"medical rehabilitation\"],\n",
    "        \"faculty\":[\"Pharmacy\", \"college of health sciences\", \"faculty of science\", \"faculty of law\"]}\n",
    "\n",
    "df = pd.DataFrame(Data)\n",
    "print(df)"
   ]
  },
  {
   "cell_type": "code",
   "execution_count": 491,
   "id": "ae021abe-880b-4a8d-88bb-1c2824d81611",
   "metadata": {},
   "outputs": [
    {
     "name": "stdout",
     "output_type": "stream",
     "text": [
      "   country_name  capitals   Hand writing\n",
      "0       Nigeria     Abuja    consistency\n",
      "1         Ghana     lagos    hardworking\n",
      "2  cote d'voire      cedi  determination\n",
      "3         Niger    Abigan      resilence\n",
      "4      cameroun     Lagos         belief\n",
      "5         benin  yeounade          habit\n"
     ]
    }
   ],
   "source": [
    "Continents = {\"country_name\":[\"Nigeria\", \"Ghana\", \"cote d'voire\",\"Niger\", \"cameroun\",\"benin\"],\n",
    "              \"capitals\":[\"Abuja\", \"lagos\", \"cedi\",\"Abigan\", \"Lagos\", \"yeounade\"],\n",
    "              \"Hand writing\":[\"consistency\", \"hardworking\", \"determination\", \"resilence\",\"belief\",\"habit\"]}\n",
    "df = pd.DataFrame(Continents)\n",
    "print(df)"
   ]
  },
  {
   "cell_type": "code",
   "execution_count": 492,
   "id": "260d2bae-cab7-4f97-aa19-bf68cace7e2c",
   "metadata": {},
   "outputs": [
    {
     "name": "stdout",
     "output_type": "stream",
     "text": [
      "0         Nigeria\n",
      "1           Ghana\n",
      "2    cote d'voire\n",
      "3           Niger\n",
      "4        cameroun\n",
      "5           benin\n",
      "Name: country_name, dtype: object\n"
     ]
    }
   ],
   "source": [
    "print(df[\"country_name\"])"
   ]
  },
  {
   "cell_type": "code",
   "execution_count": 493,
   "id": "a9730f66-850e-450a-b417-c3b8428f046b",
   "metadata": {},
   "outputs": [
    {
     "name": "stdout",
     "output_type": "stream",
     "text": [
      "0       Abuja\n",
      "1       lagos\n",
      "2        cedi\n",
      "3      Abigan\n",
      "4       Lagos\n",
      "5    yeounade\n",
      "Name: capitals, dtype: object\n"
     ]
    }
   ],
   "source": [
    "print(df[\"capitals\"])"
   ]
  },
  {
   "cell_type": "code",
   "execution_count": 494,
   "id": "b7d0aab7-e0f9-4cac-9517-3060423ee28b",
   "metadata": {},
   "outputs": [
    {
     "name": "stdout",
     "output_type": "stream",
     "text": [
      "0      consistency\n",
      "1      hardworking\n",
      "2    determination\n",
      "3        resilence\n",
      "4           belief\n",
      "5            habit\n",
      "Name: Hand writing, dtype: object\n"
     ]
    }
   ],
   "source": [
    "print(df[\"Hand writing\"])"
   ]
  },
  {
   "cell_type": "code",
   "execution_count": 495,
   "id": "36274b2e-fb83-420f-b1c5-9a1214e8ecae",
   "metadata": {},
   "outputs": [
    {
     "name": "stdout",
     "output_type": "stream",
     "text": [
      "country_name    cameroun\n",
      "capitals           Lagos\n",
      "Hand writing      belief\n",
      "Name: 4, dtype: object\n"
     ]
    }
   ],
   "source": [
    "print(df.iloc[4])"
   ]
  },
  {
   "cell_type": "code",
   "execution_count": 501,
   "id": "6b1f60a5-d8ed-4db1-b1d1-36cdafc3e03e",
   "metadata": {},
   "outputs": [
    {
     "name": "stdout",
     "output_type": "stream",
     "text": [
      "country_name        Niger\n",
      "capitals           Abigan\n",
      "Hand writing    resilence\n",
      "Name: 3, dtype: object\n"
     ]
    }
   ],
   "source": [
    "print(df.iloc[3])"
   ]
  },
  {
   "cell_type": "code",
   "execution_count": 503,
   "id": "d94463a5-a87a-484b-8345-71a2d99c57de",
   "metadata": {},
   "outputs": [
    {
     "name": "stdout",
     "output_type": "stream",
     "text": [
      "country_name     cote d'voire\n",
      "capitals                 cedi\n",
      "Hand writing    determination\n",
      "Name: 2, dtype: object\n"
     ]
    }
   ],
   "source": [
    "print(df.iloc[2])"
   ]
  },
  {
   "cell_type": "code",
   "execution_count": 505,
   "id": "772e96a5-a07f-426a-aa06-c40f447d0a56",
   "metadata": {},
   "outputs": [
    {
     "data": {
      "text/plain": [
       "array(['Abuja', 'lagos', 'cedi', 'Abigan', 'Lagos', 'yeounade'],\n",
       "      dtype=object)"
      ]
     },
     "execution_count": 505,
     "metadata": {},
     "output_type": "execute_result"
    }
   ],
   "source": [
    "df[\"capitals\"].unique()"
   ]
  },
  {
   "cell_type": "code",
   "execution_count": 507,
   "id": "f80a613d-b467-4ff4-a204-270236a452d6",
   "metadata": {},
   "outputs": [
    {
     "data": {
      "text/plain": [
       "array(['Nigeria', 'Ghana', \"cote d'voire\", 'Niger', 'cameroun', 'benin'],\n",
       "      dtype=object)"
      ]
     },
     "execution_count": 507,
     "metadata": {},
     "output_type": "execute_result"
    }
   ],
   "source": [
    "df[\"country_name\"].unique()"
   ]
  },
  {
   "cell_type": "code",
   "execution_count": 509,
   "id": "b1e82fae-0d4c-4377-ac58-a69c3bf35c22",
   "metadata": {},
   "outputs": [
    {
     "data": {
      "text/plain": [
       "(6, 3)"
      ]
     },
     "execution_count": 509,
     "metadata": {},
     "output_type": "execute_result"
    }
   ],
   "source": [
    "df.shape"
   ]
  },
  {
   "cell_type": "code",
   "execution_count": 511,
   "id": "6516900e-8643-4ed5-b1ff-3eb314171cfb",
   "metadata": {},
   "outputs": [
    {
     "data": {
      "text/html": [
       "<div>\n",
       "<style scoped>\n",
       "    .dataframe tbody tr th:only-of-type {\n",
       "        vertical-align: middle;\n",
       "    }\n",
       "\n",
       "    .dataframe tbody tr th {\n",
       "        vertical-align: top;\n",
       "    }\n",
       "\n",
       "    .dataframe thead th {\n",
       "        text-align: right;\n",
       "    }\n",
       "</style>\n",
       "<table border=\"1\" class=\"dataframe\">\n",
       "  <thead>\n",
       "    <tr style=\"text-align: right;\">\n",
       "      <th></th>\n",
       "      <th>country_name</th>\n",
       "      <th>capitals</th>\n",
       "      <th>Hand writing</th>\n",
       "    </tr>\n",
       "  </thead>\n",
       "  <tbody>\n",
       "    <tr>\n",
       "      <th>0</th>\n",
       "      <td>Nigeria</td>\n",
       "      <td>Abuja</td>\n",
       "      <td>consistency</td>\n",
       "    </tr>\n",
       "    <tr>\n",
       "      <th>1</th>\n",
       "      <td>Ghana</td>\n",
       "      <td>lagos</td>\n",
       "      <td>hardworking</td>\n",
       "    </tr>\n",
       "    <tr>\n",
       "      <th>2</th>\n",
       "      <td>cote d'voire</td>\n",
       "      <td>cedi</td>\n",
       "      <td>determination</td>\n",
       "    </tr>\n",
       "    <tr>\n",
       "      <th>3</th>\n",
       "      <td>Niger</td>\n",
       "      <td>Abigan</td>\n",
       "      <td>resilence</td>\n",
       "    </tr>\n",
       "    <tr>\n",
       "      <th>4</th>\n",
       "      <td>cameroun</td>\n",
       "      <td>Lagos</td>\n",
       "      <td>belief</td>\n",
       "    </tr>\n",
       "  </tbody>\n",
       "</table>\n",
       "</div>"
      ],
      "text/plain": [
       "   country_name capitals   Hand writing\n",
       "0       Nigeria    Abuja    consistency\n",
       "1         Ghana    lagos    hardworking\n",
       "2  cote d'voire     cedi  determination\n",
       "3         Niger   Abigan      resilence\n",
       "4      cameroun    Lagos         belief"
      ]
     },
     "execution_count": 511,
     "metadata": {},
     "output_type": "execute_result"
    }
   ],
   "source": [
    "df.head()"
   ]
  },
  {
   "cell_type": "code",
   "execution_count": 513,
   "id": "5b8064c0-b0f9-429f-ac3b-fda994eebd28",
   "metadata": {},
   "outputs": [
    {
     "data": {
      "text/html": [
       "<div>\n",
       "<style scoped>\n",
       "    .dataframe tbody tr th:only-of-type {\n",
       "        vertical-align: middle;\n",
       "    }\n",
       "\n",
       "    .dataframe tbody tr th {\n",
       "        vertical-align: top;\n",
       "    }\n",
       "\n",
       "    .dataframe thead th {\n",
       "        text-align: right;\n",
       "    }\n",
       "</style>\n",
       "<table border=\"1\" class=\"dataframe\">\n",
       "  <thead>\n",
       "    <tr style=\"text-align: right;\">\n",
       "      <th></th>\n",
       "      <th>country_name</th>\n",
       "      <th>capitals</th>\n",
       "      <th>Hand writing</th>\n",
       "    </tr>\n",
       "  </thead>\n",
       "  <tbody>\n",
       "    <tr>\n",
       "      <th>1</th>\n",
       "      <td>Ghana</td>\n",
       "      <td>lagos</td>\n",
       "      <td>hardworking</td>\n",
       "    </tr>\n",
       "    <tr>\n",
       "      <th>2</th>\n",
       "      <td>cote d'voire</td>\n",
       "      <td>cedi</td>\n",
       "      <td>determination</td>\n",
       "    </tr>\n",
       "    <tr>\n",
       "      <th>3</th>\n",
       "      <td>Niger</td>\n",
       "      <td>Abigan</td>\n",
       "      <td>resilence</td>\n",
       "    </tr>\n",
       "    <tr>\n",
       "      <th>4</th>\n",
       "      <td>cameroun</td>\n",
       "      <td>Lagos</td>\n",
       "      <td>belief</td>\n",
       "    </tr>\n",
       "    <tr>\n",
       "      <th>5</th>\n",
       "      <td>benin</td>\n",
       "      <td>yeounade</td>\n",
       "      <td>habit</td>\n",
       "    </tr>\n",
       "  </tbody>\n",
       "</table>\n",
       "</div>"
      ],
      "text/plain": [
       "   country_name  capitals   Hand writing\n",
       "1         Ghana     lagos    hardworking\n",
       "2  cote d'voire      cedi  determination\n",
       "3         Niger    Abigan      resilence\n",
       "4      cameroun     Lagos         belief\n",
       "5         benin  yeounade          habit"
      ]
     },
     "execution_count": 513,
     "metadata": {},
     "output_type": "execute_result"
    }
   ],
   "source": [
    "df.tail()"
   ]
  },
  {
   "cell_type": "code",
   "execution_count": 515,
   "id": "36b84a9e-3356-4eef-ab39-f2678d82ed28",
   "metadata": {},
   "outputs": [
    {
     "data": {
      "text/html": [
       "<div>\n",
       "<style scoped>\n",
       "    .dataframe tbody tr th:only-of-type {\n",
       "        vertical-align: middle;\n",
       "    }\n",
       "\n",
       "    .dataframe tbody tr th {\n",
       "        vertical-align: top;\n",
       "    }\n",
       "\n",
       "    .dataframe thead th {\n",
       "        text-align: right;\n",
       "    }\n",
       "</style>\n",
       "<table border=\"1\" class=\"dataframe\">\n",
       "  <thead>\n",
       "    <tr style=\"text-align: right;\">\n",
       "      <th></th>\n",
       "      <th>country_name</th>\n",
       "      <th>capitals</th>\n",
       "      <th>Hand writing</th>\n",
       "    </tr>\n",
       "  </thead>\n",
       "  <tbody>\n",
       "    <tr>\n",
       "      <th>count</th>\n",
       "      <td>6</td>\n",
       "      <td>6</td>\n",
       "      <td>6</td>\n",
       "    </tr>\n",
       "    <tr>\n",
       "      <th>unique</th>\n",
       "      <td>6</td>\n",
       "      <td>6</td>\n",
       "      <td>6</td>\n",
       "    </tr>\n",
       "    <tr>\n",
       "      <th>top</th>\n",
       "      <td>Nigeria</td>\n",
       "      <td>Abuja</td>\n",
       "      <td>consistency</td>\n",
       "    </tr>\n",
       "    <tr>\n",
       "      <th>freq</th>\n",
       "      <td>1</td>\n",
       "      <td>1</td>\n",
       "      <td>1</td>\n",
       "    </tr>\n",
       "  </tbody>\n",
       "</table>\n",
       "</div>"
      ],
      "text/plain": [
       "       country_name capitals Hand writing\n",
       "count             6        6            6\n",
       "unique            6        6            6\n",
       "top         Nigeria    Abuja  consistency\n",
       "freq              1        1            1"
      ]
     },
     "execution_count": 515,
     "metadata": {},
     "output_type": "execute_result"
    }
   ],
   "source": [
    "df.describe()"
   ]
  },
  {
   "cell_type": "code",
   "execution_count": 521,
   "id": "eba9049d-b7a0-44ad-b550-5de3b479e72f",
   "metadata": {},
   "outputs": [],
   "source": [
    "package = {\"Birthday\":[\"jollof\" ,\"rice\", \"meat\", \"cake\", \"pictures\", \"shoes\"],\n",
    "           \"faculty\":[\"pharmacy\", \"Dentistry\", \"clinical science\",\"computer science\",\"basic medical science\",\"law\"],\n",
    "           \"Dentistry\":[\"oral-radiology\", \"oral-medicine\", \"oral-surgery\", \"oral-oncology\",\"orthodontics\",\"oral-pathology\"]}\n",
    "\n",
    "df = pd.DataFrame(package)"
   ]
  },
  {
   "cell_type": "code",
   "execution_count": 523,
   "id": "7e2d715e-c31a-4e09-8f9e-30b76f0c4b3c",
   "metadata": {},
   "outputs": [
    {
     "data": {
      "text/html": [
       "<div>\n",
       "<style scoped>\n",
       "    .dataframe tbody tr th:only-of-type {\n",
       "        vertical-align: middle;\n",
       "    }\n",
       "\n",
       "    .dataframe tbody tr th {\n",
       "        vertical-align: top;\n",
       "    }\n",
       "\n",
       "    .dataframe thead th {\n",
       "        text-align: right;\n",
       "    }\n",
       "</style>\n",
       "<table border=\"1\" class=\"dataframe\">\n",
       "  <thead>\n",
       "    <tr style=\"text-align: right;\">\n",
       "      <th></th>\n",
       "      <th>Birthday</th>\n",
       "      <th>faculty</th>\n",
       "      <th>Dentistry</th>\n",
       "    </tr>\n",
       "  </thead>\n",
       "  <tbody>\n",
       "    <tr>\n",
       "      <th>0</th>\n",
       "      <td>jollof</td>\n",
       "      <td>pharmacy</td>\n",
       "      <td>oral-radiology</td>\n",
       "    </tr>\n",
       "    <tr>\n",
       "      <th>1</th>\n",
       "      <td>rice</td>\n",
       "      <td>Dentistry</td>\n",
       "      <td>oral-medicine</td>\n",
       "    </tr>\n",
       "    <tr>\n",
       "      <th>2</th>\n",
       "      <td>meat</td>\n",
       "      <td>clinical science</td>\n",
       "      <td>oral-surgery</td>\n",
       "    </tr>\n",
       "    <tr>\n",
       "      <th>3</th>\n",
       "      <td>cake</td>\n",
       "      <td>computer science</td>\n",
       "      <td>oral-oncology</td>\n",
       "    </tr>\n",
       "    <tr>\n",
       "      <th>4</th>\n",
       "      <td>pictures</td>\n",
       "      <td>basic medical science</td>\n",
       "      <td>orthodontics</td>\n",
       "    </tr>\n",
       "    <tr>\n",
       "      <th>5</th>\n",
       "      <td>shoes</td>\n",
       "      <td>law</td>\n",
       "      <td>oral-pathology</td>\n",
       "    </tr>\n",
       "  </tbody>\n",
       "</table>\n",
       "</div>"
      ],
      "text/plain": [
       "   Birthday                faculty       Dentistry\n",
       "0    jollof               pharmacy  oral-radiology\n",
       "1      rice              Dentistry   oral-medicine\n",
       "2      meat       clinical science    oral-surgery\n",
       "3      cake       computer science   oral-oncology\n",
       "4  pictures  basic medical science    orthodontics\n",
       "5     shoes                    law  oral-pathology"
      ]
     },
     "execution_count": 523,
     "metadata": {},
     "output_type": "execute_result"
    }
   ],
   "source": [
    "df"
   ]
  },
  {
   "cell_type": "code",
   "execution_count": 525,
   "id": "b65fa4ff-6871-4e63-97a4-f3534fe92f5e",
   "metadata": {},
   "outputs": [
    {
     "data": {
      "text/html": [
       "<div>\n",
       "<style scoped>\n",
       "    .dataframe tbody tr th:only-of-type {\n",
       "        vertical-align: middle;\n",
       "    }\n",
       "\n",
       "    .dataframe tbody tr th {\n",
       "        vertical-align: top;\n",
       "    }\n",
       "\n",
       "    .dataframe thead th {\n",
       "        text-align: right;\n",
       "    }\n",
       "</style>\n",
       "<table border=\"1\" class=\"dataframe\">\n",
       "  <thead>\n",
       "    <tr style=\"text-align: right;\">\n",
       "      <th></th>\n",
       "      <th>Birthday</th>\n",
       "      <th>faculty</th>\n",
       "      <th>Dentistry</th>\n",
       "    </tr>\n",
       "  </thead>\n",
       "  <tbody>\n",
       "    <tr>\n",
       "      <th>0</th>\n",
       "      <td>jollof</td>\n",
       "      <td>pharmacy</td>\n",
       "      <td>oral-radiology</td>\n",
       "    </tr>\n",
       "    <tr>\n",
       "      <th>1</th>\n",
       "      <td>rice</td>\n",
       "      <td>Dentistry</td>\n",
       "      <td>oral-medicine</td>\n",
       "    </tr>\n",
       "    <tr>\n",
       "      <th>2</th>\n",
       "      <td>meat</td>\n",
       "      <td>clinical science</td>\n",
       "      <td>oral-surgery</td>\n",
       "    </tr>\n",
       "    <tr>\n",
       "      <th>3</th>\n",
       "      <td>cake</td>\n",
       "      <td>computer science</td>\n",
       "      <td>oral-oncology</td>\n",
       "    </tr>\n",
       "    <tr>\n",
       "      <th>4</th>\n",
       "      <td>pictures</td>\n",
       "      <td>basic medical science</td>\n",
       "      <td>orthodontics</td>\n",
       "    </tr>\n",
       "  </tbody>\n",
       "</table>\n",
       "</div>"
      ],
      "text/plain": [
       "   Birthday                faculty       Dentistry\n",
       "0    jollof               pharmacy  oral-radiology\n",
       "1      rice              Dentistry   oral-medicine\n",
       "2      meat       clinical science    oral-surgery\n",
       "3      cake       computer science   oral-oncology\n",
       "4  pictures  basic medical science    orthodontics"
      ]
     },
     "execution_count": 525,
     "metadata": {},
     "output_type": "execute_result"
    }
   ],
   "source": [
    "df.head()"
   ]
  },
  {
   "cell_type": "code",
   "execution_count": 527,
   "id": "6f9a5b44-546f-4eef-9630-c0a7e2f46906",
   "metadata": {},
   "outputs": [
    {
     "data": {
      "text/html": [
       "<div>\n",
       "<style scoped>\n",
       "    .dataframe tbody tr th:only-of-type {\n",
       "        vertical-align: middle;\n",
       "    }\n",
       "\n",
       "    .dataframe tbody tr th {\n",
       "        vertical-align: top;\n",
       "    }\n",
       "\n",
       "    .dataframe thead th {\n",
       "        text-align: right;\n",
       "    }\n",
       "</style>\n",
       "<table border=\"1\" class=\"dataframe\">\n",
       "  <thead>\n",
       "    <tr style=\"text-align: right;\">\n",
       "      <th></th>\n",
       "      <th>Birthday</th>\n",
       "      <th>faculty</th>\n",
       "      <th>Dentistry</th>\n",
       "    </tr>\n",
       "  </thead>\n",
       "  <tbody>\n",
       "    <tr>\n",
       "      <th>1</th>\n",
       "      <td>rice</td>\n",
       "      <td>Dentistry</td>\n",
       "      <td>oral-medicine</td>\n",
       "    </tr>\n",
       "    <tr>\n",
       "      <th>2</th>\n",
       "      <td>meat</td>\n",
       "      <td>clinical science</td>\n",
       "      <td>oral-surgery</td>\n",
       "    </tr>\n",
       "    <tr>\n",
       "      <th>3</th>\n",
       "      <td>cake</td>\n",
       "      <td>computer science</td>\n",
       "      <td>oral-oncology</td>\n",
       "    </tr>\n",
       "    <tr>\n",
       "      <th>4</th>\n",
       "      <td>pictures</td>\n",
       "      <td>basic medical science</td>\n",
       "      <td>orthodontics</td>\n",
       "    </tr>\n",
       "    <tr>\n",
       "      <th>5</th>\n",
       "      <td>shoes</td>\n",
       "      <td>law</td>\n",
       "      <td>oral-pathology</td>\n",
       "    </tr>\n",
       "  </tbody>\n",
       "</table>\n",
       "</div>"
      ],
      "text/plain": [
       "   Birthday                faculty       Dentistry\n",
       "1      rice              Dentistry   oral-medicine\n",
       "2      meat       clinical science    oral-surgery\n",
       "3      cake       computer science   oral-oncology\n",
       "4  pictures  basic medical science    orthodontics\n",
       "5     shoes                    law  oral-pathology"
      ]
     },
     "execution_count": 527,
     "metadata": {},
     "output_type": "execute_result"
    }
   ],
   "source": [
    "df.tail()"
   ]
  },
  {
   "cell_type": "code",
   "execution_count": 529,
   "id": "6d457abd-613e-4e5f-a9cd-a18e4c3e7599",
   "metadata": {},
   "outputs": [
    {
     "data": {
      "text/plain": [
       "<bound method NDFrame.describe of    Birthday                faculty       Dentistry\n",
       "0    jollof               pharmacy  oral-radiology\n",
       "1      rice              Dentistry   oral-medicine\n",
       "2      meat       clinical science    oral-surgery\n",
       "3      cake       computer science   oral-oncology\n",
       "4  pictures  basic medical science    orthodontics\n",
       "5     shoes                    law  oral-pathology>"
      ]
     },
     "execution_count": 529,
     "metadata": {},
     "output_type": "execute_result"
    }
   ],
   "source": [
    "df.describe"
   ]
  },
  {
   "cell_type": "code",
   "execution_count": 531,
   "id": "2e1d7925-c9df-4ed8-9c42-dcaab523f483",
   "metadata": {},
   "outputs": [
    {
     "data": {
      "text/plain": [
       "18"
      ]
     },
     "execution_count": 531,
     "metadata": {},
     "output_type": "execute_result"
    }
   ],
   "source": [
    "df.size"
   ]
  },
  {
   "cell_type": "code",
   "execution_count": 535,
   "id": "3b04ef96-effe-4e3d-a35c-cdb4b830ee70",
   "metadata": {},
   "outputs": [
    {
     "data": {
      "text/plain": [
       "array(['jollof', 'rice', 'meat', 'cake', 'pictures', 'shoes'],\n",
       "      dtype=object)"
      ]
     },
     "execution_count": 535,
     "metadata": {},
     "output_type": "execute_result"
    }
   ],
   "source": [
    "df[\"Birthday\"].unique()"
   ]
  },
  {
   "cell_type": "code",
   "execution_count": 537,
   "id": "8663542a-77c0-4e16-bb34-fb79d9fc8188",
   "metadata": {},
   "outputs": [
    {
     "data": {
      "text/plain": [
       "array(['pharmacy', 'Dentistry', 'clinical science', 'computer science',\n",
       "       'basic medical science', 'law'], dtype=object)"
      ]
     },
     "execution_count": 537,
     "metadata": {},
     "output_type": "execute_result"
    }
   ],
   "source": [
    "df[\"faculty\"].unique()"
   ]
  },
  {
   "cell_type": "code",
   "execution_count": 539,
   "id": "56ddd07b-8ba7-4304-bd04-da2a945a77c3",
   "metadata": {},
   "outputs": [
    {
     "data": {
      "text/plain": [
       "array(['oral-radiology', 'oral-medicine', 'oral-surgery', 'oral-oncology',\n",
       "       'orthodontics', 'oral-pathology'], dtype=object)"
      ]
     },
     "execution_count": 539,
     "metadata": {},
     "output_type": "execute_result"
    }
   ],
   "source": [
    "df[\"Dentistry\"].unique()"
   ]
  },
  {
   "cell_type": "code",
   "execution_count": 547,
   "id": "234b13fc-9621-4931-a0b8-e8049d1f150c",
   "metadata": {},
   "outputs": [],
   "source": [
    "name = [\"Anuoluwapo\", \"Abidoye\", \"Samuel\", \"Holuwagbotemi\", \"Hanuoluwapo\", \"isinkaye\", \"praise\",\"oluwafinsayo\"]\n",
    "\n",
    "total_name = [\"Dentistry\", \"Medicine\", \"clinical science\", \"medicine_surgery\", \"stanford\", \"biomedical data science\", \"Grad school\", \"internship\"]\n",
    "\n",
    "\n",
    "df = pd.DataFrame(index=name, columns = total_name)\n",
    "\n"
   ]
  },
  {
   "cell_type": "code",
   "execution_count": 549,
   "id": "4e8c9959-4357-4001-9ed9-3ade8597b1ba",
   "metadata": {},
   "outputs": [
    {
     "data": {
      "text/html": [
       "<div>\n",
       "<style scoped>\n",
       "    .dataframe tbody tr th:only-of-type {\n",
       "        vertical-align: middle;\n",
       "    }\n",
       "\n",
       "    .dataframe tbody tr th {\n",
       "        vertical-align: top;\n",
       "    }\n",
       "\n",
       "    .dataframe thead th {\n",
       "        text-align: right;\n",
       "    }\n",
       "</style>\n",
       "<table border=\"1\" class=\"dataframe\">\n",
       "  <thead>\n",
       "    <tr style=\"text-align: right;\">\n",
       "      <th></th>\n",
       "      <th>Dentistry</th>\n",
       "      <th>Medicine</th>\n",
       "      <th>clinical science</th>\n",
       "      <th>medicine_surgery</th>\n",
       "      <th>stanford</th>\n",
       "      <th>biomedical data science</th>\n",
       "      <th>Grad school</th>\n",
       "      <th>internship</th>\n",
       "    </tr>\n",
       "  </thead>\n",
       "  <tbody>\n",
       "    <tr>\n",
       "      <th>Anuoluwapo</th>\n",
       "      <td>NaN</td>\n",
       "      <td>NaN</td>\n",
       "      <td>NaN</td>\n",
       "      <td>NaN</td>\n",
       "      <td>NaN</td>\n",
       "      <td>NaN</td>\n",
       "      <td>NaN</td>\n",
       "      <td>NaN</td>\n",
       "    </tr>\n",
       "    <tr>\n",
       "      <th>Abidoye</th>\n",
       "      <td>NaN</td>\n",
       "      <td>NaN</td>\n",
       "      <td>NaN</td>\n",
       "      <td>NaN</td>\n",
       "      <td>NaN</td>\n",
       "      <td>NaN</td>\n",
       "      <td>NaN</td>\n",
       "      <td>NaN</td>\n",
       "    </tr>\n",
       "    <tr>\n",
       "      <th>Samuel</th>\n",
       "      <td>NaN</td>\n",
       "      <td>NaN</td>\n",
       "      <td>NaN</td>\n",
       "      <td>NaN</td>\n",
       "      <td>NaN</td>\n",
       "      <td>NaN</td>\n",
       "      <td>NaN</td>\n",
       "      <td>NaN</td>\n",
       "    </tr>\n",
       "    <tr>\n",
       "      <th>Holuwagbotemi</th>\n",
       "      <td>NaN</td>\n",
       "      <td>NaN</td>\n",
       "      <td>NaN</td>\n",
       "      <td>NaN</td>\n",
       "      <td>NaN</td>\n",
       "      <td>NaN</td>\n",
       "      <td>NaN</td>\n",
       "      <td>NaN</td>\n",
       "    </tr>\n",
       "    <tr>\n",
       "      <th>Hanuoluwapo</th>\n",
       "      <td>NaN</td>\n",
       "      <td>NaN</td>\n",
       "      <td>NaN</td>\n",
       "      <td>NaN</td>\n",
       "      <td>NaN</td>\n",
       "      <td>NaN</td>\n",
       "      <td>NaN</td>\n",
       "      <td>NaN</td>\n",
       "    </tr>\n",
       "    <tr>\n",
       "      <th>isinkaye</th>\n",
       "      <td>NaN</td>\n",
       "      <td>NaN</td>\n",
       "      <td>NaN</td>\n",
       "      <td>NaN</td>\n",
       "      <td>NaN</td>\n",
       "      <td>NaN</td>\n",
       "      <td>NaN</td>\n",
       "      <td>NaN</td>\n",
       "    </tr>\n",
       "    <tr>\n",
       "      <th>praise</th>\n",
       "      <td>NaN</td>\n",
       "      <td>NaN</td>\n",
       "      <td>NaN</td>\n",
       "      <td>NaN</td>\n",
       "      <td>NaN</td>\n",
       "      <td>NaN</td>\n",
       "      <td>NaN</td>\n",
       "      <td>NaN</td>\n",
       "    </tr>\n",
       "    <tr>\n",
       "      <th>oluwafinsayo</th>\n",
       "      <td>NaN</td>\n",
       "      <td>NaN</td>\n",
       "      <td>NaN</td>\n",
       "      <td>NaN</td>\n",
       "      <td>NaN</td>\n",
       "      <td>NaN</td>\n",
       "      <td>NaN</td>\n",
       "      <td>NaN</td>\n",
       "    </tr>\n",
       "  </tbody>\n",
       "</table>\n",
       "</div>"
      ],
      "text/plain": [
       "              Dentistry Medicine clinical science medicine_surgery stanford  \\\n",
       "Anuoluwapo          NaN      NaN              NaN              NaN      NaN   \n",
       "Abidoye             NaN      NaN              NaN              NaN      NaN   \n",
       "Samuel              NaN      NaN              NaN              NaN      NaN   \n",
       "Holuwagbotemi       NaN      NaN              NaN              NaN      NaN   \n",
       "Hanuoluwapo         NaN      NaN              NaN              NaN      NaN   \n",
       "isinkaye            NaN      NaN              NaN              NaN      NaN   \n",
       "praise              NaN      NaN              NaN              NaN      NaN   \n",
       "oluwafinsayo        NaN      NaN              NaN              NaN      NaN   \n",
       "\n",
       "              biomedical data science Grad school internship  \n",
       "Anuoluwapo                        NaN         NaN        NaN  \n",
       "Abidoye                           NaN         NaN        NaN  \n",
       "Samuel                            NaN         NaN        NaN  \n",
       "Holuwagbotemi                     NaN         NaN        NaN  \n",
       "Hanuoluwapo                       NaN         NaN        NaN  \n",
       "isinkaye                          NaN         NaN        NaN  \n",
       "praise                            NaN         NaN        NaN  \n",
       "oluwafinsayo                      NaN         NaN        NaN  "
      ]
     },
     "execution_count": 549,
     "metadata": {},
     "output_type": "execute_result"
    }
   ],
   "source": [
    "df"
   ]
  },
  {
   "cell_type": "code",
   "execution_count": 559,
   "id": "e0be40e1-62f2-4614-a03f-57fd3b7319e5",
   "metadata": {},
   "outputs": [],
   "source": [
    "conference = [[77, \"Abidoye\", 67] ,[56, \"Aanuoluwapo\", 78] ,[93, \"Samuel\", 44]]\n",
    "index = [\"Holuwagbotemi\", \"Hanuoluwapo\", \"Exousia\"]\n",
    "columns = [\"Dentistry B.CH.D\", \"Biomedical data science PHD\",\"standford MBA\"]\n",
    "df = pd.DataFrame(data=conference, index=index, columns=columns)              "
   ]
  },
  {
   "cell_type": "code",
   "execution_count": 561,
   "id": "9abaf8ba-c3d4-4beb-b5be-d6bfe4f86703",
   "metadata": {},
   "outputs": [
    {
     "data": {
      "text/html": [
       "<div>\n",
       "<style scoped>\n",
       "    .dataframe tbody tr th:only-of-type {\n",
       "        vertical-align: middle;\n",
       "    }\n",
       "\n",
       "    .dataframe tbody tr th {\n",
       "        vertical-align: top;\n",
       "    }\n",
       "\n",
       "    .dataframe thead th {\n",
       "        text-align: right;\n",
       "    }\n",
       "</style>\n",
       "<table border=\"1\" class=\"dataframe\">\n",
       "  <thead>\n",
       "    <tr style=\"text-align: right;\">\n",
       "      <th></th>\n",
       "      <th>Dentistry B.CH.D</th>\n",
       "      <th>Biomedical data science PHD</th>\n",
       "      <th>standford MBA</th>\n",
       "    </tr>\n",
       "  </thead>\n",
       "  <tbody>\n",
       "    <tr>\n",
       "      <th>Holuwagbotemi</th>\n",
       "      <td>77</td>\n",
       "      <td>Abidoye</td>\n",
       "      <td>67</td>\n",
       "    </tr>\n",
       "    <tr>\n",
       "      <th>Hanuoluwapo</th>\n",
       "      <td>56</td>\n",
       "      <td>Aanuoluwapo</td>\n",
       "      <td>78</td>\n",
       "    </tr>\n",
       "    <tr>\n",
       "      <th>Exousia</th>\n",
       "      <td>93</td>\n",
       "      <td>Samuel</td>\n",
       "      <td>44</td>\n",
       "    </tr>\n",
       "  </tbody>\n",
       "</table>\n",
       "</div>"
      ],
      "text/plain": [
       "               Dentistry B.CH.D Biomedical data science PHD  standford MBA\n",
       "Holuwagbotemi                77                     Abidoye             67\n",
       "Hanuoluwapo                  56                 Aanuoluwapo             78\n",
       "Exousia                      93                      Samuel             44"
      ]
     },
     "execution_count": 561,
     "metadata": {},
     "output_type": "execute_result"
    }
   ],
   "source": [
    "df"
   ]
  },
  {
   "cell_type": "code",
   "execution_count": 567,
   "id": "da711a5b-9510-4daa-899c-e7d2d622ab9b",
   "metadata": {},
   "outputs": [],
   "source": [
    "school = [[33, \"university of obafemi awolowo university\", 67],[45, \"University of ibadan\", 77],[90, \"university of benin\",56]]\n",
    "courses = [\"pharmacy\",\"medicine and sugery\", \"petroleum engineering\"]\n",
    "castings = [\"photography\", \"wedding\",  \"acting career\"]\n",
    "\n",
    "df = pd.DataFrame(data=school, index=courses, columns =castings)"
   ]
  },
  {
   "cell_type": "code",
   "execution_count": 569,
   "id": "41ae5aa8-ef6f-47bc-adb3-95ce01353e5d",
   "metadata": {},
   "outputs": [
    {
     "data": {
      "text/html": [
       "<div>\n",
       "<style scoped>\n",
       "    .dataframe tbody tr th:only-of-type {\n",
       "        vertical-align: middle;\n",
       "    }\n",
       "\n",
       "    .dataframe tbody tr th {\n",
       "        vertical-align: top;\n",
       "    }\n",
       "\n",
       "    .dataframe thead th {\n",
       "        text-align: right;\n",
       "    }\n",
       "</style>\n",
       "<table border=\"1\" class=\"dataframe\">\n",
       "  <thead>\n",
       "    <tr style=\"text-align: right;\">\n",
       "      <th></th>\n",
       "      <th>photography</th>\n",
       "      <th>wedding</th>\n",
       "      <th>acting career</th>\n",
       "    </tr>\n",
       "  </thead>\n",
       "  <tbody>\n",
       "    <tr>\n",
       "      <th>pharmacy</th>\n",
       "      <td>33</td>\n",
       "      <td>university of obafemi awolowo university</td>\n",
       "      <td>67</td>\n",
       "    </tr>\n",
       "    <tr>\n",
       "      <th>medicine and sugery</th>\n",
       "      <td>45</td>\n",
       "      <td>University of ibadan</td>\n",
       "      <td>77</td>\n",
       "    </tr>\n",
       "    <tr>\n",
       "      <th>petroleum engineering</th>\n",
       "      <td>90</td>\n",
       "      <td>university of benin</td>\n",
       "      <td>56</td>\n",
       "    </tr>\n",
       "  </tbody>\n",
       "</table>\n",
       "</div>"
      ],
      "text/plain": [
       "                       photography                                   wedding  \\\n",
       "pharmacy                        33  university of obafemi awolowo university   \n",
       "medicine and sugery             45                      University of ibadan   \n",
       "petroleum engineering           90                       university of benin   \n",
       "\n",
       "                       acting career  \n",
       "pharmacy                          67  \n",
       "medicine and sugery               77  \n",
       "petroleum engineering             56  "
      ]
     },
     "execution_count": 569,
     "metadata": {},
     "output_type": "execute_result"
    }
   ],
   "source": [
    "df"
   ]
  },
  {
   "cell_type": "code",
   "execution_count": 573,
   "id": "96e72330-c8d7-41ba-9e04-5fdf704df745",
   "metadata": {},
   "outputs": [],
   "source": [
    "dictionary = {\"age\":[37,34,29],\"country\":[\"portugal\",\"Argentina\",\"Brazil\"], \"trophy\":[56, 52, 44]}\n",
    "name = [\"Christiano Ronaldo\", \"Lionel Messi\", \"Neymar\"]\n",
    "\n",
    "df = pd.DataFrame(dictionary, name)"
   ]
  },
  {
   "cell_type": "code",
   "execution_count": 575,
   "id": "1099c04d-8b49-41f4-97c5-42c7ce856978",
   "metadata": {},
   "outputs": [
    {
     "data": {
      "text/html": [
       "<div>\n",
       "<style scoped>\n",
       "    .dataframe tbody tr th:only-of-type {\n",
       "        vertical-align: middle;\n",
       "    }\n",
       "\n",
       "    .dataframe tbody tr th {\n",
       "        vertical-align: top;\n",
       "    }\n",
       "\n",
       "    .dataframe thead th {\n",
       "        text-align: right;\n",
       "    }\n",
       "</style>\n",
       "<table border=\"1\" class=\"dataframe\">\n",
       "  <thead>\n",
       "    <tr style=\"text-align: right;\">\n",
       "      <th></th>\n",
       "      <th>age</th>\n",
       "      <th>country</th>\n",
       "      <th>trophy</th>\n",
       "    </tr>\n",
       "  </thead>\n",
       "  <tbody>\n",
       "    <tr>\n",
       "      <th>Christiano Ronaldo</th>\n",
       "      <td>37</td>\n",
       "      <td>portugal</td>\n",
       "      <td>56</td>\n",
       "    </tr>\n",
       "    <tr>\n",
       "      <th>Lionel Messi</th>\n",
       "      <td>34</td>\n",
       "      <td>Argentina</td>\n",
       "      <td>52</td>\n",
       "    </tr>\n",
       "    <tr>\n",
       "      <th>Neymar</th>\n",
       "      <td>29</td>\n",
       "      <td>Brazil</td>\n",
       "      <td>44</td>\n",
       "    </tr>\n",
       "  </tbody>\n",
       "</table>\n",
       "</div>"
      ],
      "text/plain": [
       "                    age    country  trophy\n",
       "Christiano Ronaldo   37   portugal      56\n",
       "Lionel Messi         34  Argentina      52\n",
       "Neymar               29     Brazil      44"
      ]
     },
     "execution_count": 575,
     "metadata": {},
     "output_type": "execute_result"
    }
   ],
   "source": [
    "df"
   ]
  },
  {
   "cell_type": "code",
   "execution_count": 581,
   "id": "eeeb3a49-7507-4015-8469-e59f7747aed7",
   "metadata": {},
   "outputs": [],
   "source": [
    "import numpy as np\n",
    "\n",
    "array_ng = np.array([[33, \"Ronaldo\", 56], [30, \"lionel messi\", 52], [26, \"Neymar\", 33]])\n",
    "classification = [\"christiano ronaldo\",\"lionel messi\", \"neymar\"]\n",
    "over_all = [\"age\", \"Nationality\", \"trophy\"]\n",
    "\n",
    "df = pd.DataFrame(data=array_ng, index = classification, columns = over_all)\n"
   ]
  },
  {
   "cell_type": "code",
   "execution_count": 591,
   "id": "2ee17865-2dbc-4718-8cf8-1c7ade8a20be",
   "metadata": {},
   "outputs": [
    {
     "data": {
      "text/html": [
       "<div>\n",
       "<style scoped>\n",
       "    .dataframe tbody tr th:only-of-type {\n",
       "        vertical-align: middle;\n",
       "    }\n",
       "\n",
       "    .dataframe tbody tr th {\n",
       "        vertical-align: top;\n",
       "    }\n",
       "\n",
       "    .dataframe thead th {\n",
       "        text-align: right;\n",
       "    }\n",
       "</style>\n",
       "<table border=\"1\" class=\"dataframe\">\n",
       "  <thead>\n",
       "    <tr style=\"text-align: right;\">\n",
       "      <th></th>\n",
       "      <th>age</th>\n",
       "      <th>Nationality</th>\n",
       "      <th>trophy</th>\n",
       "    </tr>\n",
       "  </thead>\n",
       "  <tbody>\n",
       "    <tr>\n",
       "      <th>christiano ronaldo</th>\n",
       "      <td>33</td>\n",
       "      <td>Ronaldo</td>\n",
       "      <td>56</td>\n",
       "    </tr>\n",
       "    <tr>\n",
       "      <th>lionel messi</th>\n",
       "      <td>30</td>\n",
       "      <td>lionel messi</td>\n",
       "      <td>52</td>\n",
       "    </tr>\n",
       "    <tr>\n",
       "      <th>neymar</th>\n",
       "      <td>26</td>\n",
       "      <td>Neymar</td>\n",
       "      <td>33</td>\n",
       "    </tr>\n",
       "  </tbody>\n",
       "</table>\n",
       "</div>"
      ],
      "text/plain": [
       "                   age   Nationality trophy\n",
       "christiano ronaldo  33       Ronaldo     56\n",
       "lionel messi        30  lionel messi     52\n",
       "neymar              26        Neymar     33"
      ]
     },
     "execution_count": 591,
     "metadata": {},
     "output_type": "execute_result"
    }
   ],
   "source": [
    "df"
   ]
  },
  {
   "cell_type": "code",
   "execution_count": 597,
   "id": "bdabd358-20fb-440a-b18e-f4d3b045cff3",
   "metadata": {},
   "outputs": [
    {
     "data": {
      "text/plain": [
       "age                26\n",
       "Nationality    Neymar\n",
       "trophy             33\n",
       "Name: neymar, dtype: object"
      ]
     },
     "execution_count": 597,
     "metadata": {},
     "output_type": "execute_result"
    }
   ],
   "source": [
    "df.loc[\"neymar\"]"
   ]
  },
  {
   "cell_type": "code",
   "execution_count": 599,
   "id": "b5630f33-5f8c-4144-825c-63e69c8fad8c",
   "metadata": {},
   "outputs": [
    {
     "data": {
      "text/plain": [
       "age                 33\n",
       "Nationality    Ronaldo\n",
       "trophy              56\n",
       "Name: christiano ronaldo, dtype: object"
      ]
     },
     "execution_count": 599,
     "metadata": {},
     "output_type": "execute_result"
    }
   ],
   "source": [
    "df.loc[\"christiano ronaldo\"]"
   ]
  },
  {
   "cell_type": "code",
   "execution_count": 601,
   "id": "a523e05f-f76d-4c42-86a4-2858780fd7f4",
   "metadata": {},
   "outputs": [
    {
     "data": {
      "text/html": [
       "<div>\n",
       "<style scoped>\n",
       "    .dataframe tbody tr th:only-of-type {\n",
       "        vertical-align: middle;\n",
       "    }\n",
       "\n",
       "    .dataframe tbody tr th {\n",
       "        vertical-align: top;\n",
       "    }\n",
       "\n",
       "    .dataframe thead th {\n",
       "        text-align: right;\n",
       "    }\n",
       "</style>\n",
       "<table border=\"1\" class=\"dataframe\">\n",
       "  <thead>\n",
       "    <tr style=\"text-align: right;\">\n",
       "      <th></th>\n",
       "      <th>age</th>\n",
       "      <th>Nationality</th>\n",
       "      <th>trophy</th>\n",
       "    </tr>\n",
       "  </thead>\n",
       "  <tbody>\n",
       "    <tr>\n",
       "      <th>neymar</th>\n",
       "      <td>26</td>\n",
       "      <td>Neymar</td>\n",
       "      <td>33</td>\n",
       "    </tr>\n",
       "  </tbody>\n",
       "</table>\n",
       "</div>"
      ],
      "text/plain": [
       "       age Nationality trophy\n",
       "neymar  26      Neymar     33"
      ]
     },
     "execution_count": 601,
     "metadata": {},
     "output_type": "execute_result"
    }
   ],
   "source": [
    "df.iloc[2:3]"
   ]
  },
  {
   "cell_type": "code",
   "execution_count": 585,
   "id": "f69d633b-6d6f-4f5a-bae1-827783007cf9",
   "metadata": {},
   "outputs": [
    {
     "name": "stdout",
     "output_type": "stream",
     "text": [
      "[[[[5 6 7 8]]]]\n"
     ]
    }
   ],
   "source": [
    "import numpy as np\n",
    "x = np.array([5,6,7,8],ndmin =4, dtype=int)\n",
    "print(x)"
   ]
  },
  {
   "cell_type": "code",
   "execution_count": 605,
   "id": "bbbe9b6a-38bc-4e2a-aeda-cd741ec1266f",
   "metadata": {},
   "outputs": [],
   "source": [
    "lists = {\"Crops\":[\"wheats\",\"corn\", \"rice\", \"soya beans\"],\n",
    "         \"total_numbers_of tons\":[3,4.5,2,5],\n",
    "         \"Country\":[\"Nigeria\", \"Ghana\", \"senegal\",\"cameroun\"]}\n",
    "df = pd.DataFrame(lists)"
   ]
  },
  {
   "cell_type": "code",
   "execution_count": 607,
   "id": "d0b6fa79-c8d6-4144-a26f-d08f256e5f86",
   "metadata": {
    "scrolled": true
   },
   "outputs": [
    {
     "data": {
      "text/html": [
       "<div>\n",
       "<style scoped>\n",
       "    .dataframe tbody tr th:only-of-type {\n",
       "        vertical-align: middle;\n",
       "    }\n",
       "\n",
       "    .dataframe tbody tr th {\n",
       "        vertical-align: top;\n",
       "    }\n",
       "\n",
       "    .dataframe thead th {\n",
       "        text-align: right;\n",
       "    }\n",
       "</style>\n",
       "<table border=\"1\" class=\"dataframe\">\n",
       "  <thead>\n",
       "    <tr style=\"text-align: right;\">\n",
       "      <th></th>\n",
       "      <th>Crops</th>\n",
       "      <th>total_numbers_of tons</th>\n",
       "      <th>Country</th>\n",
       "    </tr>\n",
       "  </thead>\n",
       "  <tbody>\n",
       "    <tr>\n",
       "      <th>0</th>\n",
       "      <td>wheats</td>\n",
       "      <td>3.0</td>\n",
       "      <td>Nigeria</td>\n",
       "    </tr>\n",
       "    <tr>\n",
       "      <th>1</th>\n",
       "      <td>corn</td>\n",
       "      <td>4.5</td>\n",
       "      <td>Ghana</td>\n",
       "    </tr>\n",
       "    <tr>\n",
       "      <th>2</th>\n",
       "      <td>rice</td>\n",
       "      <td>2.0</td>\n",
       "      <td>senegal</td>\n",
       "    </tr>\n",
       "    <tr>\n",
       "      <th>3</th>\n",
       "      <td>soya beans</td>\n",
       "      <td>5.0</td>\n",
       "      <td>cameroun</td>\n",
       "    </tr>\n",
       "  </tbody>\n",
       "</table>\n",
       "</div>"
      ],
      "text/plain": [
       "        Crops  total_numbers_of tons   Country\n",
       "0      wheats                    3.0   Nigeria\n",
       "1        corn                    4.5     Ghana\n",
       "2        rice                    2.0   senegal\n",
       "3  soya beans                    5.0  cameroun"
      ]
     },
     "execution_count": 607,
     "metadata": {},
     "output_type": "execute_result"
    }
   ],
   "source": [
    "df"
   ]
  },
  {
   "cell_type": "code",
   "execution_count": 619,
   "id": "34c6ca19-bacb-48e3-af0c-96eb69b7fe63",
   "metadata": {},
   "outputs": [
    {
     "data": {
      "text/html": [
       "<div>\n",
       "<style scoped>\n",
       "    .dataframe tbody tr th:only-of-type {\n",
       "        vertical-align: middle;\n",
       "    }\n",
       "\n",
       "    .dataframe tbody tr th {\n",
       "        vertical-align: top;\n",
       "    }\n",
       "\n",
       "    .dataframe thead th {\n",
       "        text-align: right;\n",
       "    }\n",
       "</style>\n",
       "<table border=\"1\" class=\"dataframe\">\n",
       "  <thead>\n",
       "    <tr style=\"text-align: right;\">\n",
       "      <th></th>\n",
       "      <th>Crops</th>\n",
       "      <th>total_numbers_of tons</th>\n",
       "      <th>Country</th>\n",
       "    </tr>\n",
       "  </thead>\n",
       "  <tbody>\n",
       "    <tr>\n",
       "      <th>1</th>\n",
       "      <td>corn</td>\n",
       "      <td>4.5</td>\n",
       "      <td>Ghana</td>\n",
       "    </tr>\n",
       "    <tr>\n",
       "      <th>2</th>\n",
       "      <td>rice</td>\n",
       "      <td>2.0</td>\n",
       "      <td>senegal</td>\n",
       "    </tr>\n",
       "    <tr>\n",
       "      <th>3</th>\n",
       "      <td>soya beans</td>\n",
       "      <td>5.0</td>\n",
       "      <td>cameroun</td>\n",
       "    </tr>\n",
       "    <tr>\n",
       "      <th>0</th>\n",
       "      <td>wheats</td>\n",
       "      <td>3.0</td>\n",
       "      <td>Nigeria</td>\n",
       "    </tr>\n",
       "  </tbody>\n",
       "</table>\n",
       "</div>"
      ],
      "text/plain": [
       "        Crops  total_numbers_of tons   Country\n",
       "1        corn                    4.5     Ghana\n",
       "2        rice                    2.0   senegal\n",
       "3  soya beans                    5.0  cameroun\n",
       "0      wheats                    3.0   Nigeria"
      ]
     },
     "execution_count": 619,
     "metadata": {},
     "output_type": "execute_result"
    }
   ],
   "source": [
    "df.sort_values(\"Crops\").head()"
   ]
  },
  {
   "cell_type": "code",
   "execution_count": 627,
   "id": "7aef5eb5-2810-42e6-bc8c-d5077b260a7a",
   "metadata": {},
   "outputs": [
    {
     "data": {
      "text/html": [
       "<div>\n",
       "<style scoped>\n",
       "    .dataframe tbody tr th:only-of-type {\n",
       "        vertical-align: middle;\n",
       "    }\n",
       "\n",
       "    .dataframe tbody tr th {\n",
       "        vertical-align: top;\n",
       "    }\n",
       "\n",
       "    .dataframe thead th {\n",
       "        text-align: right;\n",
       "    }\n",
       "</style>\n",
       "<table border=\"1\" class=\"dataframe\">\n",
       "  <thead>\n",
       "    <tr style=\"text-align: right;\">\n",
       "      <th></th>\n",
       "      <th>Crops</th>\n",
       "      <th>total_numbers_of tons</th>\n",
       "      <th>Country</th>\n",
       "    </tr>\n",
       "  </thead>\n",
       "  <tbody>\n",
       "    <tr>\n",
       "      <th>2</th>\n",
       "      <td>rice</td>\n",
       "      <td>2.0</td>\n",
       "      <td>senegal</td>\n",
       "    </tr>\n",
       "    <tr>\n",
       "      <th>0</th>\n",
       "      <td>wheats</td>\n",
       "      <td>3.0</td>\n",
       "      <td>Nigeria</td>\n",
       "    </tr>\n",
       "    <tr>\n",
       "      <th>1</th>\n",
       "      <td>corn</td>\n",
       "      <td>4.5</td>\n",
       "      <td>Ghana</td>\n",
       "    </tr>\n",
       "    <tr>\n",
       "      <th>3</th>\n",
       "      <td>soya beans</td>\n",
       "      <td>5.0</td>\n",
       "      <td>cameroun</td>\n",
       "    </tr>\n",
       "  </tbody>\n",
       "</table>\n",
       "</div>"
      ],
      "text/plain": [
       "        Crops  total_numbers_of tons   Country\n",
       "2        rice                    2.0   senegal\n",
       "0      wheats                    3.0   Nigeria\n",
       "1        corn                    4.5     Ghana\n",
       "3  soya beans                    5.0  cameroun"
      ]
     },
     "execution_count": 627,
     "metadata": {},
     "output_type": "execute_result"
    }
   ],
   "source": [
    "df.sort_values(\"total_numbers_of tons\").head()"
   ]
  },
  {
   "cell_type": "code",
   "execution_count": 629,
   "id": "4d8094e5-0f4e-4bd3-9ec6-4e04fdc62be9",
   "metadata": {},
   "outputs": [
    {
     "data": {
      "text/html": [
       "<div>\n",
       "<style scoped>\n",
       "    .dataframe tbody tr th:only-of-type {\n",
       "        vertical-align: middle;\n",
       "    }\n",
       "\n",
       "    .dataframe tbody tr th {\n",
       "        vertical-align: top;\n",
       "    }\n",
       "\n",
       "    .dataframe thead th {\n",
       "        text-align: right;\n",
       "    }\n",
       "</style>\n",
       "<table border=\"1\" class=\"dataframe\">\n",
       "  <thead>\n",
       "    <tr style=\"text-align: right;\">\n",
       "      <th></th>\n",
       "      <th>Crops</th>\n",
       "      <th>total_numbers_of tons</th>\n",
       "      <th>Country</th>\n",
       "    </tr>\n",
       "  </thead>\n",
       "  <tbody>\n",
       "    <tr>\n",
       "      <th>1</th>\n",
       "      <td>corn</td>\n",
       "      <td>4.5</td>\n",
       "      <td>Ghana</td>\n",
       "    </tr>\n",
       "    <tr>\n",
       "      <th>0</th>\n",
       "      <td>wheats</td>\n",
       "      <td>3.0</td>\n",
       "      <td>Nigeria</td>\n",
       "    </tr>\n",
       "    <tr>\n",
       "      <th>3</th>\n",
       "      <td>soya beans</td>\n",
       "      <td>5.0</td>\n",
       "      <td>cameroun</td>\n",
       "    </tr>\n",
       "    <tr>\n",
       "      <th>2</th>\n",
       "      <td>rice</td>\n",
       "      <td>2.0</td>\n",
       "      <td>senegal</td>\n",
       "    </tr>\n",
       "  </tbody>\n",
       "</table>\n",
       "</div>"
      ],
      "text/plain": [
       "        Crops  total_numbers_of tons   Country\n",
       "1        corn                    4.5     Ghana\n",
       "0      wheats                    3.0   Nigeria\n",
       "3  soya beans                    5.0  cameroun\n",
       "2        rice                    2.0   senegal"
      ]
     },
     "execution_count": 629,
     "metadata": {},
     "output_type": "execute_result"
    }
   ],
   "source": [
    "df.sort_values(\"Country\").head()"
   ]
  },
  {
   "cell_type": "code",
   "execution_count": 635,
   "id": "854bf286-fe6e-4b4d-8317-5dd94f434dd3",
   "metadata": {},
   "outputs": [
    {
     "data": {
      "text/html": [
       "<div>\n",
       "<style scoped>\n",
       "    .dataframe tbody tr th:only-of-type {\n",
       "        vertical-align: middle;\n",
       "    }\n",
       "\n",
       "    .dataframe tbody tr th {\n",
       "        vertical-align: top;\n",
       "    }\n",
       "\n",
       "    .dataframe thead th {\n",
       "        text-align: right;\n",
       "    }\n",
       "</style>\n",
       "<table border=\"1\" class=\"dataframe\">\n",
       "  <thead>\n",
       "    <tr style=\"text-align: right;\">\n",
       "      <th></th>\n",
       "      <th>Crops</th>\n",
       "      <th>total_numbers_of tons</th>\n",
       "      <th>Country</th>\n",
       "    </tr>\n",
       "  </thead>\n",
       "  <tbody>\n",
       "    <tr>\n",
       "      <th>1</th>\n",
       "      <td>corn</td>\n",
       "      <td>4.5</td>\n",
       "      <td>Ghana</td>\n",
       "    </tr>\n",
       "    <tr>\n",
       "      <th>2</th>\n",
       "      <td>rice</td>\n",
       "      <td>2.0</td>\n",
       "      <td>senegal</td>\n",
       "    </tr>\n",
       "    <tr>\n",
       "      <th>3</th>\n",
       "      <td>soya beans</td>\n",
       "      <td>5.0</td>\n",
       "      <td>cameroun</td>\n",
       "    </tr>\n",
       "    <tr>\n",
       "      <th>0</th>\n",
       "      <td>wheats</td>\n",
       "      <td>3.0</td>\n",
       "      <td>Nigeria</td>\n",
       "    </tr>\n",
       "  </tbody>\n",
       "</table>\n",
       "</div>"
      ],
      "text/plain": [
       "        Crops  total_numbers_of tons   Country\n",
       "1        corn                    4.5     Ghana\n",
       "2        rice                    2.0   senegal\n",
       "3  soya beans                    5.0  cameroun\n",
       "0      wheats                    3.0   Nigeria"
      ]
     },
     "execution_count": 635,
     "metadata": {},
     "output_type": "execute_result"
    }
   ],
   "source": [
    "df.sort_values([\"Crops\", \"Country\"]).head()"
   ]
  },
  {
   "cell_type": "code",
   "execution_count": 639,
   "id": "ea8dceff-fef8-4737-837b-d4f60ccfb040",
   "metadata": {},
   "outputs": [
    {
     "data": {
      "text/html": [
       "<div>\n",
       "<style scoped>\n",
       "    .dataframe tbody tr th:only-of-type {\n",
       "        vertical-align: middle;\n",
       "    }\n",
       "\n",
       "    .dataframe tbody tr th {\n",
       "        vertical-align: top;\n",
       "    }\n",
       "\n",
       "    .dataframe thead th {\n",
       "        text-align: right;\n",
       "    }\n",
       "</style>\n",
       "<table border=\"1\" class=\"dataframe\">\n",
       "  <thead>\n",
       "    <tr style=\"text-align: right;\">\n",
       "      <th></th>\n",
       "      <th>Crops</th>\n",
       "      <th>total_numbers_of tons</th>\n",
       "      <th>Country</th>\n",
       "    </tr>\n",
       "  </thead>\n",
       "  <tbody>\n",
       "    <tr>\n",
       "      <th>1</th>\n",
       "      <td>corn</td>\n",
       "      <td>4.5</td>\n",
       "      <td>Ghana</td>\n",
       "    </tr>\n",
       "    <tr>\n",
       "      <th>2</th>\n",
       "      <td>rice</td>\n",
       "      <td>2.0</td>\n",
       "      <td>senegal</td>\n",
       "    </tr>\n",
       "    <tr>\n",
       "      <th>3</th>\n",
       "      <td>soya beans</td>\n",
       "      <td>5.0</td>\n",
       "      <td>cameroun</td>\n",
       "    </tr>\n",
       "    <tr>\n",
       "      <th>0</th>\n",
       "      <td>wheats</td>\n",
       "      <td>3.0</td>\n",
       "      <td>Nigeria</td>\n",
       "    </tr>\n",
       "  </tbody>\n",
       "</table>\n",
       "</div>"
      ],
      "text/plain": [
       "        Crops  total_numbers_of tons   Country\n",
       "1        corn                    4.5     Ghana\n",
       "2        rice                    2.0   senegal\n",
       "3  soya beans                    5.0  cameroun\n",
       "0      wheats                    3.0   Nigeria"
      ]
     },
     "execution_count": 639,
     "metadata": {},
     "output_type": "execute_result"
    }
   ],
   "source": [
    "df.sort_values([\"Crops\", \"total_numbers_of tons\"]).head()"
   ]
  },
  {
   "cell_type": "code",
   "execution_count": 641,
   "id": "97d92f12-7e05-428b-a944-f2dfec453c99",
   "metadata": {},
   "outputs": [
    {
     "data": {
      "text/html": [
       "<div>\n",
       "<style scoped>\n",
       "    .dataframe tbody tr th:only-of-type {\n",
       "        vertical-align: middle;\n",
       "    }\n",
       "\n",
       "    .dataframe tbody tr th {\n",
       "        vertical-align: top;\n",
       "    }\n",
       "\n",
       "    .dataframe thead th {\n",
       "        text-align: right;\n",
       "    }\n",
       "</style>\n",
       "<table border=\"1\" class=\"dataframe\">\n",
       "  <thead>\n",
       "    <tr style=\"text-align: right;\">\n",
       "      <th></th>\n",
       "      <th>Crops</th>\n",
       "      <th>total_numbers_of tons</th>\n",
       "      <th>Country</th>\n",
       "    </tr>\n",
       "  </thead>\n",
       "  <tbody>\n",
       "    <tr>\n",
       "      <th>1</th>\n",
       "      <td>corn</td>\n",
       "      <td>4.5</td>\n",
       "      <td>Ghana</td>\n",
       "    </tr>\n",
       "    <tr>\n",
       "      <th>2</th>\n",
       "      <td>rice</td>\n",
       "      <td>2.0</td>\n",
       "      <td>senegal</td>\n",
       "    </tr>\n",
       "    <tr>\n",
       "      <th>3</th>\n",
       "      <td>soya beans</td>\n",
       "      <td>5.0</td>\n",
       "      <td>cameroun</td>\n",
       "    </tr>\n",
       "    <tr>\n",
       "      <th>0</th>\n",
       "      <td>wheats</td>\n",
       "      <td>3.0</td>\n",
       "      <td>Nigeria</td>\n",
       "    </tr>\n",
       "  </tbody>\n",
       "</table>\n",
       "</div>"
      ],
      "text/plain": [
       "        Crops  total_numbers_of tons   Country\n",
       "1        corn                    4.5     Ghana\n",
       "2        rice                    2.0   senegal\n",
       "3  soya beans                    5.0  cameroun\n",
       "0      wheats                    3.0   Nigeria"
      ]
     },
     "execution_count": 641,
     "metadata": {},
     "output_type": "execute_result"
    }
   ],
   "source": [
    "df.sort_values([\"Crops\", \"total_numbers_of tons\", \"Country\"]).head()"
   ]
  },
  {
   "cell_type": "code",
   "execution_count": 643,
   "id": "2a4009d3-e9e3-46f7-a5d3-5872f8d064ca",
   "metadata": {},
   "outputs": [
    {
     "data": {
      "text/html": [
       "<div>\n",
       "<style scoped>\n",
       "    .dataframe tbody tr th:only-of-type {\n",
       "        vertical-align: middle;\n",
       "    }\n",
       "\n",
       "    .dataframe tbody tr th {\n",
       "        vertical-align: top;\n",
       "    }\n",
       "\n",
       "    .dataframe thead th {\n",
       "        text-align: right;\n",
       "    }\n",
       "</style>\n",
       "<table border=\"1\" class=\"dataframe\">\n",
       "  <thead>\n",
       "    <tr style=\"text-align: right;\">\n",
       "      <th></th>\n",
       "      <th>Crops</th>\n",
       "      <th>total_numbers_of tons</th>\n",
       "      <th>Country</th>\n",
       "    </tr>\n",
       "  </thead>\n",
       "  <tbody>\n",
       "    <tr>\n",
       "      <th>1</th>\n",
       "      <td>corn</td>\n",
       "      <td>4.5</td>\n",
       "      <td>Ghana</td>\n",
       "    </tr>\n",
       "    <tr>\n",
       "      <th>2</th>\n",
       "      <td>rice</td>\n",
       "      <td>2.0</td>\n",
       "      <td>senegal</td>\n",
       "    </tr>\n",
       "  </tbody>\n",
       "</table>\n",
       "</div>"
      ],
      "text/plain": [
       "  Crops  total_numbers_of tons  Country\n",
       "1  corn                    4.5    Ghana\n",
       "2  rice                    2.0  senegal"
      ]
     },
     "execution_count": 643,
     "metadata": {},
     "output_type": "execute_result"
    }
   ],
   "source": [
    "df.sort_values([\"Crops\", \"total_numbers_of tons\", \"Country\"]).head(2)"
   ]
  },
  {
   "cell_type": "code",
   "execution_count": 645,
   "id": "0d688536-341c-4b74-9e2c-67b173ef7416",
   "metadata": {},
   "outputs": [
    {
     "data": {
      "text/html": [
       "<div>\n",
       "<style scoped>\n",
       "    .dataframe tbody tr th:only-of-type {\n",
       "        vertical-align: middle;\n",
       "    }\n",
       "\n",
       "    .dataframe tbody tr th {\n",
       "        vertical-align: top;\n",
       "    }\n",
       "\n",
       "    .dataframe thead th {\n",
       "        text-align: right;\n",
       "    }\n",
       "</style>\n",
       "<table border=\"1\" class=\"dataframe\">\n",
       "  <thead>\n",
       "    <tr style=\"text-align: right;\">\n",
       "      <th></th>\n",
       "      <th>Crops</th>\n",
       "      <th>total_numbers_of tons</th>\n",
       "      <th>Country</th>\n",
       "    </tr>\n",
       "  </thead>\n",
       "  <tbody>\n",
       "    <tr>\n",
       "      <th>3</th>\n",
       "      <td>soya beans</td>\n",
       "      <td>5.0</td>\n",
       "      <td>cameroun</td>\n",
       "    </tr>\n",
       "    <tr>\n",
       "      <th>0</th>\n",
       "      <td>wheats</td>\n",
       "      <td>3.0</td>\n",
       "      <td>Nigeria</td>\n",
       "    </tr>\n",
       "  </tbody>\n",
       "</table>\n",
       "</div>"
      ],
      "text/plain": [
       "        Crops  total_numbers_of tons   Country\n",
       "3  soya beans                    5.0  cameroun\n",
       "0      wheats                    3.0   Nigeria"
      ]
     },
     "execution_count": 645,
     "metadata": {},
     "output_type": "execute_result"
    }
   ],
   "source": [
    "df.sort_values([\"Crops\", \"total_numbers_of tons\", \"Country\"]).tail(2)"
   ]
  },
  {
   "cell_type": "code",
   "execution_count": 649,
   "id": "549cacbb-982c-4660-a557-8bffe68cc74d",
   "metadata": {},
   "outputs": [
    {
     "data": {
      "text/html": [
       "<div>\n",
       "<style scoped>\n",
       "    .dataframe tbody tr th:only-of-type {\n",
       "        vertical-align: middle;\n",
       "    }\n",
       "\n",
       "    .dataframe tbody tr th {\n",
       "        vertical-align: top;\n",
       "    }\n",
       "\n",
       "    .dataframe thead th {\n",
       "        text-align: right;\n",
       "    }\n",
       "</style>\n",
       "<table border=\"1\" class=\"dataframe\">\n",
       "  <thead>\n",
       "    <tr style=\"text-align: right;\">\n",
       "      <th></th>\n",
       "      <th>Crops</th>\n",
       "      <th>total_numbers_of tons</th>\n",
       "      <th>Country</th>\n",
       "    </tr>\n",
       "  </thead>\n",
       "  <tbody>\n",
       "    <tr>\n",
       "      <th>0</th>\n",
       "      <td>wheats</td>\n",
       "      <td>3.0</td>\n",
       "      <td>Nigeria</td>\n",
       "    </tr>\n",
       "    <tr>\n",
       "      <th>3</th>\n",
       "      <td>soya beans</td>\n",
       "      <td>5.0</td>\n",
       "      <td>cameroun</td>\n",
       "    </tr>\n",
       "    <tr>\n",
       "      <th>2</th>\n",
       "      <td>rice</td>\n",
       "      <td>2.0</td>\n",
       "      <td>senegal</td>\n",
       "    </tr>\n",
       "    <tr>\n",
       "      <th>1</th>\n",
       "      <td>corn</td>\n",
       "      <td>4.5</td>\n",
       "      <td>Ghana</td>\n",
       "    </tr>\n",
       "  </tbody>\n",
       "</table>\n",
       "</div>"
      ],
      "text/plain": [
       "        Crops  total_numbers_of tons   Country\n",
       "0      wheats                    3.0   Nigeria\n",
       "3  soya beans                    5.0  cameroun\n",
       "2        rice                    2.0   senegal\n",
       "1        corn                    4.5     Ghana"
      ]
     },
     "execution_count": 649,
     "metadata": {},
     "output_type": "execute_result"
    }
   ],
   "source": [
    "df.sort_values([\"Crops\", \"total_numbers_of tons\"], ascending=False).head()"
   ]
  },
  {
   "cell_type": "code",
   "execution_count": 655,
   "id": "583f0be9-5c05-488d-8a1f-0bf526ca5984",
   "metadata": {},
   "outputs": [
    {
     "data": {
      "text/plain": [
       "0    False\n",
       "1     True\n",
       "2    False\n",
       "3     True\n",
       "Name: total_numbers_of tons, dtype: bool"
      ]
     },
     "execution_count": 655,
     "metadata": {},
     "output_type": "execute_result"
    }
   ],
   "source": [
    "df[\"total_numbers_of tons\"] > 4"
   ]
  },
  {
   "cell_type": "code",
   "execution_count": 657,
   "id": "9fbc2215-33c5-4ac5-91fd-e3accfd889e3",
   "metadata": {},
   "outputs": [
    {
     "data": {
      "text/plain": [
       "0    False\n",
       "1    False\n",
       "2    False\n",
       "3    False\n",
       "Name: total_numbers_of tons, dtype: bool"
      ]
     },
     "execution_count": 657,
     "metadata": {},
     "output_type": "execute_result"
    }
   ],
   "source": [
    "df[\"total_numbers_of tons\"] < 2"
   ]
  },
  {
   "cell_type": "code",
   "execution_count": 661,
   "id": "f8eecd72-b5ee-454b-9979-a54a2acc6f77",
   "metadata": {},
   "outputs": [
    {
     "data": {
      "text/plain": [
       "0     True\n",
       "1    False\n",
       "2     True\n",
       "3    False\n",
       "Name: total_numbers_of tons, dtype: bool"
      ]
     },
     "execution_count": 661,
     "metadata": {},
     "output_type": "execute_result"
    }
   ],
   "source": [
    "df[\"total_numbers_of tons\"] < 4"
   ]
  },
  {
   "cell_type": "code",
   "execution_count": 669,
   "id": "5d9c51db-e1d8-4ed5-883d-973bd5777b39",
   "metadata": {},
   "outputs": [
    {
     "data": {
      "text/html": [
       "<div>\n",
       "<style scoped>\n",
       "    .dataframe tbody tr th:only-of-type {\n",
       "        vertical-align: middle;\n",
       "    }\n",
       "\n",
       "    .dataframe tbody tr th {\n",
       "        vertical-align: top;\n",
       "    }\n",
       "\n",
       "    .dataframe thead th {\n",
       "        text-align: right;\n",
       "    }\n",
       "</style>\n",
       "<table border=\"1\" class=\"dataframe\">\n",
       "  <thead>\n",
       "    <tr style=\"text-align: right;\">\n",
       "      <th></th>\n",
       "      <th>total_numbers_of tons</th>\n",
       "      <th>Country</th>\n",
       "    </tr>\n",
       "  </thead>\n",
       "  <tbody>\n",
       "    <tr>\n",
       "      <th>0</th>\n",
       "      <td>3.0</td>\n",
       "      <td>Nigeria</td>\n",
       "    </tr>\n",
       "    <tr>\n",
       "      <th>1</th>\n",
       "      <td>4.5</td>\n",
       "      <td>Ghana</td>\n",
       "    </tr>\n",
       "    <tr>\n",
       "      <th>2</th>\n",
       "      <td>2.0</td>\n",
       "      <td>senegal</td>\n",
       "    </tr>\n",
       "    <tr>\n",
       "      <th>3</th>\n",
       "      <td>5.0</td>\n",
       "      <td>cameroun</td>\n",
       "    </tr>\n",
       "  </tbody>\n",
       "</table>\n",
       "</div>"
      ],
      "text/plain": [
       "   total_numbers_of tons   Country\n",
       "0                    3.0   Nigeria\n",
       "1                    4.5     Ghana\n",
       "2                    2.0   senegal\n",
       "3                    5.0  cameroun"
      ]
     },
     "execution_count": 669,
     "metadata": {},
     "output_type": "execute_result"
    }
   ],
   "source": [
    "df.drop(\"Crops\", axis=1)"
   ]
  },
  {
   "cell_type": "code",
   "execution_count": 673,
   "id": "a64e7ac8-94f1-4e12-83c6-84ac5ad7c27a",
   "metadata": {},
   "outputs": [
    {
     "data": {
      "text/html": [
       "<div>\n",
       "<style scoped>\n",
       "    .dataframe tbody tr th:only-of-type {\n",
       "        vertical-align: middle;\n",
       "    }\n",
       "\n",
       "    .dataframe tbody tr th {\n",
       "        vertical-align: top;\n",
       "    }\n",
       "\n",
       "    .dataframe thead th {\n",
       "        text-align: right;\n",
       "    }\n",
       "</style>\n",
       "<table border=\"1\" class=\"dataframe\">\n",
       "  <thead>\n",
       "    <tr style=\"text-align: right;\">\n",
       "      <th></th>\n",
       "      <th>Crops</th>\n",
       "      <th>Country</th>\n",
       "    </tr>\n",
       "    <tr>\n",
       "      <th>total_numbers_of tons</th>\n",
       "      <th></th>\n",
       "      <th></th>\n",
       "    </tr>\n",
       "  </thead>\n",
       "  <tbody>\n",
       "    <tr>\n",
       "      <th>2.0</th>\n",
       "      <td>rice</td>\n",
       "      <td>senegal</td>\n",
       "    </tr>\n",
       "    <tr>\n",
       "      <th>3.0</th>\n",
       "      <td>wheats</td>\n",
       "      <td>Nigeria</td>\n",
       "    </tr>\n",
       "    <tr>\n",
       "      <th>4.5</th>\n",
       "      <td>corn</td>\n",
       "      <td>Ghana</td>\n",
       "    </tr>\n",
       "    <tr>\n",
       "      <th>5.0</th>\n",
       "      <td>soya beans</td>\n",
       "      <td>cameroun</td>\n",
       "    </tr>\n",
       "  </tbody>\n",
       "</table>\n",
       "</div>"
      ],
      "text/plain": [
       "                            Crops   Country\n",
       "total_numbers_of tons                      \n",
       "2.0                          rice   senegal\n",
       "3.0                        wheats   Nigeria\n",
       "4.5                          corn     Ghana\n",
       "5.0                    soya beans  cameroun"
      ]
     },
     "execution_count": 673,
     "metadata": {},
     "output_type": "execute_result"
    }
   ],
   "source": [
    "df.groupby(\"total_numbers_of tons\").sum()"
   ]
  },
  {
   "cell_type": "code",
   "execution_count": 675,
   "id": "e490d3d5-8934-48b5-b85c-6083a0746a2f",
   "metadata": {},
   "outputs": [
    {
     "data": {
      "text/html": [
       "<div>\n",
       "<style scoped>\n",
       "    .dataframe tbody tr th:only-of-type {\n",
       "        vertical-align: middle;\n",
       "    }\n",
       "\n",
       "    .dataframe tbody tr th {\n",
       "        vertical-align: top;\n",
       "    }\n",
       "\n",
       "    .dataframe thead th {\n",
       "        text-align: right;\n",
       "    }\n",
       "</style>\n",
       "<table border=\"1\" class=\"dataframe\">\n",
       "  <thead>\n",
       "    <tr style=\"text-align: right;\">\n",
       "      <th></th>\n",
       "      <th>Crops</th>\n",
       "      <th>Country</th>\n",
       "    </tr>\n",
       "    <tr>\n",
       "      <th>total_numbers_of tons</th>\n",
       "      <th></th>\n",
       "      <th></th>\n",
       "    </tr>\n",
       "  </thead>\n",
       "  <tbody>\n",
       "    <tr>\n",
       "      <th>2.0</th>\n",
       "      <td>rice</td>\n",
       "      <td>senegal</td>\n",
       "    </tr>\n",
       "    <tr>\n",
       "      <th>3.0</th>\n",
       "      <td>wheats</td>\n",
       "      <td>Nigeria</td>\n",
       "    </tr>\n",
       "    <tr>\n",
       "      <th>4.5</th>\n",
       "      <td>corn</td>\n",
       "      <td>Ghana</td>\n",
       "    </tr>\n",
       "    <tr>\n",
       "      <th>5.0</th>\n",
       "      <td>soya beans</td>\n",
       "      <td>cameroun</td>\n",
       "    </tr>\n",
       "  </tbody>\n",
       "</table>\n",
       "</div>"
      ],
      "text/plain": [
       "                            Crops   Country\n",
       "total_numbers_of tons                      \n",
       "2.0                          rice   senegal\n",
       "3.0                        wheats   Nigeria\n",
       "4.5                          corn     Ghana\n",
       "5.0                    soya beans  cameroun"
      ]
     },
     "execution_count": 675,
     "metadata": {},
     "output_type": "execute_result"
    }
   ],
   "source": [
    "df.groupby(\"total_numbers_of tons\").max()"
   ]
  },
  {
   "cell_type": "code",
   "execution_count": 681,
   "id": "7ca77a5c-e4b0-4c11-9b06-fbba215a2f3a",
   "metadata": {},
   "outputs": [
    {
     "data": {
      "text/html": [
       "<div>\n",
       "<style scoped>\n",
       "    .dataframe tbody tr th:only-of-type {\n",
       "        vertical-align: middle;\n",
       "    }\n",
       "\n",
       "    .dataframe tbody tr th {\n",
       "        vertical-align: top;\n",
       "    }\n",
       "\n",
       "    .dataframe thead th {\n",
       "        text-align: right;\n",
       "    }\n",
       "</style>\n",
       "<table border=\"1\" class=\"dataframe\">\n",
       "  <thead>\n",
       "    <tr style=\"text-align: right;\">\n",
       "      <th></th>\n",
       "      <th>Crops</th>\n",
       "      <th>Country</th>\n",
       "    </tr>\n",
       "    <tr>\n",
       "      <th>total_numbers_of tons</th>\n",
       "      <th></th>\n",
       "      <th></th>\n",
       "    </tr>\n",
       "  </thead>\n",
       "  <tbody>\n",
       "    <tr>\n",
       "      <th>2.0</th>\n",
       "      <td>rice</td>\n",
       "      <td>senegal</td>\n",
       "    </tr>\n",
       "    <tr>\n",
       "      <th>3.0</th>\n",
       "      <td>wheats</td>\n",
       "      <td>Nigeria</td>\n",
       "    </tr>\n",
       "    <tr>\n",
       "      <th>4.5</th>\n",
       "      <td>corn</td>\n",
       "      <td>Ghana</td>\n",
       "    </tr>\n",
       "    <tr>\n",
       "      <th>5.0</th>\n",
       "      <td>soya beans</td>\n",
       "      <td>cameroun</td>\n",
       "    </tr>\n",
       "  </tbody>\n",
       "</table>\n",
       "</div>"
      ],
      "text/plain": [
       "                            Crops   Country\n",
       "total_numbers_of tons                      \n",
       "2.0                          rice   senegal\n",
       "3.0                        wheats   Nigeria\n",
       "4.5                          corn     Ghana\n",
       "5.0                    soya beans  cameroun"
      ]
     },
     "execution_count": 681,
     "metadata": {},
     "output_type": "execute_result"
    }
   ],
   "source": [
    "df.groupby(\"total_numbers_of tons\").min()"
   ]
  },
  {
   "cell_type": "code",
   "execution_count": 611,
   "id": "567672c5-e95c-462c-a4e0-11f6e0f2556b",
   "metadata": {},
   "outputs": [
    {
     "data": {
      "text/plain": [
       "Crops                     wheats\n",
       "total_numbers_of tons        3.0\n",
       "Country                  Nigeria\n",
       "Name: 0, dtype: object"
      ]
     },
     "execution_count": 611,
     "metadata": {},
     "output_type": "execute_result"
    }
   ],
   "source": [
    "df.loc[0]"
   ]
  },
  {
   "cell_type": "code",
   "execution_count": 613,
   "id": "315c4a8d-de4d-4978-bf4f-480d3df5f599",
   "metadata": {},
   "outputs": [
    {
     "data": {
      "text/plain": [
       "Crops                       rice\n",
       "total_numbers_of tons        2.0\n",
       "Country                  senegal\n",
       "Name: 2, dtype: object"
      ]
     },
     "execution_count": 613,
     "metadata": {},
     "output_type": "execute_result"
    }
   ],
   "source": [
    "df.loc[2]"
   ]
  },
  {
   "cell_type": "code",
   "execution_count": 615,
   "id": "7a435e61-4a4d-4317-a862-29f549e19b19",
   "metadata": {},
   "outputs": [
    {
     "data": {
      "text/html": [
       "<div>\n",
       "<style scoped>\n",
       "    .dataframe tbody tr th:only-of-type {\n",
       "        vertical-align: middle;\n",
       "    }\n",
       "\n",
       "    .dataframe tbody tr th {\n",
       "        vertical-align: top;\n",
       "    }\n",
       "\n",
       "    .dataframe thead th {\n",
       "        text-align: right;\n",
       "    }\n",
       "</style>\n",
       "<table border=\"1\" class=\"dataframe\">\n",
       "  <thead>\n",
       "    <tr style=\"text-align: right;\">\n",
       "      <th></th>\n",
       "      <th>Crops</th>\n",
       "      <th>total_numbers_of tons</th>\n",
       "      <th>Country</th>\n",
       "    </tr>\n",
       "  </thead>\n",
       "  <tbody>\n",
       "    <tr>\n",
       "      <th>1</th>\n",
       "      <td>corn</td>\n",
       "      <td>4.5</td>\n",
       "      <td>Ghana</td>\n",
       "    </tr>\n",
       "    <tr>\n",
       "      <th>2</th>\n",
       "      <td>rice</td>\n",
       "      <td>2.0</td>\n",
       "      <td>senegal</td>\n",
       "    </tr>\n",
       "  </tbody>\n",
       "</table>\n",
       "</div>"
      ],
      "text/plain": [
       "  Crops  total_numbers_of tons  Country\n",
       "1  corn                    4.5    Ghana\n",
       "2  rice                    2.0  senegal"
      ]
     },
     "execution_count": 615,
     "metadata": {},
     "output_type": "execute_result"
    }
   ],
   "source": [
    "df.iloc[1:3]"
   ]
  },
  {
   "cell_type": "code",
   "execution_count": null,
   "id": "6a5516a5-4cae-47cb-8452-d28b765c3f33",
   "metadata": {},
   "outputs": [],
   "source": []
  }
 ],
 "metadata": {
  "kernelspec": {
   "display_name": "Python 3 (ipykernel)",
   "language": "python",
   "name": "python3"
  },
  "language_info": {
   "codemirror_mode": {
    "name": "ipython",
    "version": 3
   },
   "file_extension": ".py",
   "mimetype": "text/x-python",
   "name": "python",
   "nbconvert_exporter": "python",
   "pygments_lexer": "ipython3",
   "version": "3.12.7"
  }
 },
 "nbformat": 4,
 "nbformat_minor": 5
}
